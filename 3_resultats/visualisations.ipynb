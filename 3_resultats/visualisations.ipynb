{
 "cells": [
  {
   "cell_type": "code",
   "execution_count": 141,
   "id": "manual-memory",
   "metadata": {},
   "outputs": [],
   "source": [
    "# -*- coding: utf-8 -*-\n",
    "# Anaëlle Pierredon et Jianying Liu\n",
    "\n",
    "\"\"\"\n",
    "Ce notebook permet de faire des visualisations de nos fichiers résultats et notamment :\n",
    "\n",
    "- Cas selon le type de MWE\n",
    "- Cas selon le corpus\n",
    "- Validation selon Cas + catégorie\n",
    "\n",
    "- Vrais selon le type de MWE\n",
    "- Vrais selon le cas\n",
    "- Quelque chose avec le degré\n",
    "\n",
    "- Nombre d'expressions différentes (lemmes)\n",
    "- VID les plus courantes\n",
    "- LVC les plus courantes\n",
    "- Répartitions de la validation de quelques expressions les plus courantes\n",
    "\"\"\"\n",
    "\n",
    "import re\n",
    "import glob\n",
    "import json\n",
    "import pandas as pd\n",
    "import numpy as np\n",
    "import matplotlib.pyplot as plt\n",
    "from collections import Counter\n",
    "\n",
    "plt.rcParams[\"figure.figsize\"] = (16,10)"
   ]
  },
  {
   "cell_type": "markdown",
   "id": "focal-criminal",
   "metadata": {},
   "source": [
    "# Lecture des fichiers"
   ]
  },
  {
   "cell_type": "code",
   "execution_count": 104,
   "id": "physical-netherlands",
   "metadata": {},
   "outputs": [
    {
     "data": {
      "text/html": [
       "<div>\n",
       "<style scoped>\n",
       "    .dataframe tbody tr th:only-of-type {\n",
       "        vertical-align: middle;\n",
       "    }\n",
       "\n",
       "    .dataframe tbody tr th {\n",
       "        vertical-align: top;\n",
       "    }\n",
       "\n",
       "    .dataframe thead th {\n",
       "        text-align: right;\n",
       "    }\n",
       "</style>\n",
       "<table border=\"1\" class=\"dataframe\">\n",
       "  <thead>\n",
       "    <tr style=\"text-align: right;\">\n",
       "      <th></th>\n",
       "      <th>FICHIER</th>\n",
       "      <th>PHRASE</th>\n",
       "      <th>TOKENS</th>\n",
       "      <th>COREF</th>\n",
       "      <th>CAS</th>\n",
       "      <th>CHAINE(S)</th>\n",
       "      <th>VALIDATION</th>\n",
       "      <th>DEGRE DE COMPOSITIONNALITE</th>\n",
       "      <th>SOURCE D'ERREUR</th>\n",
       "      <th>TYPE</th>\n",
       "      <th>CORPUS</th>\n",
       "    </tr>\n",
       "  </thead>\n",
       "  <tbody>\n",
       "    <tr>\n",
       "      <th>406</th>\n",
       "      <td>CO2_ESLO_003_C_mwe_coref.cupt</td>\n",
       "      <td>alors il y a eu un il y a eu un intermède où p...</td>\n",
       "      <td>['gardé', 'souvenir']</td>\n",
       "      <td>['*', '227:1903']</td>\n",
       "      <td>{'1903': 4}</td>\n",
       "      <td>{'227': '{'1903': ['un', 'souvenir', 'euh', 't...</td>\n",
       "      <td>vrai</td>\n",
       "      <td></td>\n",
       "      <td>[]</td>\n",
       "      <td>LVC.full</td>\n",
       "      <td>ancor_ESLO_CO2</td>\n",
       "    </tr>\n",
       "    <tr>\n",
       "      <th>407</th>\n",
       "      <td>CO2_ESLO_003_C_mwe_coref.cupt</td>\n",
       "      <td>oui oui oui oui oui j' ai été au vingt-quatre ...</td>\n",
       "      <td>['pris', 'photos']</td>\n",
       "      <td>['*', '255:2002']</td>\n",
       "      <td>{'2002': 4}</td>\n",
       "      <td>{'255': '{'1989': ['de', 'les', 'photos', 'de'...</td>\n",
       "      <td>vrai</td>\n",
       "      <td></td>\n",
       "      <td>[]</td>\n",
       "      <td>LVC.full</td>\n",
       "      <td>ancor_ESLO_CO2</td>\n",
       "    </tr>\n",
       "    <tr>\n",
       "      <th>408</th>\n",
       "      <td>CO2_ESLO_002_C_mwe_coref.cupt</td>\n",
       "      <td>sur la maquette oui voyez- vous ? parce que eu...</td>\n",
       "      <td>['vous', 'mis']</td>\n",
       "      <td>['98:1138', '*']</td>\n",
       "      <td>{'1138': 3}</td>\n",
       "      <td>{'98': '{'1087': ['les', 'peintres'], '1092': ...</td>\n",
       "      <td>faux</td>\n",
       "      <td></td>\n",
       "      <td>[MWE incorrecte]</td>\n",
       "      <td>IRV</td>\n",
       "      <td>ancor_ESLO_CO2</td>\n",
       "    </tr>\n",
       "  </tbody>\n",
       "</table>\n",
       "</div>"
      ],
      "text/plain": [
       "                           FICHIER  \\\n",
       "406  CO2_ESLO_003_C_mwe_coref.cupt   \n",
       "407  CO2_ESLO_003_C_mwe_coref.cupt   \n",
       "408  CO2_ESLO_002_C_mwe_coref.cupt   \n",
       "\n",
       "                                                PHRASE                 TOKENS  \\\n",
       "406  alors il y a eu un il y a eu un intermède où p...  ['gardé', 'souvenir']   \n",
       "407  oui oui oui oui oui j' ai été au vingt-quatre ...     ['pris', 'photos']   \n",
       "408  sur la maquette oui voyez- vous ? parce que eu...        ['vous', 'mis']   \n",
       "\n",
       "                 COREF          CAS  \\\n",
       "406  ['*', '227:1903']  {'1903': 4}   \n",
       "407  ['*', '255:2002']  {'2002': 4}   \n",
       "408   ['98:1138', '*']  {'1138': 3}   \n",
       "\n",
       "                                             CHAINE(S) VALIDATION  \\\n",
       "406  {'227': '{'1903': ['un', 'souvenir', 'euh', 't...       vrai   \n",
       "407  {'255': '{'1989': ['de', 'les', 'photos', 'de'...       vrai   \n",
       "408  {'98': '{'1087': ['les', 'peintres'], '1092': ...       faux   \n",
       "\n",
       "    DEGRE DE COMPOSITIONNALITE   SOURCE D'ERREUR      TYPE          CORPUS  \n",
       "406                                           []  LVC.full  ancor_ESLO_CO2  \n",
       "407                                           []  LVC.full  ancor_ESLO_CO2  \n",
       "408                             [MWE incorrecte]       IRV  ancor_ESLO_CO2  "
      ]
     },
     "execution_count": 104,
     "metadata": {},
     "output_type": "execute_result"
    }
   ],
   "source": [
    "# Lecture des fichiers json et création d'un pandas dataframe contenant les résultats de tous les corpus\n",
    "# Chaque ligne du dataframe correspond à une expression trouvée\n",
    "liste_fichiers = []\n",
    "liste_corpus = []\n",
    "liste_types = []\n",
    "df_resultats = pd.DataFrame()\n",
    "\n",
    "for fichier in glob.glob(\"*_validation.json\"):\n",
    "    if \"long\" not in fichier:\n",
    "        corpus = re.sub(\"_[0-9]+_validation.json\", \"\", fichier)\n",
    "        liste_corpus.append(corpus)\n",
    "        with open(fichier, 'r') as json_file:\n",
    "            data = json.load(json_file)\n",
    "            for type_mwe in data:\n",
    "                liste_types.append(type_mwe)\n",
    "                dftmp = pd.DataFrame(data[type_mwe]['MWES'])\n",
    "                dftmp[\"TYPE\"] = type_mwe\n",
    "                dftmp[\"CORPUS\"] = corpus\n",
    "                df_resultats = pd.concat([df_resultats, dftmp], ignore_index = True)\n",
    "liste_types = list(set(liste_types))\n",
    "df_resultats.tail(3)"
   ]
  },
  {
   "cell_type": "code",
   "execution_count": 115,
   "id": "bigger-slide",
   "metadata": {},
   "outputs": [
    {
     "name": "stdout",
     "output_type": "stream",
     "text": [
      "CORPUS : ['ancor_tele', 'ER_0-100', 'frwiki', 'emea', 'ancor_short', 'annodisER', 'ancor_ESLO_CO2']\n",
      "TYPES : ['LVC.cause', 'MVC', 'VID', 'IRV', 'LVC.full']\n"
     ]
    }
   ],
   "source": [
    "# Vérifier les informations\n",
    "print(f\"CORPUS : {liste_corpus}\")\n",
    "print(f\"TYPES : {liste_types}\")"
   ]
  },
  {
   "cell_type": "code",
   "execution_count": 96,
   "id": "domestic-scenario",
   "metadata": {},
   "outputs": [
    {
     "data": {
      "text/plain": [
       "count          409\n",
       "unique           7\n",
       "top       ER_0-100\n",
       "freq            96\n",
       "Name: CORPUS, dtype: object"
      ]
     },
     "execution_count": 96,
     "metadata": {},
     "output_type": "execute_result"
    }
   ],
   "source": [
    "# Nombre d'expressions, Nombre de corpus, Corpus le plus courant\n",
    "df_resultats[\"CORPUS\"].describe()"
   ]
  },
  {
   "cell_type": "markdown",
   "id": "juvenile-perfume",
   "metadata": {},
   "source": [
    "# Graphiques sur les résultats globaux"
   ]
  },
  {
   "cell_type": "code",
   "execution_count": 98,
   "id": "virgin-trace",
   "metadata": {},
   "outputs": [
    {
     "data": {
      "text/html": [
       "<div>\n",
       "<style scoped>\n",
       "    .dataframe tbody tr th:only-of-type {\n",
       "        vertical-align: middle;\n",
       "    }\n",
       "\n",
       "    .dataframe tbody tr th {\n",
       "        vertical-align: top;\n",
       "    }\n",
       "\n",
       "    .dataframe thead th {\n",
       "        text-align: right;\n",
       "    }\n",
       "</style>\n",
       "<table border=\"1\" class=\"dataframe\">\n",
       "  <thead>\n",
       "    <tr style=\"text-align: right;\">\n",
       "      <th></th>\n",
       "      <th>CAS</th>\n",
       "      <th>TYPE</th>\n",
       "      <th>CORPUS</th>\n",
       "      <th>VALIDATION</th>\n",
       "    </tr>\n",
       "  </thead>\n",
       "  <tbody>\n",
       "    <tr>\n",
       "      <th>0</th>\n",
       "      <td>4</td>\n",
       "      <td>VID</td>\n",
       "      <td>ancor_tele</td>\n",
       "      <td>faux</td>\n",
       "    </tr>\n",
       "    <tr>\n",
       "      <th>1</th>\n",
       "      <td>3</td>\n",
       "      <td>VID</td>\n",
       "      <td>ancor_tele</td>\n",
       "      <td>faux</td>\n",
       "    </tr>\n",
       "    <tr>\n",
       "      <th>2</th>\n",
       "      <td>3</td>\n",
       "      <td>VID</td>\n",
       "      <td>ancor_tele</td>\n",
       "      <td>faux</td>\n",
       "    </tr>\n",
       "    <tr>\n",
       "      <th>3</th>\n",
       "      <td>3</td>\n",
       "      <td>VID</td>\n",
       "      <td>ancor_tele</td>\n",
       "      <td>faux</td>\n",
       "    </tr>\n",
       "    <tr>\n",
       "      <th>4</th>\n",
       "      <td>3</td>\n",
       "      <td>VID</td>\n",
       "      <td>ancor_tele</td>\n",
       "      <td>faux</td>\n",
       "    </tr>\n",
       "    <tr>\n",
       "      <th>5</th>\n",
       "      <td>3</td>\n",
       "      <td>VID</td>\n",
       "      <td>ancor_tele</td>\n",
       "      <td>faux</td>\n",
       "    </tr>\n",
       "    <tr>\n",
       "      <th>6</th>\n",
       "      <td>3</td>\n",
       "      <td>VID</td>\n",
       "      <td>ancor_tele</td>\n",
       "      <td>faux</td>\n",
       "    </tr>\n",
       "    <tr>\n",
       "      <th>7</th>\n",
       "      <td>3</td>\n",
       "      <td>VID</td>\n",
       "      <td>ancor_tele</td>\n",
       "      <td>faux</td>\n",
       "    </tr>\n",
       "    <tr>\n",
       "      <th>8</th>\n",
       "      <td>4</td>\n",
       "      <td>LVC.full</td>\n",
       "      <td>ancor_tele</td>\n",
       "      <td>vrai</td>\n",
       "    </tr>\n",
       "    <tr>\n",
       "      <th>9</th>\n",
       "      <td>4</td>\n",
       "      <td>LVC.cause</td>\n",
       "      <td>ER_0-100</td>\n",
       "      <td>faux</td>\n",
       "    </tr>\n",
       "  </tbody>\n",
       "</table>\n",
       "</div>"
      ],
      "text/plain": [
       "  CAS       TYPE      CORPUS VALIDATION\n",
       "0   4        VID  ancor_tele       faux\n",
       "1   3        VID  ancor_tele       faux\n",
       "2   3        VID  ancor_tele       faux\n",
       "3   3        VID  ancor_tele       faux\n",
       "4   3        VID  ancor_tele       faux\n",
       "5   3        VID  ancor_tele       faux\n",
       "6   3        VID  ancor_tele       faux\n",
       "7   3        VID  ancor_tele       faux\n",
       "8   4   LVC.full  ancor_tele       vrai\n",
       "9   4  LVC.cause    ER_0-100       faux"
      ]
     },
     "execution_count": 98,
     "metadata": {},
     "output_type": "execute_result"
    }
   ],
   "source": [
    "# Mini df cas - type - corpus - validation\n",
    "# Chaque ligne correspond à un cas (parfois plusieurs cas pour une expression trouvée)\n",
    "dico = {}\n",
    "cnt = 0\n",
    "for ind in df_resultats.index:\n",
    "    for cas in eval(df_resultats['CAS'][ind]).values():\n",
    "        dico[cnt] = {\"CAS\": cas,\n",
    "                     \"TYPE\": df_resultats['TYPE'][ind],\n",
    "                     \"CORPUS\": df_resultats['CORPUS'][ind],\n",
    "                     \"VALIDATION\": df_resultats['VALIDATION'][ind]}\n",
    "        cnt +=1\n",
    "minidf = pd.DataFrame(dico).T\n",
    "minidf.head(10)"
   ]
  },
  {
   "cell_type": "code",
   "execution_count": 142,
   "id": "indie-framing",
   "metadata": {},
   "outputs": [
    {
     "data": {
      "image/png": "[encoded data removed]",
      "text/plain": [
       "<Figure size 1152x720 with 1 Axes>"
      ]
     },
     "metadata": {
      "needs_background": "light"
     },
     "output_type": "display_data"
    }
   ],
   "source": [
    "# Cas selon le type de MWE\n",
    "\n",
    "# Ordre des types dans les arrays\n",
    "indices = {}\n",
    "for ind, type_mwe in enumerate(liste_types):\n",
    "    indices[type_mwe] = ind\n",
    "\n",
    "# Récupérer les infos pour le graphique\n",
    "infos = {}\n",
    "for ind in minidf.index:\n",
    "    type_mwe = indices[minidf['TYPE'][ind]]\n",
    "    cas = minidf['CAS'][ind]\n",
    "    if cas in infos:\n",
    "        infos[cas][type_mwe] += 1\n",
    "    else:\n",
    "        infos[cas] = np.zeros(len(liste_types))\n",
    "        infos[cas][type_mwe] += 1\n",
    "\n",
    "# Position des infos en abscisses\n",
    "x = np.arange(len(liste_types))\n",
    "barWidth = 0.20\n",
    "r1 = x\n",
    "r2 = [x + barWidth for x in r1]\n",
    "r3 = [x + barWidth for x in r2]\n",
    "r4 = [x + barWidth for x in r3]\n",
    "position = [r1, r2, r3, r4]\n",
    "\n",
    "# Création du graphique\n",
    "fig, ax = plt.subplots()\n",
    "cnt = 0\n",
    "for cas, type_arr in sorted(infos.items(), key=lambda t: t[0]):\n",
    "    elt = ax.bar(position[cnt], type_arr, width=barWidth, label=f'CAS {cas}')\n",
    "    ax.bar_label(elt, padding=3)\n",
    "    cnt += 1\n",
    "ax.legend(loc='center left', bbox_to_anchor=(1, 0.5))\n",
    "ax.set_xticks(x)\n",
    "ax.set_xticklabels(liste_types)\n",
    "ax.set_title(\"Répartition des cas en fonction du type de MWE\")\n",
    "\n",
    "plt.show()"
   ]
  },
  {
   "cell_type": "code",
   "execution_count": 143,
   "id": "substantial-apparatus",
   "metadata": {},
   "outputs": [
    {
     "data": {
      "image/png": "[encoded data removed]",
      "text/plain": [
       "<Figure size 1152x720 with 1 Axes>"
      ]
     },
     "metadata": {
      "needs_background": "light"
     },
     "output_type": "display_data"
    }
   ],
   "source": [
    "# Cas selon le corpus\n",
    "\n",
    "# Ordre des corpus dans les arrays\n",
    "indices = {}\n",
    "for ind, corpus in enumerate(liste_corpus):\n",
    "    indices[corpus] = ind\n",
    "\n",
    "# Récupérer les infos pour le graphique\n",
    "infos = {}\n",
    "for ind in minidf.index:\n",
    "    corpus = indices[minidf['CORPUS'][ind]]\n",
    "    cas = minidf['CAS'][ind]\n",
    "    if cas in infos:\n",
    "        infos[cas][corpus] += 1\n",
    "    else:\n",
    "        infos[cas] = np.zeros(len(liste_corpus))\n",
    "        infos[cas][corpus] += 1\n",
    "\n",
    "# Position des infos en abscisses\n",
    "x = np.arange(len(liste_corpus))\n",
    "barWidth = 0.20\n",
    "r1 = x\n",
    "r2 = [x + barWidth for x in r1]\n",
    "r3 = [x + barWidth for x in r2]\n",
    "r4 = [x + barWidth for x in r3]\n",
    "position = [r1, r2, r3, r4]\n",
    "\n",
    "# Création du graphique\n",
    "fig, ax = plt.subplots()\n",
    "cnt = 0\n",
    "for cas, corpus_arr in sorted(infos.items(), key=lambda t: t[0]):\n",
    "    elt = ax.bar(position[cnt], corpus_arr, width=barWidth, label=f'CAS {cas}')\n",
    "    ax.bar_label(elt, padding=3)\n",
    "    cnt += 1\n",
    "ax.legend(loc='center left', bbox_to_anchor=(1, 0.5))\n",
    "ax.set_xticks(x)\n",
    "ax.set_xticklabels(liste_corpus)\n",
    "ax.set_title(\"Répartition des cas en fonction des corpus\")\n",
    "\n",
    "plt.show()"
   ]
  },
  {
   "cell_type": "code",
   "execution_count": 146,
   "id": "worthy-siemens",
   "metadata": {},
   "outputs": [
    {
     "data": {
      "image/png": "[encoded data removed]",
      "text/plain": [
       "<Figure size 1152x720 with 1 Axes>"
      ]
     },
     "metadata": {
      "needs_background": "light"
     },
     "output_type": "display_data"
    }
   ],
   "source": [
    "# Validation selon Cas + type\n",
    "\n",
    "# Création de la liste des cas + type\n",
    "liste_castypes = []\n",
    "for type_mwe in liste_types:\n",
    "    liste_castypes.extend([f\"1{type_mwe}\", f\"2{type_mwe}\", f\"3{type_mwe}\", f\"4{type_mwe}\"])\n",
    "\n",
    "# Ordre des castypes dans les arrays\n",
    "indices = {}\n",
    "for ind, castype in enumerate(liste_castypes):\n",
    "    indices[castype] = ind\n",
    "\n",
    "# Récupérer les infos pour le graphique\n",
    "infos = {}\n",
    "for ind in minidf.index:\n",
    "    val = minidf['VALIDATION'][ind]\n",
    "    if val not in [\"vrai\", \"faux\", \"discutable\"]:\n",
    "        val = \"autres\"\n",
    "    castype = indices[f\"{minidf['CAS'][ind]}{minidf['TYPE'][ind]}\"]\n",
    "    if val in infos:\n",
    "        infos[val][castype] += 1\n",
    "    else:\n",
    "        infos[val] = np.zeros(len(liste_castypes))\n",
    "        infos[val][castype] += 1\n",
    "\n",
    "# Position des infos en abscisses\n",
    "x = np.arange(len(liste_castypes))\n",
    "barWidth = 0.20\n",
    "r1 = x\n",
    "r2 = [x + barWidth for x in r1]\n",
    "r3 = [x + barWidth for x in r2]\n",
    "r4 = [x + barWidth for x in r3]\n",
    "r5 = [x + barWidth for x in r4]\n",
    "r6 = [x + barWidth for x in r5]\n",
    "r7 = [x + barWidth for x in r6]\n",
    "r8 = [x + barWidth for x in r7]\n",
    "r9 = [x + barWidth for x in r8]\n",
    "position = [r1, r2, r3, r4, r5, r6, r7, r8, r9]\n",
    "\n",
    "# Création du graphique\n",
    "fig, ax = plt.subplots()\n",
    "cnt = 0\n",
    "for val, castype_arr in infos.items():\n",
    "    elt = ax.bar(position[cnt], castype_arr, width=barWidth, label=val)\n",
    "    ax.bar_label(elt, padding=3)\n",
    "    cnt += 1\n",
    "ax.legend(loc='center left', bbox_to_anchor=(1, 0.5))\n",
    "ax.set_xticks(x)\n",
    "ax.set_xticklabels(liste_castypes)\n",
    "ax.set_title(\"Répartition des valeurs de validation en fonction des cas+types\")\n",
    "\n",
    "plt.xticks(rotation=90)\n",
    "plt.show()"
   ]
  },
  {
   "cell_type": "markdown",
   "id": "reliable-cambridge",
   "metadata": {},
   "source": [
    "# Graphiques sur les résultats corrects "
   ]
  },
  {
   "cell_type": "code",
   "execution_count": null,
   "id": "suffering-poverty",
   "metadata": {},
   "outputs": [],
   "source": [
    "# Vrais selon le type de MWE"
   ]
  },
  {
   "cell_type": "code",
   "execution_count": null,
   "id": "noticed-regard",
   "metadata": {},
   "outputs": [],
   "source": [
    "# Vrais selon le cas"
   ]
  },
  {
   "cell_type": "code",
   "execution_count": null,
   "id": "stainless-cambodia",
   "metadata": {},
   "outputs": [],
   "source": [
    "# Quelque chose avec le degré ?"
   ]
  },
  {
   "cell_type": "markdown",
   "id": "finnish-algorithm",
   "metadata": {},
   "source": [
    "# Graphiques sur les expressions polylexicales"
   ]
  },
  {
   "cell_type": "code",
   "execution_count": null,
   "id": "opponent-approval",
   "metadata": {},
   "outputs": [],
   "source": [
    "# Nombre d'expressions différentes (lemmes)"
   ]
  },
  {
   "cell_type": "code",
   "execution_count": null,
   "id": "powered-excerpt",
   "metadata": {},
   "outputs": [],
   "source": [
    "# VID les plus courantes"
   ]
  },
  {
   "cell_type": "code",
   "execution_count": null,
   "id": "renewable-ready",
   "metadata": {},
   "outputs": [],
   "source": [
    "# LVC les plus courantes"
   ]
  },
  {
   "cell_type": "code",
   "execution_count": null,
   "id": "streaming-cherry",
   "metadata": {},
   "outputs": [],
   "source": [
    "# Répartitions de la validation de quelques expressions les plus courantes"
   ]
  }
 ],
 "metadata": {
  "kernelspec": {
   "display_name": "Python 3",
   "language": "python",
   "name": "python3"
  },
  "language_info": {
   "codemirror_mode": {
    "name": "ipython",
    "version": 3
   },
   "file_extension": ".py",
   "mimetype": "text/x-python",
   "name": "python",
   "nbconvert_exporter": "python",
   "pygments_lexer": "ipython3",
   "version": "3.8.10"
  }
 },
 "nbformat": 4,
 "nbformat_minor": 5
}
