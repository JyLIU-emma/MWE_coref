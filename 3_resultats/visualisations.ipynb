{
 "cells": [
  {
   "cell_type": "code",
   "execution_count": 179,
   "id": "manual-memory",
   "metadata": {},
   "outputs": [],
   "source": [
    "# -*- coding: utf-8 -*-\n",
    "# Anaëlle Pierredon et Jianying Liu\n",
    "\n",
    "\"\"\"\n",
    "Ce notebook permet de faire des visualisations de nos fichiers résultats et notamment :\n",
    "\n",
    "- Cas selon le type de MWE\n",
    "- Cas selon le corpus\n",
    "- Validation selon Cas + catégorie\n",
    "\n",
    "- Vrais selon le type de MWE\n",
    "- Vrais selon le cas\n",
    "- Quelque chose avec le degré\n",
    "\n",
    "- Nombre d'expressions différentes (lemmes)\n",
    "- VID les plus courantes\n",
    "- LVC les plus courantes\n",
    "- Répartitions de la validation de quelques expressions les plus courantes\n",
    "\"\"\"\n",
    "\n",
    "import glob\n",
    "import json\n",
    "import pandas as pd\n",
    "import numpy as np\n",
    "import matplotlib.pyplot as plt\n",
    "from collections import Counter\n",
    "\n",
    "plt.rcParams[\"figure.figsize\"] = (13,10)"
   ]
  },
  {
   "cell_type": "markdown",
   "id": "focal-criminal",
   "metadata": {},
   "source": [
    "# Lecture des fichiers"
   ]
  },
  {
   "cell_type": "code",
   "execution_count": 180,
   "id": "physical-netherlands",
   "metadata": {},
   "outputs": [
    {
     "name": "stdout",
     "output_type": "stream",
     "text": [
      "ER\n",
      "frwiki\n",
      "emea\n",
      "annodisER\n"
     ]
    },
    {
     "data": {
      "text/html": [
       "<div>\n",
       "<style scoped>\n",
       "    .dataframe tbody tr th:only-of-type {\n",
       "        vertical-align: middle;\n",
       "    }\n",
       "\n",
       "    .dataframe tbody tr th {\n",
       "        vertical-align: top;\n",
       "    }\n",
       "\n",
       "    .dataframe thead th {\n",
       "        text-align: right;\n",
       "    }\n",
       "</style>\n",
       "<table border=\"1\" class=\"dataframe\">\n",
       "  <thead>\n",
       "    <tr style=\"text-align: right;\">\n",
       "      <th></th>\n",
       "      <th>FICHIER</th>\n",
       "      <th>PHRASE</th>\n",
       "      <th>TOKENS</th>\n",
       "      <th>COREF</th>\n",
       "      <th>CAS</th>\n",
       "      <th>CHAINE(S)</th>\n",
       "      <th>VALIDATION</th>\n",
       "      <th>DEGRE DE COMPOSITIONNALITE</th>\n",
       "      <th>SOURCE D'ERREUR</th>\n",
       "      <th>TYPE</th>\n",
       "      <th>CORPUS</th>\n",
       "    </tr>\n",
       "  </thead>\n",
       "  <tbody>\n",
       "    <tr>\n",
       "      <th>271</th>\n",
       "      <td>annodisER_15_mwe_coref.cupt</td>\n",
       "      <td>Atteinte depuis peu d'une grave maladie, Suzan...</td>\n",
       "      <td>['Atteinte', 'maladie']</td>\n",
       "      <td>['*', '13:3']</td>\n",
       "      <td>{'3': 4}</td>\n",
       "      <td>{'13': '{'3': ['une', 'grave', 'maladie'], '11...</td>\n",
       "      <td>faux</td>\n",
       "      <td></td>\n",
       "      <td>[chaîne incorrecte]</td>\n",
       "      <td>LVC.full</td>\n",
       "      <td>annodisER</td>\n",
       "    </tr>\n",
       "    <tr>\n",
       "      <th>272</th>\n",
       "      <td>annodisER_15_mwe_coref.cupt</td>\n",
       "      <td>Quand elle ne vaquait pas à ses occupations mé...</td>\n",
       "      <td>['faire', 'courses']</td>\n",
       "      <td>['*', '4:71']</td>\n",
       "      <td>{'71': 4}</td>\n",
       "      <td>{'4': '{'67': ['ses', 'occupations', 'ménagère...</td>\n",
       "      <td>faux</td>\n",
       "      <td></td>\n",
       "      <td>[chaîne incorrecte]</td>\n",
       "      <td>LVC.full</td>\n",
       "      <td>annodisER</td>\n",
       "    </tr>\n",
       "    <tr>\n",
       "      <th>273</th>\n",
       "      <td>annodisER_15_mwe_coref.cupt</td>\n",
       "      <td>Quand elle ne vaquait pas à ses occupations mé...</td>\n",
       "      <td>['faire', 'causette']</td>\n",
       "      <td>['*', '11:73;11:74;4:75']</td>\n",
       "      <td>{'73': 4, '74': 4, '75': 3}</td>\n",
       "      <td>{'11': '{'70': ['commun'], '72': ['centre', 'v...</td>\n",
       "      <td>faux</td>\n",
       "      <td></td>\n",
       "      <td>[chaîne incorrecte]</td>\n",
       "      <td>LVC.full</td>\n",
       "      <td>annodisER</td>\n",
       "    </tr>\n",
       "  </tbody>\n",
       "</table>\n",
       "</div>"
      ],
      "text/plain": [
       "                         FICHIER  \\\n",
       "271  annodisER_15_mwe_coref.cupt   \n",
       "272  annodisER_15_mwe_coref.cupt   \n",
       "273  annodisER_15_mwe_coref.cupt   \n",
       "\n",
       "                                                PHRASE  \\\n",
       "271  Atteinte depuis peu d'une grave maladie, Suzan...   \n",
       "272  Quand elle ne vaquait pas à ses occupations mé...   \n",
       "273  Quand elle ne vaquait pas à ses occupations mé...   \n",
       "\n",
       "                      TOKENS                      COREF  \\\n",
       "271  ['Atteinte', 'maladie']              ['*', '13:3']   \n",
       "272     ['faire', 'courses']              ['*', '4:71']   \n",
       "273    ['faire', 'causette']  ['*', '11:73;11:74;4:75']   \n",
       "\n",
       "                             CAS  \\\n",
       "271                     {'3': 4}   \n",
       "272                    {'71': 4}   \n",
       "273  {'73': 4, '74': 4, '75': 3}   \n",
       "\n",
       "                                             CHAINE(S) VALIDATION  \\\n",
       "271  {'13': '{'3': ['une', 'grave', 'maladie'], '11...       faux   \n",
       "272  {'4': '{'67': ['ses', 'occupations', 'ménagère...       faux   \n",
       "273  {'11': '{'70': ['commun'], '72': ['centre', 'v...       faux   \n",
       "\n",
       "    DEGRE DE COMPOSITIONNALITE      SOURCE D'ERREUR      TYPE     CORPUS  \n",
       "271                             [chaîne incorrecte]  LVC.full  annodisER  \n",
       "272                             [chaîne incorrecte]  LVC.full  annodisER  \n",
       "273                             [chaîne incorrecte]  LVC.full  annodisER  "
      ]
     },
     "execution_count": 180,
     "metadata": {},
     "output_type": "execute_result"
    }
   ],
   "source": [
    "# Lecture des fichiers json et création d'un pandas dataframe contenant les résultats de tous les corpus\n",
    "# Chaque ligne du dataframe correspond à une expression trouvée\n",
    "liste_fichiers = []\n",
    "df_resultats = pd.DataFrame()\n",
    "\n",
    "for fichier in glob.glob(\"*_validation.json\"):\n",
    "    if \"ancor\" not in fichier:\n",
    "        corpus = fichier.split('_')[0]\n",
    "        print(corpus)\n",
    "        with open(fichier, 'r') as json_file:\n",
    "            data = json.load(json_file)\n",
    "            for type_mwe in data:\n",
    "                dftmp = pd.DataFrame(data[type_mwe]['MWES'])\n",
    "                dftmp[\"TYPE\"] = type_mwe\n",
    "                dftmp[\"CORPUS\"] = corpus\n",
    "                df_resultats = pd.concat([df_resultats, dftmp], ignore_index = True)\n",
    "df_resultats.tail(3)"
   ]
  },
  {
   "cell_type": "code",
   "execution_count": 181,
   "id": "domestic-scenario",
   "metadata": {},
   "outputs": [
    {
     "data": {
      "text/plain": [
       "count     274\n",
       "unique      4\n",
       "top        ER\n",
       "freq       96\n",
       "Name: CORPUS, dtype: object"
      ]
     },
     "execution_count": 181,
     "metadata": {},
     "output_type": "execute_result"
    }
   ],
   "source": [
    "# Nombre d'expressions, Nombre de corpus, Corpus le plus courant\n",
    "df_resultats[\"CORPUS\"].describe()"
   ]
  },
  {
   "cell_type": "markdown",
   "id": "juvenile-perfume",
   "metadata": {},
   "source": [
    "# Graphiques sur les résultats globaux"
   ]
  },
  {
   "cell_type": "code",
   "execution_count": 182,
   "id": "virgin-trace",
   "metadata": {},
   "outputs": [
    {
     "data": {
      "text/html": [
       "<div>\n",
       "<style scoped>\n",
       "    .dataframe tbody tr th:only-of-type {\n",
       "        vertical-align: middle;\n",
       "    }\n",
       "\n",
       "    .dataframe tbody tr th {\n",
       "        vertical-align: top;\n",
       "    }\n",
       "\n",
       "    .dataframe thead th {\n",
       "        text-align: right;\n",
       "    }\n",
       "</style>\n",
       "<table border=\"1\" class=\"dataframe\">\n",
       "  <thead>\n",
       "    <tr style=\"text-align: right;\">\n",
       "      <th></th>\n",
       "      <th>CAS</th>\n",
       "      <th>TYPE</th>\n",
       "      <th>CORPUS</th>\n",
       "    </tr>\n",
       "  </thead>\n",
       "  <tbody>\n",
       "    <tr>\n",
       "      <th>0</th>\n",
       "      <td>4</td>\n",
       "      <td>LVC.cause</td>\n",
       "      <td>ER</td>\n",
       "    </tr>\n",
       "    <tr>\n",
       "      <th>1</th>\n",
       "      <td>3</td>\n",
       "      <td>IRV</td>\n",
       "      <td>ER</td>\n",
       "    </tr>\n",
       "    <tr>\n",
       "      <th>2</th>\n",
       "      <td>4</td>\n",
       "      <td>LVC.full</td>\n",
       "      <td>ER</td>\n",
       "    </tr>\n",
       "  </tbody>\n",
       "</table>\n",
       "</div>"
      ],
      "text/plain": [
       "  CAS       TYPE CORPUS\n",
       "0   4  LVC.cause     ER\n",
       "1   3        IRV     ER\n",
       "2   4   LVC.full     ER"
      ]
     },
     "execution_count": 182,
     "metadata": {},
     "output_type": "execute_result"
    }
   ],
   "source": [
    "# Mini df cas - type - corpus\n",
    "# Chaque ligne correspond à un cas (parfois plusieurs cas pour une expression trouvée)\n",
    "dico = {}\n",
    "cnt = 0\n",
    "for ind in df_resultats.index:\n",
    "    for cas in eval(df_resultats['CAS'][ind]).values():\n",
    "        dico[cnt] = {\"CAS\":cas,\n",
    "                     \"TYPE\":df_resultats['TYPE'][ind],\n",
    "                     \"CORPUS\":df_resultats['CORPUS'][ind]}\n",
    "        cnt +=1\n",
    "minidf = pd.DataFrame(dico).T\n",
    "minidf.head(3)"
   ]
  },
  {
   "cell_type": "code",
   "execution_count": 183,
   "id": "indie-framing",
   "metadata": {},
   "outputs": [
    {
     "data": {
      "image/png": "[encoded data removed]",
      "text/plain": [
       "<Figure size 936x720 with 1 Axes>"
      ]
     },
     "metadata": {
      "needs_background": "light"
     },
     "output_type": "display_data"
    }
   ],
   "source": [
    "# Cas selon le type de MWE\n",
    "cas1 = {\"LVC.full\": 0, \"LVC.cause\": 0, \"VID\": 0, \"IRV\": 0}\n",
    "cas2 = {\"LVC.full\": 0, \"LVC.cause\": 0, \"VID\": 0, \"IRV\": 0}\n",
    "cas3 = {\"LVC.full\": 0, \"LVC.cause\": 0, \"VID\": 0, \"IRV\": 0}\n",
    "cas4 = {\"LVC.full\": 0, \"LVC.cause\": 0, \"VID\": 0, \"IRV\": 0}\n",
    "for ind in minidf.index:\n",
    "    if minidf['CAS'][ind] == 1:\n",
    "        cas1[minidf['TYPE'][ind]] += 1\n",
    "    elif minidf['CAS'][ind] == 2:\n",
    "        cas2[minidf['TYPE'][ind]] += 1\n",
    "    elif minidf['CAS'][ind] == 3:\n",
    "        cas3[minidf['TYPE'][ind]] += 1\n",
    "    elif minidf['CAS'][ind] == 4:\n",
    "        cas4[minidf['TYPE'][ind]] += 1\n",
    "\n",
    "annotations = cas1.keys()\n",
    "x = np.arange(len(annotations))\n",
    "barWidth = 0.20\n",
    "\n",
    "# Set position of bar on X axis\n",
    "r1 = x\n",
    "r2 = [x + barWidth for x in r1]\n",
    "r3 = [x + barWidth for x in r2]\n",
    "r4 = [x + barWidth for x in r3]\n",
    "\n",
    "\n",
    "fig, ax = plt.subplots()\n",
    "un = ax.bar(r1, cas1.values(), width=barWidth, label='CAS 1')\n",
    "deux = ax.bar(r2, cas2.values(), width=barWidth, label='CAS 2')\n",
    "trois = ax.bar(r3, cas3.values(), width=barWidth, label='CAS 3')\n",
    "quatre = ax.bar(r4, cas4.values(), width=barWidth, label='CAS 4')\n",
    "ax.legend(loc='center left', bbox_to_anchor=(1, 0.5))\n",
    "ax.set_xticks(x)\n",
    "ax.set_xticklabels(annotations)\n",
    "\n",
    "ax.bar_label(un, padding=3)\n",
    "ax.bar_label(deux, padding=3)\n",
    "ax.bar_label(trois, padding=3)\n",
    "ax.bar_label(quatre, padding=3)\n",
    "plt.show()"
   ]
  },
  {
   "cell_type": "code",
   "execution_count": 184,
   "id": "aggressive-income",
   "metadata": {},
   "outputs": [
    {
     "data": {
      "image/png": "[encoded data removed]",
      "text/plain": [
       "<Figure size 936x720 with 1 Axes>"
      ]
     },
     "metadata": {
      "needs_background": "light"
     },
     "output_type": "display_data"
    }
   ],
   "source": [
    "# Cas selon le corpus\n",
    "\n",
    "cas1 = {\"ER\": 0, \"frwiki\": 0, \"emea\": 0, \"annodisER\": 0}\n",
    "cas2 = {\"ER\": 0, \"frwiki\": 0, \"emea\": 0, \"annodisER\": 0}\n",
    "cas3 = {\"ER\": 0, \"frwiki\": 0, \"emea\": 0, \"annodisER\": 0}\n",
    "cas4 = {\"ER\": 0, \"frwiki\": 0, \"emea\": 0, \"annodisER\": 0}\n",
    "for ind in minidf.index:\n",
    "    if minidf['CAS'][ind] == 1:\n",
    "        cas1[minidf['CORPUS'][ind]] += 1\n",
    "    elif minidf['CAS'][ind] == 2:\n",
    "        cas2[minidf['CORPUS'][ind]] += 1\n",
    "    elif minidf['CAS'][ind] == 3:\n",
    "        cas3[minidf['CORPUS'][ind]] += 1\n",
    "    elif minidf['CAS'][ind] == 4:\n",
    "        cas4[minidf['CORPUS'][ind]] += 1\n",
    "\n",
    "annotations = cas1.keys()\n",
    "x = np.arange(len(annotations))\n",
    "barWidth = 0.20\n",
    "\n",
    "# Set position of bar on X axis\n",
    "r1 = x\n",
    "r2 = [x + barWidth for x in r1]\n",
    "r3 = [x + barWidth for x in r2]\n",
    "r4 = [x + barWidth for x in r3]\n",
    "\n",
    "\n",
    "fig, ax = plt.subplots()\n",
    "un = ax.bar(r1, cas1.values(), width=barWidth, label='CAS 1')\n",
    "deux = ax.bar(r2, cas2.values(), width=barWidth, label='CAS 2')\n",
    "trois = ax.bar(r3, cas3.values(), width=barWidth, label='CAS 3')\n",
    "quatre = ax.bar(r4, cas4.values(), width=barWidth, label='CAS 4')\n",
    "ax.legend(loc='center left', bbox_to_anchor=(1, 0.5))\n",
    "ax.set_xticks(x)\n",
    "ax.set_xticklabels(annotations)\n",
    "\n",
    "ax.bar_label(un, padding=3)\n",
    "ax.bar_label(deux, padding=3)\n",
    "ax.bar_label(trois, padding=3)\n",
    "ax.bar_label(quatre, padding=3)\n",
    "plt.show()"
   ]
  },
  {
   "cell_type": "code",
   "execution_count": null,
   "id": "worthy-siemens",
   "metadata": {},
   "outputs": [],
   "source": [
    "# Validation selon Cas + catégorie"
   ]
  },
  {
   "cell_type": "markdown",
   "id": "reliable-cambridge",
   "metadata": {},
   "source": [
    "# Graphiques sur les résultats corrects "
   ]
  },
  {
   "cell_type": "code",
   "execution_count": null,
   "id": "suffering-poverty",
   "metadata": {},
   "outputs": [],
   "source": [
    "# Vrais selon le type de MWE"
   ]
  },
  {
   "cell_type": "code",
   "execution_count": null,
   "id": "noticed-regard",
   "metadata": {},
   "outputs": [],
   "source": [
    "# Vrais selon le cas"
   ]
  },
  {
   "cell_type": "code",
   "execution_count": null,
   "id": "stainless-cambodia",
   "metadata": {},
   "outputs": [],
   "source": [
    "# Quelque chose avec le degré ?"
   ]
  },
  {
   "cell_type": "markdown",
   "id": "finnish-algorithm",
   "metadata": {},
   "source": [
    "# Graphiques sur les expressions polylexicales"
   ]
  },
  {
   "cell_type": "code",
   "execution_count": null,
   "id": "opponent-approval",
   "metadata": {},
   "outputs": [],
   "source": [
    "# Nombre d'expressions différentes (lemmes)"
   ]
  },
  {
   "cell_type": "code",
   "execution_count": null,
   "id": "powered-excerpt",
   "metadata": {},
   "outputs": [],
   "source": [
    "# VID les plus courantes"
   ]
  },
  {
   "cell_type": "code",
   "execution_count": null,
   "id": "renewable-ready",
   "metadata": {},
   "outputs": [],
   "source": [
    "# LVC les plus courantes"
   ]
  },
  {
   "cell_type": "code",
   "execution_count": null,
   "id": "streaming-cherry",
   "metadata": {},
   "outputs": [],
   "source": [
    "# Répartitions de la validation de quelques expressions les plus courantes"
   ]
  }
 ],
 "metadata": {
  "kernelspec": {
   "display_name": "Python 3",
   "language": "python",
   "name": "python3"
  },
  "language_info": {
   "codemirror_mode": {
    "name": "ipython",
    "version": 3
   },
   "file_extension": ".py",
   "mimetype": "text/x-python",
   "name": "python",
   "nbconvert_exporter": "python",
   "pygments_lexer": "ipython3",
   "version": "3.8.10"
  }
 },
 "nbformat": 4,
 "nbformat_minor": 5
}
