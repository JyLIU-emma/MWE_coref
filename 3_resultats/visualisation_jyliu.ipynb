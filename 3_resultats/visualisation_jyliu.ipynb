{
 "cells": [
  {
   "cell_type": "markdown",
   "id": "73e1f6a1",
   "metadata": {},
   "source": [
    "# Études statistiques"
   ]
  },
  {
   "cell_type": "code",
   "execution_count": 1,
   "id": "98d2a950",
   "metadata": {},
   "outputs": [],
   "source": [
    "# -*- coding: utf-8 -*-\n",
    "# Jianying LIU"
   ]
  },
  {
   "cell_type": "code",
   "execution_count": 1,
   "id": "4a6d2496",
   "metadata": {},
   "outputs": [],
   "source": [
    "import glob\n",
    "from tools_mwe import restructurer_cupt,get_one_type_mwe_list\n",
    "import pandas as pd\n",
    "import re\n",
    "import json\n",
    "import matplotlib.pyplot as plt\n",
    "import numpy as np"
   ]
  },
  {
   "cell_type": "markdown",
   "id": "5452d592",
   "metadata": {},
   "source": [
    "## Nombre des MWE annotées/détectées"
   ]
  },
  {
   "cell_type": "code",
   "execution_count": 2,
   "id": "0f8b601a",
   "metadata": {},
   "outputs": [],
   "source": [
    "path_par_data = \"../2_traitements/\"\n",
    "corpus_ancor_er = [\"ANCOR/ESLO_ANCOR\",\"ANCOR/ESLO_CO2\",\"ANCOR/OTG\",\"ANCOR/UBS\",\"ER2003/ER2003_len300_1-100\"]\n",
    "corpus_ancor = [\"ANCOR/ESLO_ANCOR\",\"ANCOR/ESLO_CO2\",\"ANCOR/OTG\",\"ANCOR/UBS\"]\n",
    "corpus_er = [\"ER2003/ER2003_len300_1-100\"]\n",
    "corpus_sequoia = [\"SEQUOIA/annodisER\",\"SEQUOIA/emea\",\"SEQUOIA/frwiki\"]\n",
    "\n",
    "# Utiliser ensemble\n",
    "liste_subcorpus = []\n",
    "liste_nbre = []\n",
    "MWE_type = [\"VID\", \"LVC.full\", \"LVC.cause\", \"IRV\", \"MVC\", \"all\"]"
   ]
  },
  {
   "cell_type": "markdown",
   "id": "7dbf7db1",
   "metadata": {},
   "source": [
    "### Sequoia"
   ]
  },
  {
   "cell_type": "code",
   "execution_count": 3,
   "id": "830bacb4",
   "metadata": {},
   "outputs": [
    {
     "name": "stdout",
     "output_type": "stream",
     "text": [
      "SEQUOIA/annodisER : 36 fichiers\n",
      "Nombre de phrases contenant MWE: 162\n",
      "SEQUOIA/emea : 2 fichiers\n",
      "Nombre de phrases contenant MWE: 205\n",
      "SEQUOIA/frwiki : 19 fichiers\n",
      "Nombre de phrases contenant MWE: 197\n",
      "Nombre total de phrases contenant MWE : 564\n"
     ]
    }
   ],
   "source": [
    "liste_sent_sequoia = []\n",
    "for subcorpus in corpus_sequoia:\n",
    "    fic = path_par_data + subcorpus + \"/*.cupt\"\n",
    "    \n",
    "    print(f\"{subcorpus} : {len(glob.glob(fic))} fichiers\")\n",
    "    nbre_subcorpus = 0\n",
    "    for fichier in glob.glob(fic):\n",
    "        liste_file = restructurer_cupt(fichier)\n",
    "        liste_sent_sequoia.extend(liste_file)\n",
    "        nbre_subcorpus += len(liste_file)\n",
    "    liste_subcorpus.append(subcorpus)\n",
    "    liste_nbre.append(nbre_subcorpus)\n",
    "    print(\"Nombre de phrases contenant MWE:\", nbre_subcorpus)\n",
    "print(\"Nombre total de phrases contenant MWE :\", len(liste_sent_sequoia))"
   ]
  },
  {
   "cell_type": "code",
   "execution_count": 4,
   "id": "e87cd85e",
   "metadata": {},
   "outputs": [
    {
     "name": "stdout",
     "output_type": "stream",
     "text": [
      "['VID', 'LVC.full', 'LVC.cause', 'IRV', 'MVC', 'all']\n",
      "[204, 340, 9, 132, 3, 688]\n"
     ]
    }
   ],
   "source": [
    "liste_mwe_nbre_sequoia = []\n",
    "for type_mwe in MWE_type :\n",
    "    _, nbre_mwe = get_one_type_mwe_list(liste_sent_sequoia, type_mwe)\n",
    "    liste_mwe_nbre_sequoia.append(nbre_mwe)\n",
    "print(MWE_type)\n",
    "print(liste_mwe_nbre_sequoia)"
   ]
  },
  {
   "cell_type": "markdown",
   "id": "6656278b",
   "metadata": {},
   "source": [
    "### Ancor"
   ]
  },
  {
   "cell_type": "code",
   "execution_count": 5,
   "id": "44d5edbd",
   "metadata": {},
   "outputs": [
    {
     "name": "stdout",
     "output_type": "stream",
     "text": [
      "ANCOR/ESLO_ANCOR : 99 fichiers\n",
      "Nombre de phrases contenant MWE: 4250\n",
      "ANCOR/ESLO_CO2 : 3 fichiers\n",
      "Nombre de phrases contenant MWE: 399\n",
      "ANCOR/OTG : 313 fichiers\n",
      "Nombre de phrases contenant MWE: 353\n",
      "ANCOR/UBS : 40 fichiers\n",
      "Nombre de phrases contenant MWE: 54\n",
      "Nombre total de phrases contenant MWE : 5056\n"
     ]
    }
   ],
   "source": [
    "liste_sent_ancor = []\n",
    "for subcorpus in corpus_ancor:\n",
    "    fic = path_par_data + subcorpus + \"/*.cupt\"\n",
    "    \n",
    "    print(f\"{subcorpus} : {len(glob.glob(fic))} fichiers\")\n",
    "    nbre_subcorpus = 0\n",
    "    for fichier in glob.glob(fic):\n",
    "        liste_file = restructurer_cupt(fichier)\n",
    "        liste_sent_ancor.extend(liste_file)\n",
    "        nbre_subcorpus += len(liste_file)\n",
    "    liste_subcorpus.append(subcorpus)\n",
    "    liste_nbre.append(nbre_subcorpus)\n",
    "    print(\"Nombre de phrases contenant MWE:\", nbre_subcorpus)\n",
    "print(\"Nombre total de phrases contenant MWE :\", len(liste_sent_ancor))"
   ]
  },
  {
   "cell_type": "code",
   "execution_count": 6,
   "id": "76d426eb",
   "metadata": {},
   "outputs": [
    {
     "name": "stdout",
     "output_type": "stream",
     "text": [
      "['VID', 'LVC.full', 'LVC.cause', 'IRV', 'MVC', 'all']\n",
      "[4760, 1264, 6, 690, 36, 6756]\n"
     ]
    }
   ],
   "source": [
    "liste_mwe_nbre_ancor = []\n",
    "for type_mwe in MWE_type :\n",
    "    _, nbre_mwe = get_one_type_mwe_list(liste_sent_ancor, type_mwe)\n",
    "    liste_mwe_nbre_ancor.append(nbre_mwe)\n",
    "print(MWE_type)\n",
    "print(liste_mwe_nbre_ancor)"
   ]
  },
  {
   "cell_type": "markdown",
   "id": "28cc3889",
   "metadata": {},
   "source": [
    "### ER"
   ]
  },
  {
   "cell_type": "code",
   "execution_count": 7,
   "id": "005d1cd3",
   "metadata": {},
   "outputs": [
    {
     "name": "stdout",
     "output_type": "stream",
     "text": [
      "ER2003/ER2003_len300_1-100 : 100 fichiers\n",
      "Nombre de phrases contenant MWE: 530\n",
      "Nombre total de phrases contenant MWE : 530\n"
     ]
    }
   ],
   "source": [
    "liste_sent_ER = []\n",
    "for subcorpus in corpus_er:\n",
    "    fic = path_par_data + subcorpus + \"/*.cupt\"\n",
    "    \n",
    "    print(f\"{subcorpus} : {len(glob.glob(fic))} fichiers\")\n",
    "    nbre_subcorpus = 0\n",
    "    for fichier in glob.glob(fic):\n",
    "        liste_file = restructurer_cupt(fichier)\n",
    "        liste_sent_ER.extend(liste_file)\n",
    "        nbre_subcorpus += len(liste_file)\n",
    "    liste_subcorpus.append(subcorpus)\n",
    "    liste_nbre.append(nbre_subcorpus)\n",
    "    print(\"Nombre de phrases contenant MWE:\", nbre_subcorpus)\n",
    "print(\"Nombre total de phrases contenant MWE :\", len(liste_sent_ER))"
   ]
  },
  {
   "cell_type": "code",
   "execution_count": 8,
   "id": "5e0b99c7",
   "metadata": {},
   "outputs": [
    {
     "name": "stdout",
     "output_type": "stream",
     "text": [
      "['VID', 'LVC.full', 'LVC.cause', 'IRV', 'MVC', 'all']\n",
      "[302, 122, 3, 174, 2, 603]\n"
     ]
    }
   ],
   "source": [
    "liste_mwe_nbre_ER = []\n",
    "for type_mwe in MWE_type :\n",
    "    _, nbre_mwe = get_one_type_mwe_list(liste_sent_ER, type_mwe)\n",
    "    liste_mwe_nbre_ER.append(nbre_mwe)\n",
    "print(MWE_type)\n",
    "print(liste_mwe_nbre_ER)"
   ]
  },
  {
   "cell_type": "markdown",
   "id": "39928185",
   "metadata": {},
   "source": [
    "### Nombre de phrases contenant MWE dans chaque sous-corpus"
   ]
  },
  {
   "cell_type": "code",
   "execution_count": 9,
   "id": "470204a1",
   "metadata": {},
   "outputs": [
    {
     "name": "stdout",
     "output_type": "stream",
     "text": [
      "Nombre de phrases contenant MWE:\n",
      "['SEQUOIA/annodisER', 'SEQUOIA/emea', 'SEQUOIA/frwiki', 'ANCOR/ESLO_ANCOR', 'ANCOR/ESLO_CO2', 'ANCOR/OTG', 'ANCOR/UBS', 'ER2003/ER2003_len300_1-100']\n",
      "[162, 205, 197, 4250, 399, 353, 54, 530]\n"
     ]
    }
   ],
   "source": [
    "print(\"Nombre de phrases contenant MWE:\")\n",
    "print(liste_subcorpus)\n",
    "print(liste_nbre)"
   ]
  },
  {
   "cell_type": "markdown",
   "id": "fcab4654",
   "metadata": {},
   "source": [
    "## Croisements\n",
    "\n",
    "**Fichier json**"
   ]
  },
  {
   "cell_type": "code",
   "execution_count": 10,
   "id": "dea66fb4",
   "metadata": {},
   "outputs": [],
   "source": [
    "def json2df(corpus):\n",
    "    df_resultats = pd.DataFrame()\n",
    "    for fichier in glob.glob(f\"{corpus}*_validation.json\"):\n",
    "        subcorpus = re.sub(\"_[0-9]+_validation.json\", \"\", fichier)\n",
    "        with open(fichier, 'r', encoding=\"utf8\") as json_file:\n",
    "            data = json.load(json_file)\n",
    "            for type_mwe in data:\n",
    "                dftmp = pd.DataFrame(data[type_mwe]['MWES'])\n",
    "                dftmp[\"TYPE\"] = type_mwe\n",
    "                dftmp[\"CORPUS\"] = subcorpus\n",
    "                df_resultats = pd.concat([df_resultats, dftmp], ignore_index = True)\n",
    "    return df_resultats"
   ]
  },
  {
   "cell_type": "code",
   "execution_count": 11,
   "id": "7bf9f7eb",
   "metadata": {},
   "outputs": [],
   "source": [
    "def test_error(x):\n",
    "    MWE_error = [\"MWE incorrecte\", \"MWE littérale\", \"MWE type incorrect\"]\n",
    "    for error in x:\n",
    "        if error in MWE_error:\n",
    "            return True\n",
    "    return False\n",
    "\n",
    "# col error_mwe : si c'est l'erreur de MWE : True, else: False"
   ]
  },
  {
   "cell_type": "code",
   "execution_count": 20,
   "id": "704385bb",
   "metadata": {},
   "outputs": [],
   "source": [
    "def type_reel(x):\n",
    "    type_error = \"MWE type incorrect\"\n",
    "    if type_error in x:\n",
    "        return \"LVC.full\"\n",
    "#     else:\n",
    "#         return None"
   ]
  },
  {
   "cell_type": "markdown",
   "id": "f0e5e371",
   "metadata": {},
   "source": [
    "### Ancor"
   ]
  },
  {
   "cell_type": "code",
   "execution_count": 23,
   "id": "a0ccdb3e",
   "metadata": {
    "scrolled": true
   },
   "outputs": [
    {
     "data": {
      "text/html": [
       "<div>\n",
       "<style scoped>\n",
       "    .dataframe tbody tr th:only-of-type {\n",
       "        vertical-align: middle;\n",
       "    }\n",
       "\n",
       "    .dataframe tbody tr th {\n",
       "        vertical-align: top;\n",
       "    }\n",
       "\n",
       "    .dataframe thead th {\n",
       "        text-align: right;\n",
       "    }\n",
       "</style>\n",
       "<table border=\"1\" class=\"dataframe\">\n",
       "  <thead>\n",
       "    <tr style=\"text-align: right;\">\n",
       "      <th></th>\n",
       "      <th>FICHIER</th>\n",
       "      <th>PHRASE</th>\n",
       "      <th>TOKENS</th>\n",
       "      <th>COREF</th>\n",
       "      <th>CAS</th>\n",
       "      <th>CHAINE(S)</th>\n",
       "      <th>VALIDATION</th>\n",
       "      <th>DEGRE DE COMPOSITIONNALITE</th>\n",
       "      <th>SOURCE D'ERREUR</th>\n",
       "      <th>LEMMES</th>\n",
       "      <th>TYPE</th>\n",
       "      <th>CORPUS</th>\n",
       "      <th>error_mwe</th>\n",
       "      <th>real_type</th>\n",
       "    </tr>\n",
       "  </thead>\n",
       "  <tbody>\n",
       "    <tr>\n",
       "      <th>0</th>\n",
       "      <td>023_C_mwe_coref.cupt</td>\n",
       "      <td>bah parce que celui qui reçoit une lettre qui ...</td>\n",
       "      <td>['donne', 'impression']</td>\n",
       "      <td>['*', '273:2434']</td>\n",
       "      <td>{'2434': 4}</td>\n",
       "      <td>{'273': '{'2434': ['mauvaise', 'impression'], ...</td>\n",
       "      <td>vrai</td>\n",
       "      <td>moyen</td>\n",
       "      <td>[]</td>\n",
       "      <td>[donner, impression]</td>\n",
       "      <td>LVC.cause</td>\n",
       "      <td>ancor_ESLO_ANCOR</td>\n",
       "      <td>False</td>\n",
       "      <td>LVC.cause</td>\n",
       "    </tr>\n",
       "    <tr>\n",
       "      <th>1</th>\n",
       "      <td>009_C-2_mwe_coref.cupt</td>\n",
       "      <td>lorsque la voiture moi je voudrais être plusie...</td>\n",
       "      <td>['faire', 'ça']</td>\n",
       "      <td>['*', '19:187']</td>\n",
       "      <td>{'187': 3}</td>\n",
       "      <td>{'19': '{'182': ['de', 'le', 'trajet'], '187':...</td>\n",
       "      <td>faux</td>\n",
       "      <td></td>\n",
       "      <td>[MWE incorrecte]</td>\n",
       "      <td>[faire, ça]</td>\n",
       "      <td>VID</td>\n",
       "      <td>ancor_ESLO_ANCOR</td>\n",
       "      <td>True</td>\n",
       "      <td>VID</td>\n",
       "    </tr>\n",
       "    <tr>\n",
       "      <th>2</th>\n",
       "      <td>009_C-2_mwe_coref.cupt</td>\n",
       "      <td>ah c'est-à-dire que dans ce point de vue -là y...</td>\n",
       "      <td>['faire', 'ça']</td>\n",
       "      <td>['*', '48:406']</td>\n",
       "      <td>{'406': 3}</td>\n",
       "      <td>{'48': '{'399': ['de', 'les', 'choses'], '400'...</td>\n",
       "      <td>faux</td>\n",
       "      <td></td>\n",
       "      <td>[MWE incorrecte]</td>\n",
       "      <td>[faire, ça]</td>\n",
       "      <td>VID</td>\n",
       "      <td>ancor_ESLO_ANCOR</td>\n",
       "      <td>True</td>\n",
       "      <td>VID</td>\n",
       "    </tr>\n",
       "  </tbody>\n",
       "</table>\n",
       "</div>"
      ],
      "text/plain": [
       "                  FICHIER                                             PHRASE  \\\n",
       "0    023_C_mwe_coref.cupt  bah parce que celui qui reçoit une lettre qui ...   \n",
       "1  009_C-2_mwe_coref.cupt  lorsque la voiture moi je voudrais être plusie...   \n",
       "2  009_C-2_mwe_coref.cupt  ah c'est-à-dire que dans ce point de vue -là y...   \n",
       "\n",
       "                    TOKENS              COREF          CAS  \\\n",
       "0  ['donne', 'impression']  ['*', '273:2434']  {'2434': 4}   \n",
       "1          ['faire', 'ça']    ['*', '19:187']   {'187': 3}   \n",
       "2          ['faire', 'ça']    ['*', '48:406']   {'406': 3}   \n",
       "\n",
       "                                           CHAINE(S) VALIDATION  \\\n",
       "0  {'273': '{'2434': ['mauvaise', 'impression'], ...       vrai   \n",
       "1  {'19': '{'182': ['de', 'le', 'trajet'], '187':...       faux   \n",
       "2  {'48': '{'399': ['de', 'les', 'choses'], '400'...       faux   \n",
       "\n",
       "  DEGRE DE COMPOSITIONNALITE   SOURCE D'ERREUR                LEMMES  \\\n",
       "0                      moyen                []  [donner, impression]   \n",
       "1                             [MWE incorrecte]           [faire, ça]   \n",
       "2                             [MWE incorrecte]           [faire, ça]   \n",
       "\n",
       "        TYPE            CORPUS  error_mwe  real_type  \n",
       "0  LVC.cause  ancor_ESLO_ANCOR      False  LVC.cause  \n",
       "1        VID  ancor_ESLO_ANCOR       True        VID  \n",
       "2        VID  ancor_ESLO_ANCOR       True        VID  "
      ]
     },
     "execution_count": 23,
     "metadata": {},
     "output_type": "execute_result"
    }
   ],
   "source": [
    "df_ancor = json2df(\"ancor\")\n",
    "mask = df_ancor[\"SOURCE D'ERREUR\"].apply(test_error)\n",
    "df_ancor[\"error_mwe\"]=mask\n",
    "mask2 = df_ancor[\"SOURCE D'ERREUR\"].apply(type_reel)\n",
    "df_ancor[\"real_type\"]=mask2\n",
    "df_ancor[\"real_type\"].fillna(df_ancor[\"TYPE\"], inplace=True)\n",
    "df_ancor.head(3)"
   ]
  },
  {
   "cell_type": "code",
   "execution_count": 24,
   "id": "5ac37c44",
   "metadata": {},
   "outputs": [
    {
     "data": {
      "text/html": [
       "<div>\n",
       "<style scoped>\n",
       "    .dataframe tbody tr th:only-of-type {\n",
       "        vertical-align: middle;\n",
       "    }\n",
       "\n",
       "    .dataframe tbody tr th {\n",
       "        vertical-align: top;\n",
       "    }\n",
       "\n",
       "    .dataframe thead th {\n",
       "        text-align: right;\n",
       "    }\n",
       "</style>\n",
       "<table border=\"1\" class=\"dataframe\">\n",
       "  <thead>\n",
       "    <tr style=\"text-align: right;\">\n",
       "      <th></th>\n",
       "      <th>FICHIER</th>\n",
       "      <th>PHRASE</th>\n",
       "      <th>TOKENS</th>\n",
       "      <th>COREF</th>\n",
       "      <th>CAS</th>\n",
       "      <th>CHAINE(S)</th>\n",
       "      <th>VALIDATION</th>\n",
       "      <th>DEGRE DE COMPOSITIONNALITE</th>\n",
       "      <th>SOURCE D'ERREUR</th>\n",
       "      <th>LEMMES</th>\n",
       "      <th>TYPE</th>\n",
       "      <th>CORPUS</th>\n",
       "      <th>error_mwe</th>\n",
       "      <th>real_type</th>\n",
       "    </tr>\n",
       "  </thead>\n",
       "  <tbody>\n",
       "    <tr>\n",
       "      <th>24</th>\n",
       "      <td>133_C-3_mwe_coref.cupt</td>\n",
       "      <td>ou pour faire rire peut-être je vais vous pose...</td>\n",
       "      <td>['vous', 'poser', 'question']</td>\n",
       "      <td>['*', '*', '0:3']</td>\n",
       "      <td>{'3': 4}</td>\n",
       "      <td>{'0': '{'3': ['une', 'question'], '7': ['y']}'}</td>\n",
       "      <td>vrai</td>\n",
       "      <td>moyen</td>\n",
       "      <td>[MWE incorrecte, MWE type incorrect]</td>\n",
       "      <td>[lui, poser, question]</td>\n",
       "      <td>VID</td>\n",
       "      <td>ancor_ESLO_ANCOR</td>\n",
       "      <td>True</td>\n",
       "      <td>LVC.full</td>\n",
       "    </tr>\n",
       "    <tr>\n",
       "      <th>66</th>\n",
       "      <td>010_C-5_mwe_coref.cupt</td>\n",
       "      <td>jamais oh ben c' est parce que nous n' avons p...</td>\n",
       "      <td>['est', 'nous', 'temps']</td>\n",
       "      <td>['*', '*', '77:749']</td>\n",
       "      <td>{'749': 4}</td>\n",
       "      <td>{'77': '{'749': ['le', 'temps'], '750': ['le',...</td>\n",
       "      <td>vrai</td>\n",
       "      <td>moyen</td>\n",
       "      <td>[MWE incorrecte]</td>\n",
       "      <td>[être, il, temps]</td>\n",
       "      <td>VID</td>\n",
       "      <td>ancor_ESLO_ANCOR</td>\n",
       "      <td>True</td>\n",
       "      <td>VID</td>\n",
       "    </tr>\n",
       "    <tr>\n",
       "      <th>69</th>\n",
       "      <td>010_C-5_mwe_coref.cupt</td>\n",
       "      <td>j' aimerais vous poser une dernière question m...</td>\n",
       "      <td>['vous', 'poser', 'question']</td>\n",
       "      <td>['*', '*', '108:960']</td>\n",
       "      <td>{'960': 4}</td>\n",
       "      <td>{'108': '{'960': ['une', 'dernière', 'question...</td>\n",
       "      <td>vrai</td>\n",
       "      <td>moyen</td>\n",
       "      <td>[MWE incorrecte, MWE type incorrect]</td>\n",
       "      <td>[lui, poser, question]</td>\n",
       "      <td>VID</td>\n",
       "      <td>ancor_ESLO_ANCOR</td>\n",
       "      <td>True</td>\n",
       "      <td>LVC.full</td>\n",
       "    </tr>\n",
       "    <tr>\n",
       "      <th>79</th>\n",
       "      <td>008_C-2_mwe_coref.cupt</td>\n",
       "      <td>je vous pose la question</td>\n",
       "      <td>['vous', 'pose', 'question']</td>\n",
       "      <td>['*', '*', '49:358']</td>\n",
       "      <td>{'358': 4}</td>\n",
       "      <td>{'49': '{'346': ['cette', 'question'], '350': ...</td>\n",
       "      <td>vrai</td>\n",
       "      <td>moyen</td>\n",
       "      <td>[MWE incorrecte, MWE type incorrect]</td>\n",
       "      <td>[lui, poser, question]</td>\n",
       "      <td>VID</td>\n",
       "      <td>ancor_ESLO_ANCOR</td>\n",
       "      <td>True</td>\n",
       "      <td>LVC.full</td>\n",
       "    </tr>\n",
       "    <tr>\n",
       "      <th>146</th>\n",
       "      <td>026_C-2_mwe_coref.cupt</td>\n",
       "      <td>et nous avons dit bon quand je vous ai posé la...</td>\n",
       "      <td>['vous', 'posé', 'question']</td>\n",
       "      <td>['*', '*', '70:473']</td>\n",
       "      <td>{'473': 4}</td>\n",
       "      <td>{'70': '{'473': ['la', 'question'], '494': ['l...</td>\n",
       "      <td>vrai</td>\n",
       "      <td>moyen</td>\n",
       "      <td>[MWE incorrecte, MWE type incorrect]</td>\n",
       "      <td>[lui, poser, question]</td>\n",
       "      <td>VID</td>\n",
       "      <td>ancor_ESLO_ANCOR</td>\n",
       "      <td>True</td>\n",
       "      <td>LVC.full</td>\n",
       "    </tr>\n",
       "    <tr>\n",
       "      <th>147</th>\n",
       "      <td>026_C-2_mwe_coref.cupt</td>\n",
       "      <td>enfin je vous euh j' ai posé la question est -...</td>\n",
       "      <td>['vous', 'posé', 'question']</td>\n",
       "      <td>['*', '*', '70:494']</td>\n",
       "      <td>{'494': 4}</td>\n",
       "      <td>{'70': '{'473': ['la', 'question'], '494': ['l...</td>\n",
       "      <td>vrai</td>\n",
       "      <td>moyen</td>\n",
       "      <td>[MWE incorrecte, MWE type incorrect]</td>\n",
       "      <td>[lui, poser, question]</td>\n",
       "      <td>VID</td>\n",
       "      <td>ancor_ESLO_ANCOR</td>\n",
       "      <td>True</td>\n",
       "      <td>LVC.full</td>\n",
       "    </tr>\n",
       "    <tr>\n",
       "      <th>205</th>\n",
       "      <td>132_C-1_mwe_coref.cupt</td>\n",
       "      <td>alors tout ça alors je me dis toujours euh vou...</td>\n",
       "      <td>['le', 'temps', 'prends']</td>\n",
       "      <td>['57:474', '57:474', '*']</td>\n",
       "      <td>{'474': 4}</td>\n",
       "      <td>{'57': '{'187': ['le', 'temps'], '474': ['de',...</td>\n",
       "      <td>vrai</td>\n",
       "      <td>moyen</td>\n",
       "      <td>[MWE incorrecte]</td>\n",
       "      <td>[le, temps, prendre]</td>\n",
       "      <td>VID</td>\n",
       "      <td>ancor_ESLO_ANCOR</td>\n",
       "      <td>True</td>\n",
       "      <td>VID</td>\n",
       "    </tr>\n",
       "    <tr>\n",
       "      <th>225</th>\n",
       "      <td>021_C-5_mwe_coref.cupt</td>\n",
       "      <td>madame alors j' ai encore quelques questions s...</td>\n",
       "      <td>['vous', 'poser', 'question']</td>\n",
       "      <td>['*', '*', '0:10']</td>\n",
       "      <td>{'10': 4}</td>\n",
       "      <td>{'0': '{'10': ['une', 'question'], '11': ['qui...</td>\n",
       "      <td>vrai</td>\n",
       "      <td>moyen</td>\n",
       "      <td>[MWE incorrecte, MWE type incorrect]</td>\n",
       "      <td>[lui, poser, question]</td>\n",
       "      <td>VID</td>\n",
       "      <td>ancor_ESLO_ANCOR</td>\n",
       "      <td>True</td>\n",
       "      <td>LVC.full</td>\n",
       "    </tr>\n",
       "    <tr>\n",
       "      <th>245</th>\n",
       "      <td>019_C-2_mwe_coref.cupt</td>\n",
       "      <td>bon alors al- avant de passer à autre chose je...</td>\n",
       "      <td>['vous', 'poser', 'question']</td>\n",
       "      <td>['*', '*', '43:339']</td>\n",
       "      <td>{'339': 4}</td>\n",
       "      <td>{'43': '{'339': ['une', 'question'], '340': ['...</td>\n",
       "      <td>vrai</td>\n",
       "      <td>moyen</td>\n",
       "      <td>[MWE incorrecte, MWE type incorrect]</td>\n",
       "      <td>[lui, poser, question]</td>\n",
       "      <td>VID</td>\n",
       "      <td>ancor_ESLO_ANCOR</td>\n",
       "      <td>True</td>\n",
       "      <td>LVC.full</td>\n",
       "    </tr>\n",
       "    <tr>\n",
       "      <th>754</th>\n",
       "      <td>133_C-2_mwe_coref.cupt</td>\n",
       "      <td>euh oui oui d' accord oui ça euh d' accord mai...</td>\n",
       "      <td>['influence', 'a']</td>\n",
       "      <td>['135:786', '*']</td>\n",
       "      <td>{'786': 3}</td>\n",
       "      <td>{'135': '{'786': ['influence'], '787': ['en'],...</td>\n",
       "      <td>vrai</td>\n",
       "      <td>moyen</td>\n",
       "      <td>[MWE incorrecte]</td>\n",
       "      <td>[influence, avoir]</td>\n",
       "      <td>LVC.full</td>\n",
       "      <td>ancor_ESLO_ANCOR</td>\n",
       "      <td>True</td>\n",
       "      <td>LVC.full</td>\n",
       "    </tr>\n",
       "    <tr>\n",
       "      <th>871</th>\n",
       "      <td>005_C-1_mwe_coref.cupt</td>\n",
       "      <td>et que ça ne soit pas trop livresque parce que...</td>\n",
       "      <td>['donnait', 'enseignement']</td>\n",
       "      <td>['*', '100:662']</td>\n",
       "      <td>{'662': 4}</td>\n",
       "      <td>{'100': '{'653': ['ça'], '658': [\"l'\", 'enseig...</td>\n",
       "      <td>vrai</td>\n",
       "      <td>moyen</td>\n",
       "      <td>[MWE incorrecte]</td>\n",
       "      <td>[donner, enseignement]</td>\n",
       "      <td>LVC.full</td>\n",
       "      <td>ancor_ESLO_ANCOR</td>\n",
       "      <td>True</td>\n",
       "      <td>LVC.full</td>\n",
       "    </tr>\n",
       "  </tbody>\n",
       "</table>\n",
       "</div>"
      ],
      "text/plain": [
       "                    FICHIER  \\\n",
       "24   133_C-3_mwe_coref.cupt   \n",
       "66   010_C-5_mwe_coref.cupt   \n",
       "69   010_C-5_mwe_coref.cupt   \n",
       "79   008_C-2_mwe_coref.cupt   \n",
       "146  026_C-2_mwe_coref.cupt   \n",
       "147  026_C-2_mwe_coref.cupt   \n",
       "205  132_C-1_mwe_coref.cupt   \n",
       "225  021_C-5_mwe_coref.cupt   \n",
       "245  019_C-2_mwe_coref.cupt   \n",
       "754  133_C-2_mwe_coref.cupt   \n",
       "871  005_C-1_mwe_coref.cupt   \n",
       "\n",
       "                                                PHRASE  \\\n",
       "24   ou pour faire rire peut-être je vais vous pose...   \n",
       "66   jamais oh ben c' est parce que nous n' avons p...   \n",
       "69   j' aimerais vous poser une dernière question m...   \n",
       "79                            je vous pose la question   \n",
       "146  et nous avons dit bon quand je vous ai posé la...   \n",
       "147  enfin je vous euh j' ai posé la question est -...   \n",
       "205  alors tout ça alors je me dis toujours euh vou...   \n",
       "225  madame alors j' ai encore quelques questions s...   \n",
       "245  bon alors al- avant de passer à autre chose je...   \n",
       "754  euh oui oui d' accord oui ça euh d' accord mai...   \n",
       "871  et que ça ne soit pas trop livresque parce que...   \n",
       "\n",
       "                            TOKENS                      COREF         CAS  \\\n",
       "24   ['vous', 'poser', 'question']          ['*', '*', '0:3']    {'3': 4}   \n",
       "66        ['est', 'nous', 'temps']       ['*', '*', '77:749']  {'749': 4}   \n",
       "69   ['vous', 'poser', 'question']      ['*', '*', '108:960']  {'960': 4}   \n",
       "79    ['vous', 'pose', 'question']       ['*', '*', '49:358']  {'358': 4}   \n",
       "146   ['vous', 'posé', 'question']       ['*', '*', '70:473']  {'473': 4}   \n",
       "147   ['vous', 'posé', 'question']       ['*', '*', '70:494']  {'494': 4}   \n",
       "205      ['le', 'temps', 'prends']  ['57:474', '57:474', '*']  {'474': 4}   \n",
       "225  ['vous', 'poser', 'question']         ['*', '*', '0:10']   {'10': 4}   \n",
       "245  ['vous', 'poser', 'question']       ['*', '*', '43:339']  {'339': 4}   \n",
       "754             ['influence', 'a']           ['135:786', '*']  {'786': 3}   \n",
       "871    ['donnait', 'enseignement']           ['*', '100:662']  {'662': 4}   \n",
       "\n",
       "                                             CHAINE(S) VALIDATION  \\\n",
       "24     {'0': '{'3': ['une', 'question'], '7': ['y']}'}       vrai   \n",
       "66   {'77': '{'749': ['le', 'temps'], '750': ['le',...       vrai   \n",
       "69   {'108': '{'960': ['une', 'dernière', 'question...       vrai   \n",
       "79   {'49': '{'346': ['cette', 'question'], '350': ...       vrai   \n",
       "146  {'70': '{'473': ['la', 'question'], '494': ['l...       vrai   \n",
       "147  {'70': '{'473': ['la', 'question'], '494': ['l...       vrai   \n",
       "205  {'57': '{'187': ['le', 'temps'], '474': ['de',...       vrai   \n",
       "225  {'0': '{'10': ['une', 'question'], '11': ['qui...       vrai   \n",
       "245  {'43': '{'339': ['une', 'question'], '340': ['...       vrai   \n",
       "754  {'135': '{'786': ['influence'], '787': ['en'],...       vrai   \n",
       "871  {'100': '{'653': ['ça'], '658': [\"l'\", 'enseig...       vrai   \n",
       "\n",
       "    DEGRE DE COMPOSITIONNALITE                       SOURCE D'ERREUR  \\\n",
       "24                       moyen  [MWE incorrecte, MWE type incorrect]   \n",
       "66                       moyen                      [MWE incorrecte]   \n",
       "69                       moyen  [MWE incorrecte, MWE type incorrect]   \n",
       "79                       moyen  [MWE incorrecte, MWE type incorrect]   \n",
       "146                      moyen  [MWE incorrecte, MWE type incorrect]   \n",
       "147                      moyen  [MWE incorrecte, MWE type incorrect]   \n",
       "205                      moyen                      [MWE incorrecte]   \n",
       "225                      moyen  [MWE incorrecte, MWE type incorrect]   \n",
       "245                      moyen  [MWE incorrecte, MWE type incorrect]   \n",
       "754                      moyen                      [MWE incorrecte]   \n",
       "871                      moyen                      [MWE incorrecte]   \n",
       "\n",
       "                     LEMMES      TYPE            CORPUS  error_mwe real_type  \n",
       "24   [lui, poser, question]       VID  ancor_ESLO_ANCOR       True  LVC.full  \n",
       "66        [être, il, temps]       VID  ancor_ESLO_ANCOR       True       VID  \n",
       "69   [lui, poser, question]       VID  ancor_ESLO_ANCOR       True  LVC.full  \n",
       "79   [lui, poser, question]       VID  ancor_ESLO_ANCOR       True  LVC.full  \n",
       "146  [lui, poser, question]       VID  ancor_ESLO_ANCOR       True  LVC.full  \n",
       "147  [lui, poser, question]       VID  ancor_ESLO_ANCOR       True  LVC.full  \n",
       "205    [le, temps, prendre]       VID  ancor_ESLO_ANCOR       True       VID  \n",
       "225  [lui, poser, question]       VID  ancor_ESLO_ANCOR       True  LVC.full  \n",
       "245  [lui, poser, question]       VID  ancor_ESLO_ANCOR       True  LVC.full  \n",
       "754      [influence, avoir]  LVC.full  ancor_ESLO_ANCOR       True  LVC.full  \n",
       "871  [donner, enseignement]  LVC.full  ancor_ESLO_ANCOR       True  LVC.full  "
      ]
     },
     "execution_count": 24,
     "metadata": {},
     "output_type": "execute_result"
    }
   ],
   "source": [
    "test = df_ancor[(df_ancor[\"error_mwe\"]==True) & (df_ancor[\"VALIDATION\"]==\"vrai\")]\n",
    "test\n",
    "# test = df_ancor[(df_ancor[\"VALIDATION\"]==\"vrai\") & (df_ancor[\"TYPE\"]==\"LVC.full\")]   #VID:36   LVC.full:212\n",
    "# test.count()"
   ]
  },
  {
   "cell_type": "code",
   "execution_count": 25,
   "id": "67f71dfa",
   "metadata": {},
   "outputs": [
    {
     "name": "stdout",
     "output_type": "stream",
     "text": [
      "faux           681\n",
      "vrai           249\n",
      "répétitions    107\n",
      "Name: VALIDATION, dtype: int64\n"
     ]
    }
   ],
   "source": [
    "# print(df_ancor.error_mwe.value_counts())\n",
    "print(df_ancor.VALIDATION.value_counts())\n",
    "# print(df_er.error_mwe.value_counts())"
   ]
  },
  {
   "cell_type": "markdown",
   "id": "1db65f57",
   "metadata": {},
   "source": [
    "### Sequoia"
   ]
  },
  {
   "cell_type": "code",
   "execution_count": 26,
   "id": "17ee19a2",
   "metadata": {},
   "outputs": [
    {
     "data": {
      "text/html": [
       "<div>\n",
       "<style scoped>\n",
       "    .dataframe tbody tr th:only-of-type {\n",
       "        vertical-align: middle;\n",
       "    }\n",
       "\n",
       "    .dataframe tbody tr th {\n",
       "        vertical-align: top;\n",
       "    }\n",
       "\n",
       "    .dataframe thead th {\n",
       "        text-align: right;\n",
       "    }\n",
       "</style>\n",
       "<table border=\"1\" class=\"dataframe\">\n",
       "  <thead>\n",
       "    <tr style=\"text-align: right;\">\n",
       "      <th></th>\n",
       "      <th>TYPE</th>\n",
       "      <th>CORPUS</th>\n",
       "      <th>FICHIER</th>\n",
       "      <th>PHRASE</th>\n",
       "      <th>TOKENS</th>\n",
       "      <th>COREF</th>\n",
       "      <th>CAS</th>\n",
       "      <th>CHAINE(S)</th>\n",
       "      <th>VALIDATION</th>\n",
       "      <th>DEGRE DE COMPOSITIONNALITE</th>\n",
       "      <th>SOURCE D'ERREUR</th>\n",
       "      <th>LEMMES</th>\n",
       "      <th>error_mwe</th>\n",
       "      <th>real_type</th>\n",
       "    </tr>\n",
       "  </thead>\n",
       "  <tbody>\n",
       "    <tr>\n",
       "      <th>0</th>\n",
       "      <td>VID</td>\n",
       "      <td>sequoia_annodisER</td>\n",
       "      <td>annodisER_34_mwe_coref.cupt</td>\n",
       "      <td>Bien sûr, je ne néglige pas l'aspect financier...</td>\n",
       "      <td>['pris', 'en', 'compte']</td>\n",
       "      <td>['*', '*', '0:90']</td>\n",
       "      <td>{'90': 3}</td>\n",
       "      <td>{'0': '{'80': ['M.', 'Rousselot'], '81': ['me'...</td>\n",
       "      <td>faux</td>\n",
       "      <td></td>\n",
       "      <td>[chaîne incorrecte]</td>\n",
       "      <td>[prendre, en, compte]</td>\n",
       "      <td>False</td>\n",
       "      <td>VID</td>\n",
       "    </tr>\n",
       "    <tr>\n",
       "      <th>1</th>\n",
       "      <td>VID</td>\n",
       "      <td>sequoia_annodisER</td>\n",
       "      <td>annodisER_10_mwe_coref.cupt</td>\n",
       "      <td>S'apercevant que son mari avait soudainement p...</td>\n",
       "      <td>['perdu', 'connaissance']</td>\n",
       "      <td>['*', '0:11']</td>\n",
       "      <td>{'11': 3}</td>\n",
       "      <td>{'0': '{'11': ['connaissance'], '13': ['passag...</td>\n",
       "      <td>faux</td>\n",
       "      <td></td>\n",
       "      <td>[chaîne incorrecte]</td>\n",
       "      <td>[perdre, connaissance]</td>\n",
       "      <td>False</td>\n",
       "      <td>VID</td>\n",
       "    </tr>\n",
       "    <tr>\n",
       "      <th>2</th>\n",
       "      <td>VID</td>\n",
       "      <td>sequoia_annodisER</td>\n",
       "      <td>annodisER_12_mwe_coref.cupt</td>\n",
       "      <td>à travers cette balade interplanétaire, le vis...</td>\n",
       "      <td>['répondait', 'à', 'le', 'nom']</td>\n",
       "      <td>['*', '8:59', '8:59', '8:59']</td>\n",
       "      <td>{'59': 4}</td>\n",
       "      <td>{'8': '{'59': ['à', 'le', 'nom', 'de', 'Messie...</td>\n",
       "      <td>faux</td>\n",
       "      <td></td>\n",
       "      <td>[chaîne incorrecte]</td>\n",
       "      <td>[répondre, à, le, nom]</td>\n",
       "      <td>False</td>\n",
       "      <td>VID</td>\n",
       "    </tr>\n",
       "  </tbody>\n",
       "</table>\n",
       "</div>"
      ],
      "text/plain": [
       "  TYPE             CORPUS                      FICHIER  \\\n",
       "0  VID  sequoia_annodisER  annodisER_34_mwe_coref.cupt   \n",
       "1  VID  sequoia_annodisER  annodisER_10_mwe_coref.cupt   \n",
       "2  VID  sequoia_annodisER  annodisER_12_mwe_coref.cupt   \n",
       "\n",
       "                                              PHRASE  \\\n",
       "0  Bien sûr, je ne néglige pas l'aspect financier...   \n",
       "1  S'apercevant que son mari avait soudainement p...   \n",
       "2  à travers cette balade interplanétaire, le vis...   \n",
       "\n",
       "                            TOKENS                          COREF        CAS  \\\n",
       "0         ['pris', 'en', 'compte']             ['*', '*', '0:90']  {'90': 3}   \n",
       "1        ['perdu', 'connaissance']                  ['*', '0:11']  {'11': 3}   \n",
       "2  ['répondait', 'à', 'le', 'nom']  ['*', '8:59', '8:59', '8:59']  {'59': 4}   \n",
       "\n",
       "                                           CHAINE(S) VALIDATION  \\\n",
       "0  {'0': '{'80': ['M.', 'Rousselot'], '81': ['me'...       faux   \n",
       "1  {'0': '{'11': ['connaissance'], '13': ['passag...       faux   \n",
       "2  {'8': '{'59': ['à', 'le', 'nom', 'de', 'Messie...       faux   \n",
       "\n",
       "  DEGRE DE COMPOSITIONNALITE      SOURCE D'ERREUR                  LEMMES  \\\n",
       "0                             [chaîne incorrecte]   [prendre, en, compte]   \n",
       "1                             [chaîne incorrecte]  [perdre, connaissance]   \n",
       "2                             [chaîne incorrecte]  [répondre, à, le, nom]   \n",
       "\n",
       "   error_mwe real_type  \n",
       "0      False       VID  \n",
       "1      False       VID  \n",
       "2      False       VID  "
      ]
     },
     "execution_count": 26,
     "metadata": {},
     "output_type": "execute_result"
    }
   ],
   "source": [
    "df_sequoia = json2df(\"sequoia\")\n",
    "mask = df_sequoia[\"SOURCE D'ERREUR\"].apply(test_error)\n",
    "df_sequoia[\"error_mwe\"]=mask\n",
    "df_sequoia[\"real_type\"] = df_sequoia[\"TYPE\"]\n",
    "df_sequoia.head(3)"
   ]
  },
  {
   "cell_type": "markdown",
   "id": "710802a1",
   "metadata": {},
   "source": [
    "### ER"
   ]
  },
  {
   "cell_type": "code",
   "execution_count": 27,
   "id": "a2484c4f",
   "metadata": {},
   "outputs": [
    {
     "data": {
      "text/html": [
       "<div>\n",
       "<style scoped>\n",
       "    .dataframe tbody tr th:only-of-type {\n",
       "        vertical-align: middle;\n",
       "    }\n",
       "\n",
       "    .dataframe tbody tr th {\n",
       "        vertical-align: top;\n",
       "    }\n",
       "\n",
       "    .dataframe thead th {\n",
       "        text-align: right;\n",
       "    }\n",
       "</style>\n",
       "<table border=\"1\" class=\"dataframe\">\n",
       "  <thead>\n",
       "    <tr style=\"text-align: right;\">\n",
       "      <th></th>\n",
       "      <th>FICHIER</th>\n",
       "      <th>PHRASE</th>\n",
       "      <th>TOKENS</th>\n",
       "      <th>COREF</th>\n",
       "      <th>CAS</th>\n",
       "      <th>CHAINE(S)</th>\n",
       "      <th>VALIDATION</th>\n",
       "      <th>DEGRE DE COMPOSITIONNALITE</th>\n",
       "      <th>SOURCE D'ERREUR</th>\n",
       "      <th>LEMMES</th>\n",
       "      <th>TYPE</th>\n",
       "      <th>CORPUS</th>\n",
       "      <th>error_mwe</th>\n",
       "      <th>real_type</th>\n",
       "    </tr>\n",
       "  </thead>\n",
       "  <tbody>\n",
       "    <tr>\n",
       "      <th>0</th>\n",
       "      <td>2003-01-02_769_mwe_coref.cupt</td>\n",
       "      <td>Pas d'arrogance, simplement l'envie de se donn...</td>\n",
       "      <td>['envie', 'donner']</td>\n",
       "      <td>['1:7', '*']</td>\n",
       "      <td>{'7': 4}</td>\n",
       "      <td>{'1': '{'1': ['«', \"S'\", 'étalonner'], '3': ['...</td>\n",
       "      <td>faux</td>\n",
       "      <td></td>\n",
       "      <td>[chaîne incorrecte, MWE incorrecte]</td>\n",
       "      <td>[envie, donner]</td>\n",
       "      <td>LVC.cause</td>\n",
       "      <td>ER_0-100</td>\n",
       "      <td>True</td>\n",
       "      <td>LVC.cause</td>\n",
       "    </tr>\n",
       "    <tr>\n",
       "      <th>1</th>\n",
       "      <td>2003-01-02_436_mwe_coref.cupt</td>\n",
       "      <td>Mais rappelons-nous aussi, au seuil de ce nouv...</td>\n",
       "      <td>['rappelons', '-nous']</td>\n",
       "      <td>['*', '27:240']</td>\n",
       "      <td>{'240': 3}</td>\n",
       "      <td>{'27': '{'233': ['les', 'gens'], '240': ['-nou...</td>\n",
       "      <td>faux</td>\n",
       "      <td></td>\n",
       "      <td>[chaîne incorrecte]</td>\n",
       "      <td>[rappeler, nous]</td>\n",
       "      <td>IRV</td>\n",
       "      <td>ER_0-100</td>\n",
       "      <td>False</td>\n",
       "      <td>IRV</td>\n",
       "    </tr>\n",
       "    <tr>\n",
       "      <th>2</th>\n",
       "      <td>2003-01-02_769_mwe_coref.cupt</td>\n",
       "      <td>Le trophée des petits Lions de l'ASM Belfort a...</td>\n",
       "      <td>['connu', 'succès']</td>\n",
       "      <td>['*', '50:219']</td>\n",
       "      <td>{'219': 4}</td>\n",
       "      <td>{'50': '{'219': ['un', 'beau', 'succès', 'popu...</td>\n",
       "      <td>faux</td>\n",
       "      <td></td>\n",
       "      <td>[chaîne incorrecte]</td>\n",
       "      <td>[connaître, succès]</td>\n",
       "      <td>LVC.full</td>\n",
       "      <td>ER_0-100</td>\n",
       "      <td>False</td>\n",
       "      <td>LVC.full</td>\n",
       "    </tr>\n",
       "    <tr>\n",
       "      <th>3</th>\n",
       "      <td>2003-01-02_769_mwe_coref.cupt</td>\n",
       "      <td>Mais il est tout aussi clair que la joueuse ne...</td>\n",
       "      <td>['prendra', 'décision']</td>\n",
       "      <td>['*', '31:444']</td>\n",
       "      <td>{'444': 4}</td>\n",
       "      <td>{'31': '{'429': ['actualité'], '437': ['elle']...</td>\n",
       "      <td>faux</td>\n",
       "      <td></td>\n",
       "      <td>[chaîne incorrecte]</td>\n",
       "      <td>[prendre, décision]</td>\n",
       "      <td>LVC.full</td>\n",
       "      <td>ER_0-100</td>\n",
       "      <td>False</td>\n",
       "      <td>LVC.full</td>\n",
       "    </tr>\n",
       "    <tr>\n",
       "      <th>4</th>\n",
       "      <td>2003-01-02_509_mwe_coref.cupt</td>\n",
       "      <td>C'est l'expérience désagréable vécue par une f...</td>\n",
       "      <td>['expérience', 'vécue']</td>\n",
       "      <td>['15:69', '*']</td>\n",
       "      <td>{'69': 4}</td>\n",
       "      <td>{'15': '{'66': [\"l'\", 'animal'], '69': [\"l'\", ...</td>\n",
       "      <td>faux</td>\n",
       "      <td></td>\n",
       "      <td>[chaîne incorrecte]</td>\n",
       "      <td>[expérience, vivre]</td>\n",
       "      <td>LVC.full</td>\n",
       "      <td>ER_0-100</td>\n",
       "      <td>False</td>\n",
       "      <td>LVC.full</td>\n",
       "    </tr>\n",
       "    <tr>\n",
       "      <th>5</th>\n",
       "      <td>2003-01-02_657_mwe_coref.cupt</td>\n",
       "      <td>On y retrouve ses voisins, on bavarde, « parfo...</td>\n",
       "      <td>['ai', 'droit']</td>\n",
       "      <td>['*', '5:51']</td>\n",
       "      <td>{'51': 3}</td>\n",
       "      <td>{'5': '{'37': ['On'], '42': ['Henri', ','], '4...</td>\n",
       "      <td>faux</td>\n",
       "      <td></td>\n",
       "      <td>[chaîne incorrecte]</td>\n",
       "      <td>[avoir, droit]</td>\n",
       "      <td>LVC.full</td>\n",
       "      <td>ER_0-100</td>\n",
       "      <td>False</td>\n",
       "      <td>LVC.full</td>\n",
       "    </tr>\n",
       "    <tr>\n",
       "      <th>6</th>\n",
       "      <td>2003-01-02_657_mwe_coref.cupt</td>\n",
       "      <td>Un grand coup de klaxon, et le tour est joué.</td>\n",
       "      <td>['tour', 'joué']</td>\n",
       "      <td>['3:115', '*']</td>\n",
       "      <td>{'115': 4}</td>\n",
       "      <td>{'3': '{'108': ['réveillon'], '111': ['Neufchâ...</td>\n",
       "      <td>faux</td>\n",
       "      <td></td>\n",
       "      <td>[chaîne incorrecte]</td>\n",
       "      <td>[tour, jouer]</td>\n",
       "      <td>LVC.full</td>\n",
       "      <td>ER_0-100</td>\n",
       "      <td>False</td>\n",
       "      <td>LVC.full</td>\n",
       "    </tr>\n",
       "    <tr>\n",
       "      <th>7</th>\n",
       "      <td>2003-01-02_612_mwe_coref.cupt</td>\n",
       "      <td>Dommage que le signal de minuit n'ait pas été ...</td>\n",
       "      <td>['faire', 'fête']</td>\n",
       "      <td>['*', '15:34']</td>\n",
       "      <td>{'34': 4}</td>\n",
       "      <td>{'15': '{'29': ['la', 'foule'], '34': ['la', '...</td>\n",
       "      <td>faux</td>\n",
       "      <td></td>\n",
       "      <td>[chaîne incorrecte]</td>\n",
       "      <td>[faire, fête]</td>\n",
       "      <td>LVC.full</td>\n",
       "      <td>ER_0-100</td>\n",
       "      <td>False</td>\n",
       "      <td>LVC.full</td>\n",
       "    </tr>\n",
       "    <tr>\n",
       "      <th>8</th>\n",
       "      <td>2003-01-02_186_mwe_coref.cupt</td>\n",
       "      <td>Sa grande passion fut son travail qu'il effect...</td>\n",
       "      <td>['travail', 'effectua']</td>\n",
       "      <td>['0:165', '*']</td>\n",
       "      <td>{'165': 4}</td>\n",
       "      <td>{'0': '{'88': ['il'], '89': ['agent', 'commerc...</td>\n",
       "      <td>faux</td>\n",
       "      <td></td>\n",
       "      <td>[chaîne incorrecte]</td>\n",
       "      <td>[travail, effectuer]</td>\n",
       "      <td>LVC.full</td>\n",
       "      <td>ER_0-100</td>\n",
       "      <td>False</td>\n",
       "      <td>LVC.full</td>\n",
       "    </tr>\n",
       "    <tr>\n",
       "      <th>9</th>\n",
       "      <td>2003-01-02_399_mwe_coref.cupt</td>\n",
       "      <td>Fin juin, quand j'ai donné mon accord au prési...</td>\n",
       "      <td>['donné', 'accord']</td>\n",
       "      <td>['*', '6:23;3:24']</td>\n",
       "      <td>{'24': 4, '23': 4}</td>\n",
       "      <td>{'6': '{'23': ['mon', 'accord'], '28': ['je'],...</td>\n",
       "      <td>faux</td>\n",
       "      <td></td>\n",
       "      <td>[chaîne incorrecte]</td>\n",
       "      <td>[donner, accord]</td>\n",
       "      <td>LVC.full</td>\n",
       "      <td>ER_0-100</td>\n",
       "      <td>False</td>\n",
       "      <td>LVC.full</td>\n",
       "    </tr>\n",
       "    <tr>\n",
       "      <th>10</th>\n",
       "      <td>2003-01-02_308_mwe_coref.cupt</td>\n",
       "      <td>La commune a maintenu sa subvention de 150 eur...</td>\n",
       "      <td>['fait', 'demande']</td>\n",
       "      <td>['*', '0:78']</td>\n",
       "      <td>{'78': 4}</td>\n",
       "      <td>{'0': '{'71': ['sa', 'subvention', 'de', '150'...</td>\n",
       "      <td>faux</td>\n",
       "      <td></td>\n",
       "      <td>[chaîne incorrecte]</td>\n",
       "      <td>[faire, demande]</td>\n",
       "      <td>LVC.full</td>\n",
       "      <td>ER_0-100</td>\n",
       "      <td>False</td>\n",
       "      <td>LVC.full</td>\n",
       "    </tr>\n",
       "    <tr>\n",
       "      <th>11</th>\n",
       "      <td>2003-01-02_414_mwe_coref.cupt</td>\n",
       "      <td>Pas question de prendre le risque de les voir ...</td>\n",
       "      <td>['faire', 'grève']</td>\n",
       "      <td>['*', '16:68']</td>\n",
       "      <td>{'68': 4}</td>\n",
       "      <td>{'16': '{'61': ['la', 'monnaie', 'unique'], '6...</td>\n",
       "      <td>faux</td>\n",
       "      <td></td>\n",
       "      <td>[chaîne incorrecte]</td>\n",
       "      <td>[faire, grève]</td>\n",
       "      <td>LVC.full</td>\n",
       "      <td>ER_0-100</td>\n",
       "      <td>False</td>\n",
       "      <td>LVC.full</td>\n",
       "    </tr>\n",
       "    <tr>\n",
       "      <th>12</th>\n",
       "      <td>2003-01-02_582_mwe_coref.cupt</td>\n",
       "      <td>Aux côtés du maire, se trouvait Jacky Chef, ad...</td>\n",
       "      <td>['questions', 'posées']</td>\n",
       "      <td>['16:88', '16:88']</td>\n",
       "      <td>{'88': 1}</td>\n",
       "      <td>{'16': '{'88': ['à', 'les', 'questions', 'posé...</td>\n",
       "      <td>faux</td>\n",
       "      <td></td>\n",
       "      <td>[chaîne incorrecte]</td>\n",
       "      <td>[question, poser]</td>\n",
       "      <td>LVC.full</td>\n",
       "      <td>ER_0-100</td>\n",
       "      <td>False</td>\n",
       "      <td>LVC.full</td>\n",
       "    </tr>\n",
       "    <tr>\n",
       "      <th>13</th>\n",
       "      <td>2003-01-02_352_mwe_coref.cupt</td>\n",
       "      <td>« Cette impasse n'a pas la capacité d'accueill...</td>\n",
       "      <td>['a', 'capacité']</td>\n",
       "      <td>['*', '14:23']</td>\n",
       "      <td>{'23': 4}</td>\n",
       "      <td>{'14': '{'19': ['la', 'population'], '23': ['l...</td>\n",
       "      <td>faux</td>\n",
       "      <td></td>\n",
       "      <td>[chaîne incorrecte]</td>\n",
       "      <td>[avoir, capacité]</td>\n",
       "      <td>LVC.full</td>\n",
       "      <td>ER_0-100</td>\n",
       "      <td>False</td>\n",
       "      <td>LVC.full</td>\n",
       "    </tr>\n",
       "    <tr>\n",
       "      <th>14</th>\n",
       "      <td>2003-01-02_73_mwe_coref.cupt</td>\n",
       "      <td>Depuis, son mari s'investissait fortement aupr...</td>\n",
       "      <td>['effectuer', 'don']</td>\n",
       "      <td>['*', '9:120']</td>\n",
       "      <td>{'120': 4}</td>\n",
       "      <td>{'9': '{'104': ['les', 'symptômes', 'de', 'la'...</td>\n",
       "      <td>faux</td>\n",
       "      <td></td>\n",
       "      <td>[chaîne incorrecte]</td>\n",
       "      <td>[effectuer, don]</td>\n",
       "      <td>LVC.full</td>\n",
       "      <td>ER_0-100</td>\n",
       "      <td>False</td>\n",
       "      <td>LVC.full</td>\n",
       "    </tr>\n",
       "    <tr>\n",
       "      <th>15</th>\n",
       "      <td>2003-01-02_712_mwe_coref.cupt</td>\n",
       "      <td>Dans le domaine de la solidarité, je souhaite ...</td>\n",
       "      <td>['ont', 'besoin']</td>\n",
       "      <td>['*', '15:78']</td>\n",
       "      <td>{'78': 4}</td>\n",
       "      <td>{'15': '{'78': ['un', 'véritable', 'besoin'], ...</td>\n",
       "      <td>faux</td>\n",
       "      <td></td>\n",
       "      <td>[chaîne incorrecte]</td>\n",
       "      <td>[avoir, besoin]</td>\n",
       "      <td>LVC.full</td>\n",
       "      <td>ER_0-100</td>\n",
       "      <td>False</td>\n",
       "      <td>LVC.full</td>\n",
       "    </tr>\n",
       "    <tr>\n",
       "      <th>16</th>\n",
       "      <td>2003-01-02_777_mwe_coref.cupt</td>\n",
       "      <td>La tradition persiste à Pétange (Luxembourg), ...</td>\n",
       "      <td>['fait', 'déplacement']</td>\n",
       "      <td>['*', '10:218']</td>\n",
       "      <td>{'218': 4}</td>\n",
       "      <td>{'10': '{'207': ['un', 'cyclo-cross', 'interna...</td>\n",
       "      <td>faux</td>\n",
       "      <td></td>\n",
       "      <td>[chaîne incorrecte]</td>\n",
       "      <td>[faire, déplacement]</td>\n",
       "      <td>LVC.full</td>\n",
       "      <td>ER_0-100</td>\n",
       "      <td>False</td>\n",
       "      <td>LVC.full</td>\n",
       "    </tr>\n",
       "    <tr>\n",
       "      <th>17</th>\n",
       "      <td>2003-01-02_777_mwe_coref.cupt</td>\n",
       "      <td>Je fais confiance à mon groupe.</td>\n",
       "      <td>['fais', 'confiance']</td>\n",
       "      <td>['*', '31:263']</td>\n",
       "      <td>{'263': 3}</td>\n",
       "      <td>{'31': '{'263': ['confiance'], '268': ['on'], ...</td>\n",
       "      <td>faux</td>\n",
       "      <td></td>\n",
       "      <td>[chaîne incorrecte]</td>\n",
       "      <td>[faire, confiance]</td>\n",
       "      <td>LVC.full</td>\n",
       "      <td>ER_0-100</td>\n",
       "      <td>False</td>\n",
       "      <td>LVC.full</td>\n",
       "    </tr>\n",
       "    <tr>\n",
       "      <th>18</th>\n",
       "      <td>2003-01-02_102_mwe_coref.cupt</td>\n",
       "      <td>Je ne sais pas encore ce que je vais faire, ma...</td>\n",
       "      <td>['ferai', 'fête']</td>\n",
       "      <td>['*', '30:249']</td>\n",
       "      <td>{'249': 4}</td>\n",
       "      <td>{'30': '{'249': ['la', 'fête'], '253': ['la', ...</td>\n",
       "      <td>faux</td>\n",
       "      <td></td>\n",
       "      <td>[chaîne incorrecte]</td>\n",
       "      <td>[faire, fête]</td>\n",
       "      <td>LVC.full</td>\n",
       "      <td>ER_0-100</td>\n",
       "      <td>False</td>\n",
       "      <td>LVC.full</td>\n",
       "    </tr>\n",
       "    <tr>\n",
       "      <th>19</th>\n",
       "      <td>2003-01-02_102_mwe_coref.cupt</td>\n",
       "      <td>« Quand j'en ai l'occasion, je les lis.</td>\n",
       "      <td>['ai', 'occasion']</td>\n",
       "      <td>['*', '65:259']</td>\n",
       "      <td>{'259': 4}</td>\n",
       "      <td>{'65': '{'259': [\"l'\", 'occasion'], '263': [\"j...</td>\n",
       "      <td>faux</td>\n",
       "      <td></td>\n",
       "      <td>[chaîne incorrecte]</td>\n",
       "      <td>[avoir, occasion]</td>\n",
       "      <td>LVC.full</td>\n",
       "      <td>ER_0-100</td>\n",
       "      <td>False</td>\n",
       "      <td>LVC.full</td>\n",
       "    </tr>\n",
       "    <tr>\n",
       "      <th>20</th>\n",
       "      <td>2003-01-02_102_mwe_coref.cupt</td>\n",
       "      <td>« Nous avons juste eu le temps de déposer sa g...</td>\n",
       "      <td>['eu', 'surprise']</td>\n",
       "      <td>['*', '10:411']</td>\n",
       "      <td>{'411': 4}</td>\n",
       "      <td>{'10': '{'404': ['sa', 'grande', 'sœur'], '406...</td>\n",
       "      <td>faux</td>\n",
       "      <td></td>\n",
       "      <td>[chaîne incorrecte]</td>\n",
       "      <td>[avoir, surprise]</td>\n",
       "      <td>LVC.full</td>\n",
       "      <td>ER_0-100</td>\n",
       "      <td>False</td>\n",
       "      <td>LVC.full</td>\n",
       "    </tr>\n",
       "    <tr>\n",
       "      <th>21</th>\n",
       "      <td>2003-01-02_731_mwe_coref.cupt</td>\n",
       "      <td>Pour la fin de l'année et après avoir distribu...</td>\n",
       "      <td>['travaux', 'accomplis']</td>\n",
       "      <td>['11:71;13:72', '*']</td>\n",
       "      <td>{'72': 4, '71': 4}</td>\n",
       "      <td>{'11': '{'64': ['une', 'petite', 'commune'], '...</td>\n",
       "      <td>vrai</td>\n",
       "      <td>moyen</td>\n",
       "      <td>[mention incorrecte]</td>\n",
       "      <td>[travail, accomplir]</td>\n",
       "      <td>LVC.full</td>\n",
       "      <td>ER_0-100</td>\n",
       "      <td>False</td>\n",
       "      <td>LVC.full</td>\n",
       "    </tr>\n",
       "    <tr>\n",
       "      <th>22</th>\n",
       "      <td>2003-01-02_343_mwe_coref.cupt</td>\n",
       "      <td>Jeune agriculteur, Thomas Lejeune a pris la su...</td>\n",
       "      <td>['pris', 'succession']</td>\n",
       "      <td>['*', '15:95']</td>\n",
       "      <td>{'95': 4}</td>\n",
       "      <td>{'15': '{'88': ['la', 'fois'], '92': ['la', 'c...</td>\n",
       "      <td>faux</td>\n",
       "      <td></td>\n",
       "      <td>[chaîne incorrecte]</td>\n",
       "      <td>[prendre, succession]</td>\n",
       "      <td>LVC.full</td>\n",
       "      <td>ER_0-100</td>\n",
       "      <td>False</td>\n",
       "      <td>LVC.full</td>\n",
       "    </tr>\n",
       "    <tr>\n",
       "      <th>23</th>\n",
       "      <td>2003-01-02_69_mwe_coref.cupt</td>\n",
       "      <td>Le comité d'éducation à la santé et à la citoy...</td>\n",
       "      <td>['mènent', 'action']</td>\n",
       "      <td>['*', '13:60']</td>\n",
       "      <td>{'60': 4}</td>\n",
       "      <td>{'13': '{'60': ['une', 'action', \"d'\", 'enverg...</td>\n",
       "      <td>faux</td>\n",
       "      <td></td>\n",
       "      <td>[chaîne incorrecte]</td>\n",
       "      <td>[mener, action]</td>\n",
       "      <td>LVC.full</td>\n",
       "      <td>ER_0-100</td>\n",
       "      <td>False</td>\n",
       "      <td>LVC.full</td>\n",
       "    </tr>\n",
       "    <tr>\n",
       "      <th>24</th>\n",
       "      <td>2003-01-02_761_mwe_coref.cupt</td>\n",
       "      <td>Un crime commis une semaine plus tôt, dans un ...</td>\n",
       "      <td>['crime', 'commis']</td>\n",
       "      <td>['4:107', '*']</td>\n",
       "      <td>{'107': 4}</td>\n",
       "      <td>{'4': '{'102': ['le', 'meurtre', 'de', \"l'\", '...</td>\n",
       "      <td>vrai</td>\n",
       "      <td>fort</td>\n",
       "      <td>[]</td>\n",
       "      <td>[crime, commettre]</td>\n",
       "      <td>LVC.full</td>\n",
       "      <td>ER_0-100</td>\n",
       "      <td>False</td>\n",
       "      <td>LVC.full</td>\n",
       "    </tr>\n",
       "    <tr>\n",
       "      <th>25</th>\n",
       "      <td>2003-01-02_434_mwe_coref.cupt</td>\n",
       "      <td>Cette attaque est « inadmissible et intolérabl...</td>\n",
       "      <td>['aura', 'suites']</td>\n",
       "      <td>['*', '16:155']</td>\n",
       "      <td>{'155': 4}</td>\n",
       "      <td>{'16': '{'155': ['de', 'les', 'suites'], '161'...</td>\n",
       "      <td>faux</td>\n",
       "      <td></td>\n",
       "      <td>[chaîne incorrecte]</td>\n",
       "      <td>[avoir, suite]</td>\n",
       "      <td>LVC.full</td>\n",
       "      <td>ER_0-100</td>\n",
       "      <td>False</td>\n",
       "      <td>LVC.full</td>\n",
       "    </tr>\n",
       "    <tr>\n",
       "      <th>26</th>\n",
       "      <td>2003-01-02_224_mwe_coref.cupt</td>\n",
       "      <td>Il n'a reçu en réponse que des menaces physiqu...</td>\n",
       "      <td>['reçu', 'menaces']</td>\n",
       "      <td>['*', '1:155']</td>\n",
       "      <td>{'155': 4}</td>\n",
       "      <td>{'1': '{'155': ['de', 'les', 'menaces', 'physi...</td>\n",
       "      <td>faux</td>\n",
       "      <td></td>\n",
       "      <td>[chaîne incorrecte]</td>\n",
       "      <td>[recevoir, menace]</td>\n",
       "      <td>LVC.full</td>\n",
       "      <td>ER_0-100</td>\n",
       "      <td>False</td>\n",
       "      <td>LVC.full</td>\n",
       "    </tr>\n",
       "    <tr>\n",
       "      <th>27</th>\n",
       "      <td>2003-01-02_134_mwe_coref.cupt</td>\n",
       "      <td>Et autant vous dire qu'il aura un impact réel ...</td>\n",
       "      <td>['aura', 'impact']</td>\n",
       "      <td>['*', '1:111']</td>\n",
       "      <td>{'111': 4}</td>\n",
       "      <td>{'1': '{'108': ['le', 'renouveau'], '110': ['i...</td>\n",
       "      <td>faux</td>\n",
       "      <td></td>\n",
       "      <td>[chaîne incorrecte]</td>\n",
       "      <td>[avoir, impact]</td>\n",
       "      <td>LVC.full</td>\n",
       "      <td>ER_0-100</td>\n",
       "      <td>False</td>\n",
       "      <td>LVC.full</td>\n",
       "    </tr>\n",
       "    <tr>\n",
       "      <th>28</th>\n",
       "      <td>2003-01-02_320_mwe_coref.cupt</td>\n",
       "      <td>Au 24, résident M. et Mme Gillot, au 28, Laure...</td>\n",
       "      <td>['eu', 'plaisir']</td>\n",
       "      <td>['*', '1:97']</td>\n",
       "      <td>{'97': 4}</td>\n",
       "      <td>{'1': '{'97': ['le', 'plaisir'], '98': ['le', ...</td>\n",
       "      <td>faux</td>\n",
       "      <td></td>\n",
       "      <td>[chaîne incorrecte]</td>\n",
       "      <td>[avoir, plaisir]</td>\n",
       "      <td>LVC.full</td>\n",
       "      <td>ER_0-100</td>\n",
       "      <td>False</td>\n",
       "      <td>LVC.full</td>\n",
       "    </tr>\n",
       "    <tr>\n",
       "      <th>29</th>\n",
       "      <td>2003-01-02_630_mwe_coref.cupt</td>\n",
       "      <td>Dans la préface, Sophie Harent, conservatrice ...</td>\n",
       "      <td>['rôle', 'joué']</td>\n",
       "      <td>['69:39', '*']</td>\n",
       "      <td>{'39': 4}</td>\n",
       "      <td>{'69': '{'31': ['Nancy', ','], '34': ['art', '...</td>\n",
       "      <td>faux</td>\n",
       "      <td></td>\n",
       "      <td>[chaîne incorrecte]</td>\n",
       "      <td>[rôle, jouer]</td>\n",
       "      <td>LVC.full</td>\n",
       "      <td>ER_0-100</td>\n",
       "      <td>False</td>\n",
       "      <td>LVC.full</td>\n",
       "    </tr>\n",
       "    <tr>\n",
       "      <th>30</th>\n",
       "      <td>2003-01-02_415_mwe_coref.cupt</td>\n",
       "      <td>Des cartes postales Dans un communiqué, le com...</td>\n",
       "      <td>['prenant', 'décret']</td>\n",
       "      <td>['*', '0:18;0:19']</td>\n",
       "      <td>{'19': 4, '18': 4}</td>\n",
       "      <td>{'0': '{'3': ['le', 'comédien'], '10': ['il'],...</td>\n",
       "      <td>faux</td>\n",
       "      <td></td>\n",
       "      <td>[chaîne incorrecte]</td>\n",
       "      <td>[prendre, décret]</td>\n",
       "      <td>LVC.full</td>\n",
       "      <td>ER_0-100</td>\n",
       "      <td>False</td>\n",
       "      <td>LVC.full</td>\n",
       "    </tr>\n",
       "    <tr>\n",
       "      <th>31</th>\n",
       "      <td>2003-01-02_415_mwe_coref.cupt</td>\n",
       "      <td>Par ailleurs Michel Creton a déposé lundi à l'...</td>\n",
       "      <td>['engagement', 'pris']</td>\n",
       "      <td>['11:49', '*']</td>\n",
       "      <td>{'49': 4}</td>\n",
       "      <td>{'11': '{'49': [\"l'\", 'engagement'], '52': [\"l...</td>\n",
       "      <td>faux</td>\n",
       "      <td></td>\n",
       "      <td>[chaîne incorrecte]</td>\n",
       "      <td>[engagement, prendre]</td>\n",
       "      <td>LVC.full</td>\n",
       "      <td>ER_0-100</td>\n",
       "      <td>False</td>\n",
       "      <td>LVC.full</td>\n",
       "    </tr>\n",
       "    <tr>\n",
       "      <th>32</th>\n",
       "      <td>2003-01-02_498_mwe_coref.cupt</td>\n",
       "      <td>Retraite active Marié en 1951 et père de deux ...</td>\n",
       "      <td>['eu', 'douleur']</td>\n",
       "      <td>['*', '16:19']</td>\n",
       "      <td>{'19': 4}</td>\n",
       "      <td>{'16': '{'19': ['la', 'douleur'], '24': ['la',...</td>\n",
       "      <td>faux</td>\n",
       "      <td></td>\n",
       "      <td>[chaîne incorrecte]</td>\n",
       "      <td>[avoir, douleur]</td>\n",
       "      <td>LVC.full</td>\n",
       "      <td>ER_0-100</td>\n",
       "      <td>False</td>\n",
       "      <td>LVC.full</td>\n",
       "    </tr>\n",
       "    <tr>\n",
       "      <th>33</th>\n",
       "      <td>2003-01-02_498_mwe_coref.cupt</td>\n",
       "      <td>Membre de la société d'horticulture, il prenai...</td>\n",
       "      <td>['prenait', 'plaisir']</td>\n",
       "      <td>['*', '12:43']</td>\n",
       "      <td>{'43': 4}</td>\n",
       "      <td>{'12': '{'39': ['Membre', 'de', 'la', 'société...</td>\n",
       "      <td>faux</td>\n",
       "      <td></td>\n",
       "      <td>[chaîne incorrecte]</td>\n",
       "      <td>[prendre, plaisir]</td>\n",
       "      <td>LVC.full</td>\n",
       "      <td>ER_0-100</td>\n",
       "      <td>False</td>\n",
       "      <td>LVC.full</td>\n",
       "    </tr>\n",
       "    <tr>\n",
       "      <th>34</th>\n",
       "      <td>2003-01-02_693_mwe_coref.cupt</td>\n",
       "      <td>L'ensemble de l'orchestre national de Lorraine...</td>\n",
       "      <td>['donnera', 'concert']</td>\n",
       "      <td>['*', '4:225']</td>\n",
       "      <td>{'225': 4}</td>\n",
       "      <td>{'4': '{'224': ['Jacques', 'Mercier', ','], '2...</td>\n",
       "      <td>faux</td>\n",
       "      <td></td>\n",
       "      <td>[chaîne incorrecte]</td>\n",
       "      <td>[donner, concert]</td>\n",
       "      <td>LVC.full</td>\n",
       "      <td>ER_0-100</td>\n",
       "      <td>False</td>\n",
       "      <td>LVC.full</td>\n",
       "    </tr>\n",
       "    <tr>\n",
       "      <th>35</th>\n",
       "      <td>2003-01-02_135_mwe_coref.cupt</td>\n",
       "      <td>D'ores et déjà, Guy Rolland se demande « si l'...</td>\n",
       "      <td>['mener', 'actions']</td>\n",
       "      <td>['*', '3:47']</td>\n",
       "      <td>{'47': 4}</td>\n",
       "      <td>{'3': '{'47': ['de', 'les', 'actions', 'plus',...</td>\n",
       "      <td>vrai</td>\n",
       "      <td>moyen</td>\n",
       "      <td>[]</td>\n",
       "      <td>[mener, action]</td>\n",
       "      <td>LVC.full</td>\n",
       "      <td>ER_0-100</td>\n",
       "      <td>False</td>\n",
       "      <td>LVC.full</td>\n",
       "    </tr>\n",
       "    <tr>\n",
       "      <th>36</th>\n",
       "      <td>2003-01-02_135_mwe_coref.cupt</td>\n",
       "      <td>» L'an passé, outre le Nouvel an, les saint-be...</td>\n",
       "      <td>['effectués', 'opérations']</td>\n",
       "      <td>['*', '3:56']</td>\n",
       "      <td>{'56': 4}</td>\n",
       "      <td>{'3': '{'47': ['de', 'les', 'actions', 'plus',...</td>\n",
       "      <td>faux</td>\n",
       "      <td></td>\n",
       "      <td>[chaîne incorrecte]</td>\n",
       "      <td>[effectuer, opération]</td>\n",
       "      <td>LVC.full</td>\n",
       "      <td>ER_0-100</td>\n",
       "      <td>False</td>\n",
       "      <td>LVC.full</td>\n",
       "    </tr>\n",
       "    <tr>\n",
       "      <th>37</th>\n",
       "      <td>2003-01-02_135_mwe_coref.cupt</td>\n",
       "      <td>» L'an passé, outre le Nouvel an, les saint-be...</td>\n",
       "      <td>['effectués', 'sortie']</td>\n",
       "      <td>['*', '3:57']</td>\n",
       "      <td>{'57': 4}</td>\n",
       "      <td>{'3': '{'47': ['de', 'les', 'actions', 'plus',...</td>\n",
       "      <td>faux</td>\n",
       "      <td></td>\n",
       "      <td>[chaîne incorrecte, MWE incorrecte]</td>\n",
       "      <td>[effectuer, sortie]</td>\n",
       "      <td>LVC.full</td>\n",
       "      <td>ER_0-100</td>\n",
       "      <td>True</td>\n",
       "      <td>LVC.full</td>\n",
       "    </tr>\n",
       "    <tr>\n",
       "      <th>38</th>\n",
       "      <td>2003-01-02_627_mwe_coref.cupt</td>\n",
       "      <td>Et enfin assurer une bonne défense devant le t...</td>\n",
       "      <td>['assurer', 'défense']</td>\n",
       "      <td>['*', '12:61']</td>\n",
       "      <td>{'61': 4}</td>\n",
       "      <td>{'12': '{'61': ['une', 'bonne', 'défense'], '6...</td>\n",
       "      <td>faux</td>\n",
       "      <td></td>\n",
       "      <td>[chaîne incorrecte]</td>\n",
       "      <td>[assurer, défense]</td>\n",
       "      <td>LVC.full</td>\n",
       "      <td>ER_0-100</td>\n",
       "      <td>False</td>\n",
       "      <td>LVC.full</td>\n",
       "    </tr>\n",
       "    <tr>\n",
       "      <th>39</th>\n",
       "      <td>2003-01-02_123_mwe_coref.cupt</td>\n",
       "      <td>« J'ai plutôt le sentiment que cela m'a rappro...</td>\n",
       "      <td>['ai', 'sentiment']</td>\n",
       "      <td>['*', '1:14']</td>\n",
       "      <td>{'14': 4}</td>\n",
       "      <td>{'1': '{'6': ['le', 'Haut-Doubs', 'conservateu...</td>\n",
       "      <td>faux</td>\n",
       "      <td></td>\n",
       "      <td>[chaîne incorrecte]</td>\n",
       "      <td>[avoir, sentiment]</td>\n",
       "      <td>LVC.full</td>\n",
       "      <td>ER_0-100</td>\n",
       "      <td>False</td>\n",
       "      <td>LVC.full</td>\n",
       "    </tr>\n",
       "    <tr>\n",
       "      <th>40</th>\n",
       "      <td>2003-01-02_506_mwe_coref.cupt</td>\n",
       "      <td>Et damer le pion à la concurrence qui elle aus...</td>\n",
       "      <td>['a', 'intention']</td>\n",
       "      <td>['*', '5:56']</td>\n",
       "      <td>{'56': 4}</td>\n",
       "      <td>{'5': '{'48': [\"l'\", 'originalité'], '52': ['l...</td>\n",
       "      <td>faux</td>\n",
       "      <td></td>\n",
       "      <td>[chaîne incorrecte]</td>\n",
       "      <td>[avoir, intention]</td>\n",
       "      <td>LVC.full</td>\n",
       "      <td>ER_0-100</td>\n",
       "      <td>False</td>\n",
       "      <td>LVC.full</td>\n",
       "    </tr>\n",
       "    <tr>\n",
       "      <th>41</th>\n",
       "      <td>2003-01-02_770_mwe_coref.cupt</td>\n",
       "      <td>Il sera donc temps de discuter, de se voir pou...</td>\n",
       "      <td>['prendre', 'décision']</td>\n",
       "      <td>['*', '27:45']</td>\n",
       "      <td>{'45': 4}</td>\n",
       "      <td>{'27': '{'45': ['la', 'meilleure', 'décision',...</td>\n",
       "      <td>faux</td>\n",
       "      <td></td>\n",
       "      <td>[chaîne incorrecte]</td>\n",
       "      <td>[prendre, décision]</td>\n",
       "      <td>LVC.full</td>\n",
       "      <td>ER_0-100</td>\n",
       "      <td>False</td>\n",
       "      <td>LVC.full</td>\n",
       "    </tr>\n",
       "    <tr>\n",
       "      <th>42</th>\n",
       "      <td>2003-01-02_770_mwe_coref.cupt</td>\n",
       "      <td>Inscrire deux buts, c'est un moment particulie...</td>\n",
       "      <td>['Inscrire', 'buts']</td>\n",
       "      <td>['*', '12:189']</td>\n",
       "      <td>{'189': 4}</td>\n",
       "      <td>{'12': '{'181': ['de', 'grands', 'moments'], '...</td>\n",
       "      <td>faux</td>\n",
       "      <td></td>\n",
       "      <td>[chaîne incorrecte]</td>\n",
       "      <td>[inscrire, but]</td>\n",
       "      <td>LVC.full</td>\n",
       "      <td>ER_0-100</td>\n",
       "      <td>False</td>\n",
       "      <td>LVC.full</td>\n",
       "    </tr>\n",
       "    <tr>\n",
       "      <th>43</th>\n",
       "      <td>2003-01-02_770_mwe_coref.cupt</td>\n",
       "      <td>Inscrire deux buts, c'est un moment particulie...</td>\n",
       "      <td>['ai', 'habitude']</td>\n",
       "      <td>['*', '14:193']</td>\n",
       "      <td>{'193': 4}</td>\n",
       "      <td>{'14': '{'193': [\"l'\", 'habitude'], '199': ['M...</td>\n",
       "      <td>faux</td>\n",
       "      <td></td>\n",
       "      <td>[chaîne incorrecte]</td>\n",
       "      <td>[avoir, habitude]</td>\n",
       "      <td>LVC.full</td>\n",
       "      <td>ER_0-100</td>\n",
       "      <td>False</td>\n",
       "      <td>LVC.full</td>\n",
       "    </tr>\n",
       "    <tr>\n",
       "      <th>44</th>\n",
       "      <td>2003-01-02_770_mwe_coref.cupt</td>\n",
       "      <td>Wilson Oruma et Philippe Raschke n'ont toujour...</td>\n",
       "      <td>['effectuer', 'travail']</td>\n",
       "      <td>['*', '34:206']</td>\n",
       "      <td>{'206': 4}</td>\n",
       "      <td>{'34': '{'197': ['de', 'le', 'groupe'], '202':...</td>\n",
       "      <td>faux</td>\n",
       "      <td></td>\n",
       "      <td>[chaîne incorrecte]</td>\n",
       "      <td>[effectuer, travail]</td>\n",
       "      <td>LVC.full</td>\n",
       "      <td>ER_0-100</td>\n",
       "      <td>False</td>\n",
       "      <td>LVC.full</td>\n",
       "    </tr>\n",
       "    <tr>\n",
       "      <th>45</th>\n",
       "      <td>2003-01-02_567_mwe_coref.cupt</td>\n",
       "      <td>Le fait de ne pas sortir n'empêche pas de fair...</td>\n",
       "      <td>['faire', 'fête']</td>\n",
       "      <td>['*', '1:86']</td>\n",
       "      <td>{'86': 4}</td>\n",
       "      <td>{'1': '{'74': ['la', 'Saint-Sylvestre'], '75':...</td>\n",
       "      <td>faux</td>\n",
       "      <td></td>\n",
       "      <td>[chaîne incorrecte]</td>\n",
       "      <td>[faire, fête]</td>\n",
       "      <td>LVC.full</td>\n",
       "      <td>ER_0-100</td>\n",
       "      <td>False</td>\n",
       "      <td>LVC.full</td>\n",
       "    </tr>\n",
       "    <tr>\n",
       "      <th>46</th>\n",
       "      <td>2003-01-02_470_mwe_coref.cupt</td>\n",
       "      <td>A l'origine, il y avait eu un couac (quorum pa...</td>\n",
       "      <td>['origine', 'eu']</td>\n",
       "      <td>['1:56', '*']</td>\n",
       "      <td>{'56': 4}</td>\n",
       "      <td>{'1': '{'53': [\"l'\", 'APL'], '55': ['qui'], '5...</td>\n",
       "      <td>faux</td>\n",
       "      <td></td>\n",
       "      <td>[chaîne incorrecte]</td>\n",
       "      <td>[origine, avoir]</td>\n",
       "      <td>LVC.full</td>\n",
       "      <td>ER_0-100</td>\n",
       "      <td>False</td>\n",
       "      <td>LVC.full</td>\n",
       "    </tr>\n",
       "    <tr>\n",
       "      <th>47</th>\n",
       "      <td>2003-01-02_769_mwe_coref.cupt</td>\n",
       "      <td>Pour n'avoir aucun regret, il faudra également...</td>\n",
       "      <td>['nous', 'poser', 'question']</td>\n",
       "      <td>['*', '*', '74:20']</td>\n",
       "      <td>{'20': 4}</td>\n",
       "      <td>{'74': '{'14': ['une', 'équipe', 'de', 'Ligue'...</td>\n",
       "      <td>faux</td>\n",
       "      <td></td>\n",
       "      <td>[chaîne incorrecte]</td>\n",
       "      <td>[lui, poser, question]</td>\n",
       "      <td>VID</td>\n",
       "      <td>ER_0-100</td>\n",
       "      <td>False</td>\n",
       "      <td>VID</td>\n",
       "    </tr>\n",
       "    <tr>\n",
       "      <th>48</th>\n",
       "      <td>2003-01-02_769_mwe_coref.cupt</td>\n",
       "      <td>Chacune a pu suivre un programme individualisé...</td>\n",
       "      <td>['faire', 'le', 'point']</td>\n",
       "      <td>['*', '42:315', '42:315']</td>\n",
       "      <td>{'315': 3}</td>\n",
       "      <td>{'42': '{'314': ['le', 'véritable', 'souci'], ...</td>\n",
       "      <td>discutable</td>\n",
       "      <td></td>\n",
       "      <td>[mention incorrecte]</td>\n",
       "      <td>[faire, le, point]</td>\n",
       "      <td>VID</td>\n",
       "      <td>ER_0-100</td>\n",
       "      <td>False</td>\n",
       "      <td>VID</td>\n",
       "    </tr>\n",
       "    <tr>\n",
       "      <th>49</th>\n",
       "      <td>2003-01-02_769_mwe_coref.cupt</td>\n",
       "      <td>Je reste le dernier à décider mais Svetlana pe...</td>\n",
       "      <td>['Je', 'reste']</td>\n",
       "      <td>['35:478', '*']</td>\n",
       "      <td>{'478': 3}</td>\n",
       "      <td>{'35': '{'462': ['vos', 'côtés'], '466': ['je'...</td>\n",
       "      <td>faux</td>\n",
       "      <td></td>\n",
       "      <td>[MWE incorrecte]</td>\n",
       "      <td>[il, rester]</td>\n",
       "      <td>VID</td>\n",
       "      <td>ER_0-100</td>\n",
       "      <td>True</td>\n",
       "      <td>VID</td>\n",
       "    </tr>\n",
       "  </tbody>\n",
       "</table>\n",
       "</div>"
      ],
      "text/plain": [
       "                          FICHIER  \\\n",
       "0   2003-01-02_769_mwe_coref.cupt   \n",
       "1   2003-01-02_436_mwe_coref.cupt   \n",
       "2   2003-01-02_769_mwe_coref.cupt   \n",
       "3   2003-01-02_769_mwe_coref.cupt   \n",
       "4   2003-01-02_509_mwe_coref.cupt   \n",
       "5   2003-01-02_657_mwe_coref.cupt   \n",
       "6   2003-01-02_657_mwe_coref.cupt   \n",
       "7   2003-01-02_612_mwe_coref.cupt   \n",
       "8   2003-01-02_186_mwe_coref.cupt   \n",
       "9   2003-01-02_399_mwe_coref.cupt   \n",
       "10  2003-01-02_308_mwe_coref.cupt   \n",
       "11  2003-01-02_414_mwe_coref.cupt   \n",
       "12  2003-01-02_582_mwe_coref.cupt   \n",
       "13  2003-01-02_352_mwe_coref.cupt   \n",
       "14   2003-01-02_73_mwe_coref.cupt   \n",
       "15  2003-01-02_712_mwe_coref.cupt   \n",
       "16  2003-01-02_777_mwe_coref.cupt   \n",
       "17  2003-01-02_777_mwe_coref.cupt   \n",
       "18  2003-01-02_102_mwe_coref.cupt   \n",
       "19  2003-01-02_102_mwe_coref.cupt   \n",
       "20  2003-01-02_102_mwe_coref.cupt   \n",
       "21  2003-01-02_731_mwe_coref.cupt   \n",
       "22  2003-01-02_343_mwe_coref.cupt   \n",
       "23   2003-01-02_69_mwe_coref.cupt   \n",
       "24  2003-01-02_761_mwe_coref.cupt   \n",
       "25  2003-01-02_434_mwe_coref.cupt   \n",
       "26  2003-01-02_224_mwe_coref.cupt   \n",
       "27  2003-01-02_134_mwe_coref.cupt   \n",
       "28  2003-01-02_320_mwe_coref.cupt   \n",
       "29  2003-01-02_630_mwe_coref.cupt   \n",
       "30  2003-01-02_415_mwe_coref.cupt   \n",
       "31  2003-01-02_415_mwe_coref.cupt   \n",
       "32  2003-01-02_498_mwe_coref.cupt   \n",
       "33  2003-01-02_498_mwe_coref.cupt   \n",
       "34  2003-01-02_693_mwe_coref.cupt   \n",
       "35  2003-01-02_135_mwe_coref.cupt   \n",
       "36  2003-01-02_135_mwe_coref.cupt   \n",
       "37  2003-01-02_135_mwe_coref.cupt   \n",
       "38  2003-01-02_627_mwe_coref.cupt   \n",
       "39  2003-01-02_123_mwe_coref.cupt   \n",
       "40  2003-01-02_506_mwe_coref.cupt   \n",
       "41  2003-01-02_770_mwe_coref.cupt   \n",
       "42  2003-01-02_770_mwe_coref.cupt   \n",
       "43  2003-01-02_770_mwe_coref.cupt   \n",
       "44  2003-01-02_770_mwe_coref.cupt   \n",
       "45  2003-01-02_567_mwe_coref.cupt   \n",
       "46  2003-01-02_470_mwe_coref.cupt   \n",
       "47  2003-01-02_769_mwe_coref.cupt   \n",
       "48  2003-01-02_769_mwe_coref.cupt   \n",
       "49  2003-01-02_769_mwe_coref.cupt   \n",
       "\n",
       "                                               PHRASE  \\\n",
       "0   Pas d'arrogance, simplement l'envie de se donn...   \n",
       "1   Mais rappelons-nous aussi, au seuil de ce nouv...   \n",
       "2   Le trophée des petits Lions de l'ASM Belfort a...   \n",
       "3   Mais il est tout aussi clair que la joueuse ne...   \n",
       "4   C'est l'expérience désagréable vécue par une f...   \n",
       "5   On y retrouve ses voisins, on bavarde, « parfo...   \n",
       "6       Un grand coup de klaxon, et le tour est joué.   \n",
       "7   Dommage que le signal de minuit n'ait pas été ...   \n",
       "8   Sa grande passion fut son travail qu'il effect...   \n",
       "9   Fin juin, quand j'ai donné mon accord au prési...   \n",
       "10  La commune a maintenu sa subvention de 150 eur...   \n",
       "11  Pas question de prendre le risque de les voir ...   \n",
       "12  Aux côtés du maire, se trouvait Jacky Chef, ad...   \n",
       "13  « Cette impasse n'a pas la capacité d'accueill...   \n",
       "14  Depuis, son mari s'investissait fortement aupr...   \n",
       "15  Dans le domaine de la solidarité, je souhaite ...   \n",
       "16  La tradition persiste à Pétange (Luxembourg), ...   \n",
       "17                    Je fais confiance à mon groupe.   \n",
       "18  Je ne sais pas encore ce que je vais faire, ma...   \n",
       "19            « Quand j'en ai l'occasion, je les lis.   \n",
       "20  « Nous avons juste eu le temps de déposer sa g...   \n",
       "21  Pour la fin de l'année et après avoir distribu...   \n",
       "22  Jeune agriculteur, Thomas Lejeune a pris la su...   \n",
       "23  Le comité d'éducation à la santé et à la citoy...   \n",
       "24  Un crime commis une semaine plus tôt, dans un ...   \n",
       "25  Cette attaque est « inadmissible et intolérabl...   \n",
       "26  Il n'a reçu en réponse que des menaces physiqu...   \n",
       "27  Et autant vous dire qu'il aura un impact réel ...   \n",
       "28  Au 24, résident M. et Mme Gillot, au 28, Laure...   \n",
       "29  Dans la préface, Sophie Harent, conservatrice ...   \n",
       "30  Des cartes postales Dans un communiqué, le com...   \n",
       "31  Par ailleurs Michel Creton a déposé lundi à l'...   \n",
       "32  Retraite active Marié en 1951 et père de deux ...   \n",
       "33  Membre de la société d'horticulture, il prenai...   \n",
       "34  L'ensemble de l'orchestre national de Lorraine...   \n",
       "35  D'ores et déjà, Guy Rolland se demande « si l'...   \n",
       "36  » L'an passé, outre le Nouvel an, les saint-be...   \n",
       "37  » L'an passé, outre le Nouvel an, les saint-be...   \n",
       "38  Et enfin assurer une bonne défense devant le t...   \n",
       "39  « J'ai plutôt le sentiment que cela m'a rappro...   \n",
       "40  Et damer le pion à la concurrence qui elle aus...   \n",
       "41  Il sera donc temps de discuter, de se voir pou...   \n",
       "42  Inscrire deux buts, c'est un moment particulie...   \n",
       "43  Inscrire deux buts, c'est un moment particulie...   \n",
       "44  Wilson Oruma et Philippe Raschke n'ont toujour...   \n",
       "45  Le fait de ne pas sortir n'empêche pas de fair...   \n",
       "46  A l'origine, il y avait eu un couac (quorum pa...   \n",
       "47  Pour n'avoir aucun regret, il faudra également...   \n",
       "48  Chacune a pu suivre un programme individualisé...   \n",
       "49  Je reste le dernier à décider mais Svetlana pe...   \n",
       "\n",
       "                           TOKENS                      COREF  \\\n",
       "0             ['envie', 'donner']               ['1:7', '*']   \n",
       "1          ['rappelons', '-nous']            ['*', '27:240']   \n",
       "2             ['connu', 'succès']            ['*', '50:219']   \n",
       "3         ['prendra', 'décision']            ['*', '31:444']   \n",
       "4         ['expérience', 'vécue']             ['15:69', '*']   \n",
       "5                 ['ai', 'droit']              ['*', '5:51']   \n",
       "6                ['tour', 'joué']             ['3:115', '*']   \n",
       "7               ['faire', 'fête']             ['*', '15:34']   \n",
       "8         ['travail', 'effectua']             ['0:165', '*']   \n",
       "9             ['donné', 'accord']         ['*', '6:23;3:24']   \n",
       "10            ['fait', 'demande']              ['*', '0:78']   \n",
       "11             ['faire', 'grève']             ['*', '16:68']   \n",
       "12        ['questions', 'posées']         ['16:88', '16:88']   \n",
       "13              ['a', 'capacité']             ['*', '14:23']   \n",
       "14           ['effectuer', 'don']             ['*', '9:120']   \n",
       "15              ['ont', 'besoin']             ['*', '15:78']   \n",
       "16        ['fait', 'déplacement']            ['*', '10:218']   \n",
       "17          ['fais', 'confiance']            ['*', '31:263']   \n",
       "18              ['ferai', 'fête']            ['*', '30:249']   \n",
       "19             ['ai', 'occasion']            ['*', '65:259']   \n",
       "20             ['eu', 'surprise']            ['*', '10:411']   \n",
       "21       ['travaux', 'accomplis']       ['11:71;13:72', '*']   \n",
       "22         ['pris', 'succession']             ['*', '15:95']   \n",
       "23           ['mènent', 'action']             ['*', '13:60']   \n",
       "24            ['crime', 'commis']             ['4:107', '*']   \n",
       "25             ['aura', 'suites']            ['*', '16:155']   \n",
       "26            ['reçu', 'menaces']             ['*', '1:155']   \n",
       "27             ['aura', 'impact']             ['*', '1:111']   \n",
       "28              ['eu', 'plaisir']              ['*', '1:97']   \n",
       "29               ['rôle', 'joué']             ['69:39', '*']   \n",
       "30          ['prenant', 'décret']         ['*', '0:18;0:19']   \n",
       "31         ['engagement', 'pris']             ['11:49', '*']   \n",
       "32              ['eu', 'douleur']             ['*', '16:19']   \n",
       "33         ['prenait', 'plaisir']             ['*', '12:43']   \n",
       "34         ['donnera', 'concert']             ['*', '4:225']   \n",
       "35           ['mener', 'actions']              ['*', '3:47']   \n",
       "36    ['effectués', 'opérations']              ['*', '3:56']   \n",
       "37        ['effectués', 'sortie']              ['*', '3:57']   \n",
       "38         ['assurer', 'défense']             ['*', '12:61']   \n",
       "39            ['ai', 'sentiment']              ['*', '1:14']   \n",
       "40             ['a', 'intention']              ['*', '5:56']   \n",
       "41        ['prendre', 'décision']             ['*', '27:45']   \n",
       "42           ['Inscrire', 'buts']            ['*', '12:189']   \n",
       "43             ['ai', 'habitude']            ['*', '14:193']   \n",
       "44       ['effectuer', 'travail']            ['*', '34:206']   \n",
       "45              ['faire', 'fête']              ['*', '1:86']   \n",
       "46              ['origine', 'eu']              ['1:56', '*']   \n",
       "47  ['nous', 'poser', 'question']        ['*', '*', '74:20']   \n",
       "48       ['faire', 'le', 'point']  ['*', '42:315', '42:315']   \n",
       "49                ['Je', 'reste']            ['35:478', '*']   \n",
       "\n",
       "                   CAS                                          CHAINE(S)  \\\n",
       "0             {'7': 4}  {'1': '{'1': ['«', \"S'\", 'étalonner'], '3': ['...   \n",
       "1           {'240': 3}  {'27': '{'233': ['les', 'gens'], '240': ['-nou...   \n",
       "2           {'219': 4}  {'50': '{'219': ['un', 'beau', 'succès', 'popu...   \n",
       "3           {'444': 4}  {'31': '{'429': ['actualité'], '437': ['elle']...   \n",
       "4            {'69': 4}  {'15': '{'66': [\"l'\", 'animal'], '69': [\"l'\", ...   \n",
       "5            {'51': 3}  {'5': '{'37': ['On'], '42': ['Henri', ','], '4...   \n",
       "6           {'115': 4}  {'3': '{'108': ['réveillon'], '111': ['Neufchâ...   \n",
       "7            {'34': 4}  {'15': '{'29': ['la', 'foule'], '34': ['la', '...   \n",
       "8           {'165': 4}  {'0': '{'88': ['il'], '89': ['agent', 'commerc...   \n",
       "9   {'24': 4, '23': 4}  {'6': '{'23': ['mon', 'accord'], '28': ['je'],...   \n",
       "10           {'78': 4}  {'0': '{'71': ['sa', 'subvention', 'de', '150'...   \n",
       "11           {'68': 4}  {'16': '{'61': ['la', 'monnaie', 'unique'], '6...   \n",
       "12           {'88': 1}  {'16': '{'88': ['à', 'les', 'questions', 'posé...   \n",
       "13           {'23': 4}  {'14': '{'19': ['la', 'population'], '23': ['l...   \n",
       "14          {'120': 4}  {'9': '{'104': ['les', 'symptômes', 'de', 'la'...   \n",
       "15           {'78': 4}  {'15': '{'78': ['un', 'véritable', 'besoin'], ...   \n",
       "16          {'218': 4}  {'10': '{'207': ['un', 'cyclo-cross', 'interna...   \n",
       "17          {'263': 3}  {'31': '{'263': ['confiance'], '268': ['on'], ...   \n",
       "18          {'249': 4}  {'30': '{'249': ['la', 'fête'], '253': ['la', ...   \n",
       "19          {'259': 4}  {'65': '{'259': [\"l'\", 'occasion'], '263': [\"j...   \n",
       "20          {'411': 4}  {'10': '{'404': ['sa', 'grande', 'sœur'], '406...   \n",
       "21  {'72': 4, '71': 4}  {'11': '{'64': ['une', 'petite', 'commune'], '...   \n",
       "22           {'95': 4}  {'15': '{'88': ['la', 'fois'], '92': ['la', 'c...   \n",
       "23           {'60': 4}  {'13': '{'60': ['une', 'action', \"d'\", 'enverg...   \n",
       "24          {'107': 4}  {'4': '{'102': ['le', 'meurtre', 'de', \"l'\", '...   \n",
       "25          {'155': 4}  {'16': '{'155': ['de', 'les', 'suites'], '161'...   \n",
       "26          {'155': 4}  {'1': '{'155': ['de', 'les', 'menaces', 'physi...   \n",
       "27          {'111': 4}  {'1': '{'108': ['le', 'renouveau'], '110': ['i...   \n",
       "28           {'97': 4}  {'1': '{'97': ['le', 'plaisir'], '98': ['le', ...   \n",
       "29           {'39': 4}  {'69': '{'31': ['Nancy', ','], '34': ['art', '...   \n",
       "30  {'19': 4, '18': 4}  {'0': '{'3': ['le', 'comédien'], '10': ['il'],...   \n",
       "31           {'49': 4}  {'11': '{'49': [\"l'\", 'engagement'], '52': [\"l...   \n",
       "32           {'19': 4}  {'16': '{'19': ['la', 'douleur'], '24': ['la',...   \n",
       "33           {'43': 4}  {'12': '{'39': ['Membre', 'de', 'la', 'société...   \n",
       "34          {'225': 4}  {'4': '{'224': ['Jacques', 'Mercier', ','], '2...   \n",
       "35           {'47': 4}  {'3': '{'47': ['de', 'les', 'actions', 'plus',...   \n",
       "36           {'56': 4}  {'3': '{'47': ['de', 'les', 'actions', 'plus',...   \n",
       "37           {'57': 4}  {'3': '{'47': ['de', 'les', 'actions', 'plus',...   \n",
       "38           {'61': 4}  {'12': '{'61': ['une', 'bonne', 'défense'], '6...   \n",
       "39           {'14': 4}  {'1': '{'6': ['le', 'Haut-Doubs', 'conservateu...   \n",
       "40           {'56': 4}  {'5': '{'48': [\"l'\", 'originalité'], '52': ['l...   \n",
       "41           {'45': 4}  {'27': '{'45': ['la', 'meilleure', 'décision',...   \n",
       "42          {'189': 4}  {'12': '{'181': ['de', 'grands', 'moments'], '...   \n",
       "43          {'193': 4}  {'14': '{'193': [\"l'\", 'habitude'], '199': ['M...   \n",
       "44          {'206': 4}  {'34': '{'197': ['de', 'le', 'groupe'], '202':...   \n",
       "45           {'86': 4}  {'1': '{'74': ['la', 'Saint-Sylvestre'], '75':...   \n",
       "46           {'56': 4}  {'1': '{'53': [\"l'\", 'APL'], '55': ['qui'], '5...   \n",
       "47           {'20': 4}  {'74': '{'14': ['une', 'équipe', 'de', 'Ligue'...   \n",
       "48          {'315': 3}  {'42': '{'314': ['le', 'véritable', 'souci'], ...   \n",
       "49          {'478': 3}  {'35': '{'462': ['vos', 'côtés'], '466': ['je'...   \n",
       "\n",
       "    VALIDATION DEGRE DE COMPOSITIONNALITE  \\\n",
       "0         faux                              \n",
       "1         faux                              \n",
       "2         faux                              \n",
       "3         faux                              \n",
       "4         faux                              \n",
       "5         faux                              \n",
       "6         faux                              \n",
       "7         faux                              \n",
       "8         faux                              \n",
       "9         faux                              \n",
       "10        faux                              \n",
       "11        faux                              \n",
       "12        faux                              \n",
       "13        faux                              \n",
       "14        faux                              \n",
       "15        faux                              \n",
       "16        faux                              \n",
       "17        faux                              \n",
       "18        faux                              \n",
       "19        faux                              \n",
       "20        faux                              \n",
       "21        vrai                      moyen   \n",
       "22        faux                              \n",
       "23        faux                              \n",
       "24        vrai                       fort   \n",
       "25        faux                              \n",
       "26        faux                              \n",
       "27        faux                              \n",
       "28        faux                              \n",
       "29        faux                              \n",
       "30        faux                              \n",
       "31        faux                              \n",
       "32        faux                              \n",
       "33        faux                              \n",
       "34        faux                              \n",
       "35        vrai                      moyen   \n",
       "36        faux                              \n",
       "37        faux                              \n",
       "38        faux                              \n",
       "39        faux                              \n",
       "40        faux                              \n",
       "41        faux                              \n",
       "42        faux                              \n",
       "43        faux                              \n",
       "44        faux                              \n",
       "45        faux                              \n",
       "46        faux                              \n",
       "47        faux                              \n",
       "48  discutable                              \n",
       "49        faux                              \n",
       "\n",
       "                        SOURCE D'ERREUR                  LEMMES       TYPE  \\\n",
       "0   [chaîne incorrecte, MWE incorrecte]         [envie, donner]  LVC.cause   \n",
       "1                   [chaîne incorrecte]        [rappeler, nous]        IRV   \n",
       "2                   [chaîne incorrecte]     [connaître, succès]   LVC.full   \n",
       "3                   [chaîne incorrecte]     [prendre, décision]   LVC.full   \n",
       "4                   [chaîne incorrecte]     [expérience, vivre]   LVC.full   \n",
       "5                   [chaîne incorrecte]          [avoir, droit]   LVC.full   \n",
       "6                   [chaîne incorrecte]           [tour, jouer]   LVC.full   \n",
       "7                   [chaîne incorrecte]           [faire, fête]   LVC.full   \n",
       "8                   [chaîne incorrecte]    [travail, effectuer]   LVC.full   \n",
       "9                   [chaîne incorrecte]        [donner, accord]   LVC.full   \n",
       "10                  [chaîne incorrecte]        [faire, demande]   LVC.full   \n",
       "11                  [chaîne incorrecte]          [faire, grève]   LVC.full   \n",
       "12                  [chaîne incorrecte]       [question, poser]   LVC.full   \n",
       "13                  [chaîne incorrecte]       [avoir, capacité]   LVC.full   \n",
       "14                  [chaîne incorrecte]        [effectuer, don]   LVC.full   \n",
       "15                  [chaîne incorrecte]         [avoir, besoin]   LVC.full   \n",
       "16                  [chaîne incorrecte]    [faire, déplacement]   LVC.full   \n",
       "17                  [chaîne incorrecte]      [faire, confiance]   LVC.full   \n",
       "18                  [chaîne incorrecte]           [faire, fête]   LVC.full   \n",
       "19                  [chaîne incorrecte]       [avoir, occasion]   LVC.full   \n",
       "20                  [chaîne incorrecte]       [avoir, surprise]   LVC.full   \n",
       "21                 [mention incorrecte]    [travail, accomplir]   LVC.full   \n",
       "22                  [chaîne incorrecte]   [prendre, succession]   LVC.full   \n",
       "23                  [chaîne incorrecte]         [mener, action]   LVC.full   \n",
       "24                                   []      [crime, commettre]   LVC.full   \n",
       "25                  [chaîne incorrecte]          [avoir, suite]   LVC.full   \n",
       "26                  [chaîne incorrecte]      [recevoir, menace]   LVC.full   \n",
       "27                  [chaîne incorrecte]         [avoir, impact]   LVC.full   \n",
       "28                  [chaîne incorrecte]        [avoir, plaisir]   LVC.full   \n",
       "29                  [chaîne incorrecte]           [rôle, jouer]   LVC.full   \n",
       "30                  [chaîne incorrecte]       [prendre, décret]   LVC.full   \n",
       "31                  [chaîne incorrecte]   [engagement, prendre]   LVC.full   \n",
       "32                  [chaîne incorrecte]        [avoir, douleur]   LVC.full   \n",
       "33                  [chaîne incorrecte]      [prendre, plaisir]   LVC.full   \n",
       "34                  [chaîne incorrecte]       [donner, concert]   LVC.full   \n",
       "35                                   []         [mener, action]   LVC.full   \n",
       "36                  [chaîne incorrecte]  [effectuer, opération]   LVC.full   \n",
       "37  [chaîne incorrecte, MWE incorrecte]     [effectuer, sortie]   LVC.full   \n",
       "38                  [chaîne incorrecte]      [assurer, défense]   LVC.full   \n",
       "39                  [chaîne incorrecte]      [avoir, sentiment]   LVC.full   \n",
       "40                  [chaîne incorrecte]      [avoir, intention]   LVC.full   \n",
       "41                  [chaîne incorrecte]     [prendre, décision]   LVC.full   \n",
       "42                  [chaîne incorrecte]         [inscrire, but]   LVC.full   \n",
       "43                  [chaîne incorrecte]       [avoir, habitude]   LVC.full   \n",
       "44                  [chaîne incorrecte]    [effectuer, travail]   LVC.full   \n",
       "45                  [chaîne incorrecte]           [faire, fête]   LVC.full   \n",
       "46                  [chaîne incorrecte]        [origine, avoir]   LVC.full   \n",
       "47                  [chaîne incorrecte]  [lui, poser, question]        VID   \n",
       "48                 [mention incorrecte]      [faire, le, point]        VID   \n",
       "49                     [MWE incorrecte]            [il, rester]        VID   \n",
       "\n",
       "      CORPUS  error_mwe  real_type  \n",
       "0   ER_0-100       True  LVC.cause  \n",
       "1   ER_0-100      False        IRV  \n",
       "2   ER_0-100      False   LVC.full  \n",
       "3   ER_0-100      False   LVC.full  \n",
       "4   ER_0-100      False   LVC.full  \n",
       "5   ER_0-100      False   LVC.full  \n",
       "6   ER_0-100      False   LVC.full  \n",
       "7   ER_0-100      False   LVC.full  \n",
       "8   ER_0-100      False   LVC.full  \n",
       "9   ER_0-100      False   LVC.full  \n",
       "10  ER_0-100      False   LVC.full  \n",
       "11  ER_0-100      False   LVC.full  \n",
       "12  ER_0-100      False   LVC.full  \n",
       "13  ER_0-100      False   LVC.full  \n",
       "14  ER_0-100      False   LVC.full  \n",
       "15  ER_0-100      False   LVC.full  \n",
       "16  ER_0-100      False   LVC.full  \n",
       "17  ER_0-100      False   LVC.full  \n",
       "18  ER_0-100      False   LVC.full  \n",
       "19  ER_0-100      False   LVC.full  \n",
       "20  ER_0-100      False   LVC.full  \n",
       "21  ER_0-100      False   LVC.full  \n",
       "22  ER_0-100      False   LVC.full  \n",
       "23  ER_0-100      False   LVC.full  \n",
       "24  ER_0-100      False   LVC.full  \n",
       "25  ER_0-100      False   LVC.full  \n",
       "26  ER_0-100      False   LVC.full  \n",
       "27  ER_0-100      False   LVC.full  \n",
       "28  ER_0-100      False   LVC.full  \n",
       "29  ER_0-100      False   LVC.full  \n",
       "30  ER_0-100      False   LVC.full  \n",
       "31  ER_0-100      False   LVC.full  \n",
       "32  ER_0-100      False   LVC.full  \n",
       "33  ER_0-100      False   LVC.full  \n",
       "34  ER_0-100      False   LVC.full  \n",
       "35  ER_0-100      False   LVC.full  \n",
       "36  ER_0-100      False   LVC.full  \n",
       "37  ER_0-100       True   LVC.full  \n",
       "38  ER_0-100      False   LVC.full  \n",
       "39  ER_0-100      False   LVC.full  \n",
       "40  ER_0-100      False   LVC.full  \n",
       "41  ER_0-100      False   LVC.full  \n",
       "42  ER_0-100      False   LVC.full  \n",
       "43  ER_0-100      False   LVC.full  \n",
       "44  ER_0-100      False   LVC.full  \n",
       "45  ER_0-100      False   LVC.full  \n",
       "46  ER_0-100      False   LVC.full  \n",
       "47  ER_0-100      False        VID  \n",
       "48  ER_0-100      False        VID  \n",
       "49  ER_0-100       True        VID  "
      ]
     },
     "execution_count": 27,
     "metadata": {},
     "output_type": "execute_result"
    }
   ],
   "source": [
    "df_er = json2df(\"ER\")\n",
    "mask = df_er[\"SOURCE D'ERREUR\"].apply(test_error)\n",
    "df_er[\"error_mwe\"]=mask\n",
    "df_er[\"real_type\"] = df_er[\"TYPE\"]\n",
    "df_er.head(50)"
   ]
  },
  {
   "cell_type": "code",
   "execution_count": 18,
   "id": "2e20d9b6",
   "metadata": {},
   "outputs": [
    {
     "name": "stdout",
     "output_type": "stream",
     "text": [
      "nombre total de croisement dans ancor: 1037\n"
     ]
    },
    {
     "data": {
      "text/plain": [
       "faux           681\n",
       "vrai           249\n",
       "répétitions    107\n",
       "Name: VALIDATION, dtype: int64"
      ]
     },
     "execution_count": 18,
     "metadata": {},
     "output_type": "execute_result"
    }
   ],
   "source": [
    "print(\"nombre total de croisement dans ancor:\", len(df_ancor))\n",
    "df_ancor.VALIDATION.value_counts()"
   ]
  },
  {
   "cell_type": "code",
   "execution_count": 19,
   "id": "ef6f3a66",
   "metadata": {
    "scrolled": true
   },
   "outputs": [
    {
     "data": {
      "text/plain": [
       "VID          578\n",
       "LVC.full     456\n",
       "IRV            2\n",
       "LVC.cause      1\n",
       "Name: TYPE, dtype: int64"
      ]
     },
     "execution_count": 19,
     "metadata": {},
     "output_type": "execute_result"
    }
   ],
   "source": [
    "# nombre de croisement par MWE_type\n",
    "df_ancor.TYPE.value_counts()"
   ]
  },
  {
   "cell_type": "code",
   "execution_count": 20,
   "id": "bdf518e5",
   "metadata": {},
   "outputs": [
    {
     "data": {
      "text/plain": [
       "LVC.full     212\n",
       "VID           36\n",
       "LVC.cause      1\n",
       "Name: TYPE, dtype: int64"
      ]
     },
     "execution_count": 20,
     "metadata": {},
     "output_type": "execute_result"
    }
   ],
   "source": [
    "df_ancor_vrai = df_ancor[df_ancor.VALIDATION == \"vrai\"]\n",
    "df_ancor_vrai.TYPE.value_counts()"
   ]
  },
  {
   "cell_type": "code",
   "execution_count": 21,
   "id": "4a7b4f4d",
   "metadata": {
    "scrolled": true
   },
   "outputs": [
    {
     "data": {
      "text/plain": [
       "LVC.full     141\n",
       "VID           34\n",
       "LVC.cause      2\n",
       "IRV            1\n",
       "Name: TYPE, dtype: int64"
      ]
     },
     "execution_count": 21,
     "metadata": {},
     "output_type": "execute_result"
    }
   ],
   "source": [
    "# nombre de croisement par MWE_type\n",
    "df_sequoia.TYPE.value_counts()"
   ]
  },
  {
   "cell_type": "code",
   "execution_count": 22,
   "id": "e1138a0d",
   "metadata": {},
   "outputs": [
    {
     "name": "stdout",
     "output_type": "stream",
     "text": [
      "nombre total de croisement dans Sequoia: 178\n"
     ]
    },
    {
     "data": {
      "text/plain": [
       "faux            143\n",
       "vrai             24\n",
       "non concerné      9\n",
       "discutable        2\n",
       "Name: VALIDATION, dtype: int64"
      ]
     },
     "execution_count": 22,
     "metadata": {},
     "output_type": "execute_result"
    }
   ],
   "source": [
    "print(\"nombre total de croisement dans Sequoia:\", len(df_sequoia))\n",
    "df_sequoia.VALIDATION.value_counts()"
   ]
  },
  {
   "cell_type": "code",
   "execution_count": 23,
   "id": "d545c44d",
   "metadata": {},
   "outputs": [
    {
     "data": {
      "text/plain": [
       "LVC.full    22\n",
       "IRV          1\n",
       "VID          1\n",
       "Name: TYPE, dtype: int64"
      ]
     },
     "execution_count": 23,
     "metadata": {},
     "output_type": "execute_result"
    }
   ],
   "source": [
    "df_sequoia_vrai = df_sequoia[df_sequoia.VALIDATION == \"vrai\"]\n",
    "df_sequoia_vrai.TYPE.value_counts()"
   ]
  },
  {
   "cell_type": "code",
   "execution_count": 24,
   "id": "8116a2ac",
   "metadata": {},
   "outputs": [
    {
     "data": {
      "text/plain": [
       "VID          49\n",
       "LVC.full     45\n",
       "IRV           1\n",
       "LVC.cause     1\n",
       "Name: TYPE, dtype: int64"
      ]
     },
     "execution_count": 24,
     "metadata": {},
     "output_type": "execute_result"
    }
   ],
   "source": [
    "# nombre de croisement par MWE_type\n",
    "df_er.TYPE.value_counts()"
   ]
  },
  {
   "cell_type": "code",
   "execution_count": 25,
   "id": "b9ac8a9f",
   "metadata": {},
   "outputs": [
    {
     "name": "stdout",
     "output_type": "stream",
     "text": [
      "nombre total de croisement dans ER: 96\n"
     ]
    },
    {
     "data": {
      "text/plain": [
       "faux          91\n",
       "vrai           3\n",
       "discutable     2\n",
       "Name: VALIDATION, dtype: int64"
      ]
     },
     "execution_count": 25,
     "metadata": {},
     "output_type": "execute_result"
    }
   ],
   "source": [
    "print(\"nombre total de croisement dans ER:\", len(df_er))\n",
    "df_er.VALIDATION.value_counts()"
   ]
  },
  {
   "cell_type": "markdown",
   "id": "0cbc16b9",
   "metadata": {},
   "source": [
    "## Nombre de EPV détectées, de croisements détectés et de croisements validés"
   ]
  },
  {
   "cell_type": "code",
   "execution_count": 28,
   "id": "62a05c6f",
   "metadata": {},
   "outputs": [],
   "source": [
    "# xticks\n",
    "cat_MWE = [\"VID\", \"LVC.full\", \"LVC.cause\", \"IRV\", \"MVC\"]"
   ]
  },
  {
   "cell_type": "code",
   "execution_count": 29,
   "id": "0c2f3e74",
   "metadata": {},
   "outputs": [],
   "source": [
    "def gat_mwe_crois_nbre(cat_MWE, df_cat):\n",
    "    #nombre croisement détecté\n",
    "    nbre_crois = []\n",
    "    for cat in cat_MWE:\n",
    "        nbre_cat = len(df_cat[(df_cat.TYPE == cat) & (df_cat.error_mwe==False)])\n",
    "        nbre_crois.append(nbre_cat)\n",
    "\n",
    "    # nombre vrai croisement\n",
    "    nbre_vrai_crois = []\n",
    "    df_cat_vrai = df_cat[df_cat.VALIDATION == \"vrai\"]\n",
    "    for cat in cat_MWE:\n",
    "        nbre_cat = len(df_cat_vrai[df_cat_vrai.real_type == cat])\n",
    "        nbre_vrai_crois.append(nbre_cat)\n",
    "    return nbre_crois, nbre_vrai_crois"
   ]
  },
  {
   "cell_type": "code",
   "execution_count": 33,
   "id": "4d2d1ab0",
   "metadata": {},
   "outputs": [],
   "source": [
    "def draw_stackedbar_EPVcrois_cat(cat_MWE, nbre_mwe, nbre_crois, nbre_vrai_crois):\n",
    "    x = np.arange(5)+1   # +1  给array里每个数值+1\n",
    "    # x  # array([1, 2, 3, 4, 5])\n",
    "\n",
    "    plt.figure(figsize=(15,8))\n",
    "    # draw the bar\n",
    "\n",
    "    # bar for MWE\n",
    "    plt.bar(x,nbre_mwe,width=0.35,align=\"center\",color=\"lightgrey\", alpha=0.8)   # alpha 条形的透明度\n",
    "    for a,b in zip(x,nbre_mwe):  #(a,b)  条形顶部中间在图中的位置 对应(x,y)\n",
    "        plt.text(a, b+5, f\"EPV:{int(b)}\", ha='center', va='bottom', fontsize=12)  #ha水平对齐方式  va垂直对齐方式\n",
    "\n",
    "    # bar for croisement\n",
    "    plt.bar(x,nbre_crois,width=0.35,align=\"center\",color=\"gray\", alpha=0.8)   # alpha 条形的透明度\n",
    "    for a,b in zip(x,nbre_crois):  #(a,b)  条形顶部中间在图中的位置 对应(x,y)\n",
    "        plt.text(a-0.2, b+0.05, str(int(b)), ha='left', va='bottom', fontsize=12)  #ha水平对齐方式  va垂直对齐方式\n",
    "\n",
    "    # bar for vrai croisement\n",
    "    plt.bar(x,nbre_vrai_crois,width=0.35,align=\"center\",color=\"black\", alpha=0.8)   # alpha 条形的透明度\n",
    "    for a,b in zip(x,nbre_vrai_crois):  #(a,b)  条形顶部中间在图中的位置 对应(x,y)\n",
    "        plt.text(a+0.35, b+0.05, f\"vrai:{int(b)}\", ha='right', va='bottom', fontsize=12)  #ha水平对齐方式  va垂直对齐方式\n",
    "\n",
    "    # add legend\n",
    "    plt.legend([\"EPV détectés sans croisements\",\"faux croisements détectés\",\"croisements validés\"], loc=1, fontsize=15)\n",
    "\n",
    "    # add the cat labels\n",
    "    plt.xticks(x,cat_MWE,size=18)  #rotation=30   \n",
    "\n",
    "    # add x,y label\n",
    "    plt.xlabel(\"Catégories des EP\", fontsize=20)\n",
    "    plt.ylabel(\"Nombre\", fontsize=20)\n",
    "    # plt.title(\"Comparaisons des nombres de EP détectés, croisements détectés et vrai croisements\")\n",
    "    plt.show()"
   ]
  },
  {
   "cell_type": "code",
   "execution_count": 31,
   "id": "43434763",
   "metadata": {},
   "outputs": [
    {
     "name": "stdout",
     "output_type": "stream",
     "text": [
      "['sequoia', 'er', 'ancor']\n",
      "[[2.040e+02 3.400e+02 9.000e+00 1.320e+02 3.000e+00]\n",
      " [3.020e+02 1.220e+02 3.000e+00 1.740e+02 2.000e+00]\n",
      " [4.760e+03 1.264e+03 6.000e+00 6.900e+02 3.600e+01]]\n",
      "[[ 34. 141.   2.   1.   0.]\n",
      " [ 31.  44.   0.   1.   0.]\n",
      " [ 53. 292.   1.   0.   0.]]\n",
      "[[  1.  22.   0.   1.   0.]\n",
      " [  0.   3.   0.   0.   0.]\n",
      " [ 29. 219.   1.   0.   0.]]\n"
     ]
    }
   ],
   "source": [
    "# liste des nombres de sequoia, er, ancor\n",
    "nbre_mwe_sequoia = liste_mwe_nbre_sequoia[:5]\n",
    "nbre_mwe_er = liste_mwe_nbre_ER[:5]\n",
    "nbre_mwe_ancor = liste_mwe_nbre_ancor[:5]\n",
    "corpus_dico = {\"sequoia\":(liste_mwe_nbre_sequoia[:5],df_sequoia),\n",
    "               \"er\":(liste_mwe_nbre_ER[:5],df_er),\n",
    "               \"ancor\":(liste_mwe_nbre_ancor[:5],df_ancor)}\n",
    "\n",
    "mwe_nbre = np.zeros(shape=(len(corpus_dico),len(cat_MWE)))\n",
    "crois_nbre = np.zeros(shape=(len(corpus_dico),len(cat_MWE)))\n",
    "vrai_nbre = np.zeros(shape=(len(corpus_dico),len(cat_MWE)))\n",
    "i = 0\n",
    "corpus_inorder = []\n",
    "for corpus,info in corpus_dico.items():\n",
    "    corpus_inorder.append(corpus)\n",
    "    mwe_nbre[i] = info[0]\n",
    "    crois_nbre[i], vrai_nbre[i] = gat_mwe_crois_nbre(cat_MWE,info[1])\n",
    "    i += 1\n",
    "    \n",
    "print(corpus_inorder)\n",
    "print(mwe_nbre)\n",
    "print(crois_nbre)\n",
    "print(vrai_nbre)"
   ]
  },
  {
   "cell_type": "code",
   "execution_count": 34,
   "id": "53a26313",
   "metadata": {},
   "outputs": [
    {
     "name": "stdout",
     "output_type": "stream",
     "text": [
      "sequoia\n"
     ]
    },
    {
     "data": {
      "image/png": "[encoded data removed]",
      "text/plain": [
       "<Figure size 1080x576 with 1 Axes>"
      ]
     },
     "metadata": {
      "needs_background": "light"
     },
     "output_type": "display_data"
    },
    {
     "name": "stdout",
     "output_type": "stream",
     "text": [
      "er\n"
     ]
    },
    {
     "data": {
      "image/png": "[encoded data removed]",
      "text/plain": [
       "<Figure size 1080x576 with 1 Axes>"
      ]
     },
     "metadata": {
      "needs_background": "light"
     },
     "output_type": "display_data"
    },
    {
     "name": "stdout",
     "output_type": "stream",
     "text": [
      "ancor\n"
     ]
    },
    {
     "data": {
      "image/png": "[encoded data removed]",
      "text/plain": [
       "<Figure size 1080x576 with 1 Axes>"
      ]
     },
     "metadata": {
      "needs_background": "light"
     },
     "output_type": "display_data"
    }
   ],
   "source": [
    "# new (without exemples having MWE error)\n",
    "for i,corpus in enumerate(corpus_inorder):\n",
    "    print(corpus)\n",
    "    draw_stackedbar_EPVcrois_cat(cat_MWE, mwe_nbre[i], crois_nbre[i], vrai_nbre[i])"
   ]
  },
  {
   "cell_type": "code",
   "execution_count": 35,
   "id": "6dde214d",
   "metadata": {
    "scrolled": false
   },
   "outputs": [
    {
     "name": "stdout",
     "output_type": "stream",
     "text": [
      "total\n"
     ]
    },
    {
     "data": {
      "image/png": "[encoded data removed]",
      "text/plain": [
       "<Figure size 1080x576 with 1 Axes>"
      ]
     },
     "metadata": {
      "needs_background": "light"
     },
     "output_type": "display_data"
    }
   ],
   "source": [
    "# new\n",
    "print(\"total\")\n",
    "draw_stackedbar_EPVcrois_cat(cat_MWE, np.sum(mwe_nbre,axis=0), np.sum(crois_nbre,axis=0), np.sum(vrai_nbre,axis=0))"
   ]
  },
  {
   "cell_type": "code",
   "execution_count": null,
   "id": "9a22cace",
   "metadata": {},
   "outputs": [],
   "source": []
  },
  {
   "cell_type": "markdown",
   "id": "daddc1fc",
   "metadata": {},
   "source": [
    "## Calcul des précision"
   ]
  },
  {
   "cell_type": "code",
   "execution_count": 219,
   "id": "080a377c",
   "metadata": {},
   "outputs": [
    {
     "data": {
      "text/html": [
       "<div>\n",
       "<style scoped>\n",
       "    .dataframe tbody tr th:only-of-type {\n",
       "        vertical-align: middle;\n",
       "    }\n",
       "\n",
       "    .dataframe tbody tr th {\n",
       "        vertical-align: top;\n",
       "    }\n",
       "\n",
       "    .dataframe thead th {\n",
       "        text-align: right;\n",
       "    }\n",
       "</style>\n",
       "<table border=\"1\" class=\"dataframe\">\n",
       "  <thead>\n",
       "    <tr style=\"text-align: right;\">\n",
       "      <th></th>\n",
       "      <th>TYPE</th>\n",
       "      <th>error_mwe</th>\n",
       "    </tr>\n",
       "  </thead>\n",
       "  <tbody>\n",
       "    <tr>\n",
       "      <th>0</th>\n",
       "      <td>LVC.cause</td>\n",
       "      <td>True</td>\n",
       "    </tr>\n",
       "    <tr>\n",
       "      <th>1</th>\n",
       "      <td>IRV</td>\n",
       "      <td>False</td>\n",
       "    </tr>\n",
       "    <tr>\n",
       "      <th>2</th>\n",
       "      <td>LVC.full</td>\n",
       "      <td>False</td>\n",
       "    </tr>\n",
       "    <tr>\n",
       "      <th>3</th>\n",
       "      <td>LVC.full</td>\n",
       "      <td>False</td>\n",
       "    </tr>\n",
       "    <tr>\n",
       "      <th>4</th>\n",
       "      <td>LVC.full</td>\n",
       "      <td>False</td>\n",
       "    </tr>\n",
       "    <tr>\n",
       "      <th>...</th>\n",
       "      <td>...</td>\n",
       "      <td>...</td>\n",
       "    </tr>\n",
       "    <tr>\n",
       "      <th>91</th>\n",
       "      <td>VID</td>\n",
       "      <td>False</td>\n",
       "    </tr>\n",
       "    <tr>\n",
       "      <th>92</th>\n",
       "      <td>VID</td>\n",
       "      <td>False</td>\n",
       "    </tr>\n",
       "    <tr>\n",
       "      <th>93</th>\n",
       "      <td>VID</td>\n",
       "      <td>True</td>\n",
       "    </tr>\n",
       "    <tr>\n",
       "      <th>94</th>\n",
       "      <td>VID</td>\n",
       "      <td>True</td>\n",
       "    </tr>\n",
       "    <tr>\n",
       "      <th>95</th>\n",
       "      <td>VID</td>\n",
       "      <td>True</td>\n",
       "    </tr>\n",
       "  </tbody>\n",
       "</table>\n",
       "<p>96 rows × 2 columns</p>\n",
       "</div>"
      ],
      "text/plain": [
       "         TYPE  error_mwe\n",
       "0   LVC.cause       True\n",
       "1         IRV      False\n",
       "2    LVC.full      False\n",
       "3    LVC.full      False\n",
       "4    LVC.full      False\n",
       "..        ...        ...\n",
       "91        VID      False\n",
       "92        VID      False\n",
       "93        VID       True\n",
       "94        VID       True\n",
       "95        VID       True\n",
       "\n",
       "[96 rows x 2 columns]"
      ]
     },
     "execution_count": 219,
     "metadata": {},
     "output_type": "execute_result"
    }
   ],
   "source": [
    "df_er_test = pd.DataFrame(df_er, columns = [\"TYPE\",\"error_mwe\"])\n",
    "df_er_test\n",
    "# df_er.groupby('TYPE')[]"
   ]
  },
  {
   "cell_type": "code",
   "execution_count": 234,
   "id": "66c0d351",
   "metadata": {},
   "outputs": [
    {
     "data": {
      "text/html": [
       "<div>\n",
       "<style scoped>\n",
       "    .dataframe tbody tr th:only-of-type {\n",
       "        vertical-align: middle;\n",
       "    }\n",
       "\n",
       "    .dataframe tbody tr th {\n",
       "        vertical-align: top;\n",
       "    }\n",
       "\n",
       "    .dataframe thead tr th {\n",
       "        text-align: left;\n",
       "    }\n",
       "\n",
       "    .dataframe thead tr:last-of-type th {\n",
       "        text-align: right;\n",
       "    }\n",
       "</style>\n",
       "<table border=\"1\" class=\"dataframe\">\n",
       "  <thead>\n",
       "    <tr>\n",
       "      <th></th>\n",
       "      <th colspan=\"4\" halign=\"left\">error_mwe</th>\n",
       "    </tr>\n",
       "    <tr>\n",
       "      <th></th>\n",
       "      <th>count</th>\n",
       "      <th>unique</th>\n",
       "      <th>top</th>\n",
       "      <th>freq</th>\n",
       "    </tr>\n",
       "    <tr>\n",
       "      <th>TYPE</th>\n",
       "      <th></th>\n",
       "      <th></th>\n",
       "      <th></th>\n",
       "      <th></th>\n",
       "    </tr>\n",
       "  </thead>\n",
       "  <tbody>\n",
       "    <tr>\n",
       "      <th>IRV</th>\n",
       "      <td>1</td>\n",
       "      <td>1</td>\n",
       "      <td>False</td>\n",
       "      <td>1</td>\n",
       "    </tr>\n",
       "    <tr>\n",
       "      <th>LVC.cause</th>\n",
       "      <td>1</td>\n",
       "      <td>1</td>\n",
       "      <td>True</td>\n",
       "      <td>1</td>\n",
       "    </tr>\n",
       "    <tr>\n",
       "      <th>LVC.full</th>\n",
       "      <td>45</td>\n",
       "      <td>2</td>\n",
       "      <td>False</td>\n",
       "      <td>44</td>\n",
       "    </tr>\n",
       "    <tr>\n",
       "      <th>VID</th>\n",
       "      <td>49</td>\n",
       "      <td>2</td>\n",
       "      <td>False</td>\n",
       "      <td>31</td>\n",
       "    </tr>\n",
       "  </tbody>\n",
       "</table>\n",
       "</div>"
      ],
      "text/plain": [
       "          error_mwe                   \n",
       "              count unique    top freq\n",
       "TYPE                                  \n",
       "IRV               1      1  False    1\n",
       "LVC.cause         1      1   True    1\n",
       "LVC.full         45      2  False   44\n",
       "VID              49      2  False   31"
      ]
     },
     "execution_count": 234,
     "metadata": {},
     "output_type": "execute_result"
    }
   ],
   "source": [
    "df_er_test.groupby(\"TYPE\").describe()\n",
    "# col error_mwe : True MWE有错  False MWE没错"
   ]
  },
  {
   "cell_type": "code",
   "execution_count": 239,
   "id": "46c0e2a2",
   "metadata": {},
   "outputs": [
    {
     "data": {
      "text/plain": [
       "TYPE       error_mwe\n",
       "IRV        False         1\n",
       "LVC.cause  True          1\n",
       "LVC.full   False        44\n",
       "           True          1\n",
       "VID        False        31\n",
       "           True         18\n",
       "Name: error_mwe, dtype: int64"
      ]
     },
     "execution_count": 239,
     "metadata": {},
     "output_type": "execute_result"
    }
   ],
   "source": [
    "a = df_er_test.groupby(\"TYPE\")['error_mwe'].value_counts()\n",
    "a"
   ]
  },
  {
   "cell_type": "code",
   "execution_count": 263,
   "id": "8c576136",
   "metadata": {},
   "outputs": [
    {
     "name": "stdout",
     "output_type": "stream",
     "text": [
      "[[ 31.  44.   0.   1.  76.]\n",
      " [ 53. 292.   1.   0. 346.]\n",
      " [ 84. 336.   1.   1. 422.]]\n",
      "[[ 18.   1.   1.   0.  20.]\n",
      " [525. 164.   0.   2. 691.]\n",
      " [543. 165.   1.   2. 711.]]\n"
     ]
    }
   ],
   "source": [
    "MWE_cat = [\"VID\",\"LVC.full\",\"LVC.cause\",\"IRV\"]\n",
    "corpus_precision = [\"er\",\"ancor\"]\n",
    "\n",
    "df_er_test = pd.DataFrame(df_er, columns = [\"TYPE\",\"error_mwe\"])\n",
    "df_ancor_test = pd.DataFrame(df_ancor, columns = [\"TYPE\",\"error_mwe\"])\n",
    "\n",
    "er = df_er_test.groupby(\"TYPE\")['error_mwe'].value_counts()\n",
    "ancor = df_ancor_test.groupby(\"TYPE\")['error_mwe'].value_counts()\n",
    "corpus_p = [er, ancor]\n",
    "\n",
    "vp = np.zeros(shape=(2,4))\n",
    "fp = np.zeros(shape=(2,4))\n",
    "\n",
    "for i,corpus in enumerate(corpus_p):\n",
    "    for j,cat in enumerate(MWE_cat):\n",
    "        try:\n",
    "            vp[i,j] = corpus[cat,False]\n",
    "        except KeyError:\n",
    "            vp[i,j] = 0\n",
    "        try:\n",
    "            fp[i,j] = corpus[cat,True]\n",
    "        except KeyError:\n",
    "            fp[i,j] = 0\n",
    "            \n",
    "vp = np.column_stack((vp,np.sum(vp,axis=1)))\n",
    "vp = np.row_stack((vp,np.sum(vp,axis=0)))\n",
    "fp = np.column_stack((fp,np.sum(fp,axis=1)))\n",
    "fp = np.row_stack((fp,np.sum(fp,axis=0)))\n",
    "print(vp)\n",
    "print(fp)"
   ]
  },
  {
   "cell_type": "code",
   "execution_count": 264,
   "id": "da687d08",
   "metadata": {},
   "outputs": [
    {
     "data": {
      "text/plain": [
       "array([[0.63265306, 0.97777778, 0.        , 1.        , 0.79166667],\n",
       "       [0.0916955 , 0.64035088, 1.        , 0.        , 0.33365477],\n",
       "       [0.13397129, 0.67065868, 0.5       , 0.33333333, 0.37246249]])"
      ]
     },
     "execution_count": 264,
     "metadata": {},
     "output_type": "execute_result"
    }
   ],
   "source": [
    "matrix_precision = vp / (vp + fp)\n",
    "# matrix_precision = np.row_stack()\n",
    "matrix_precision"
   ]
  },
  {
   "cell_type": "code",
   "execution_count": 265,
   "id": "1f2b76f4",
   "metadata": {},
   "outputs": [
    {
     "data": {
      "text/plain": [
       "array([[0.63265306, 0.97777778, 0.        , 1.        ],\n",
       "       [0.0916955 , 0.64035088, 1.        , 0.        ],\n",
       "       [0.36217428, 0.80906433, 0.5       , 0.5       ]])"
      ]
     },
     "execution_count": 265,
     "metadata": {},
     "output_type": "execute_result"
    }
   ],
   "source": [
    "a = np.row_stack((matrix_precision[:2,:4],np.mean(matrix_precision[:2,:4],axis=0)))\n",
    "a"
   ]
  },
  {
   "cell_type": "code",
   "execution_count": 267,
   "id": "7c2b9638",
   "metadata": {},
   "outputs": [
    {
     "data": {
      "text/plain": [
       "array([[0.63265306, 0.97777778, 0.        , 1.        , 0.65260771],\n",
       "       [0.0916955 , 0.64035088, 1.        , 0.        , 0.43301159],\n",
       "       [0.13397129, 0.67065868, 0.5       , 0.33333333, 0.40949083]])"
      ]
     },
     "execution_count": 267,
     "metadata": {},
     "output_type": "execute_result"
    }
   ],
   "source": [
    "b = np.column_stack((matrix_precision[:,:4],np.mean(matrix_precision[:,:4],axis=1)))\n",
    "b"
   ]
  },
  {
   "cell_type": "code",
   "execution_count": null,
   "id": "3f40ce28",
   "metadata": {},
   "outputs": [],
   "source": []
  },
  {
   "cell_type": "markdown",
   "id": "ea63d73d",
   "metadata": {},
   "source": [
    "## Les 4 cas"
   ]
  },
  {
   "cell_type": "code",
   "execution_count": 36,
   "id": "64b40bf1",
   "metadata": {},
   "outputs": [
    {
     "data": {
      "text/plain": [
       "4"
      ]
     },
     "execution_count": 36,
     "metadata": {},
     "output_type": "execute_result"
    }
   ],
   "source": [
    "# fonction sert à obtenir les cas\n",
    "def get_cat(string):\n",
    "    dico_cas = eval(string)\n",
    "    cas = []\n",
    "    for i in dico_cas.values():\n",
    "        cas.append(i)\n",
    "    if len(cas)==1:\n",
    "        return cas[0]\n",
    "    else:\n",
    "        if 1 in cas:\n",
    "            return 1\n",
    "        elif 2 in cas:\n",
    "            return 2\n",
    "        elif 4 in cas:\n",
    "            return 4\n",
    "        else:\n",
    "            return cas[-1]\n",
    "# test\n",
    "get_cat(\"{'2434': 4}\")"
   ]
  },
  {
   "cell_type": "code",
   "execution_count": 73,
   "id": "baed8f5c",
   "metadata": {},
   "outputs": [
    {
     "name": "stdout",
     "output_type": "stream",
     "text": [
      "265\n"
     ]
    },
    {
     "data": {
      "text/html": [
       "<div>\n",
       "<style scoped>\n",
       "    .dataframe tbody tr th:only-of-type {\n",
       "        vertical-align: middle;\n",
       "    }\n",
       "\n",
       "    .dataframe tbody tr th {\n",
       "        vertical-align: top;\n",
       "    }\n",
       "\n",
       "    .dataframe thead th {\n",
       "        text-align: right;\n",
       "    }\n",
       "</style>\n",
       "<table border=\"1\" class=\"dataframe\">\n",
       "  <thead>\n",
       "    <tr style=\"text-align: right;\">\n",
       "      <th></th>\n",
       "      <th>FICHIER</th>\n",
       "      <th>PHRASE</th>\n",
       "      <th>TOKENS</th>\n",
       "      <th>COREF</th>\n",
       "      <th>CAS</th>\n",
       "      <th>CHAINE(S)</th>\n",
       "      <th>VALIDATION</th>\n",
       "      <th>DEGRE DE COMPOSITIONNALITE</th>\n",
       "      <th>SOURCE D'ERREUR</th>\n",
       "      <th>LEMMES</th>\n",
       "      <th>TYPE</th>\n",
       "      <th>CORPUS</th>\n",
       "      <th>error_mwe</th>\n",
       "      <th>real_type</th>\n",
       "    </tr>\n",
       "  </thead>\n",
       "  <tbody>\n",
       "    <tr>\n",
       "      <th>0</th>\n",
       "      <td>023_C_mwe_coref.cupt</td>\n",
       "      <td>bah parce que celui qui reçoit une lettre qui ...</td>\n",
       "      <td>['donne', 'impression']</td>\n",
       "      <td>['*', '273:2434']</td>\n",
       "      <td>4</td>\n",
       "      <td>{'273': '{'2434': ['mauvaise', 'impression'], ...</td>\n",
       "      <td>vrai</td>\n",
       "      <td>moyen</td>\n",
       "      <td>[]</td>\n",
       "      <td>[donner, impression]</td>\n",
       "      <td>LVC.cause</td>\n",
       "      <td>ancor_ESLO_ANCOR</td>\n",
       "      <td>False</td>\n",
       "      <td>LVC.cause</td>\n",
       "    </tr>\n",
       "    <tr>\n",
       "      <th>40</th>\n",
       "      <td>015_C-1_mwe_coref.cupt</td>\n",
       "      <td>oui mais enfin elles ont quand même eu le temp...</td>\n",
       "      <td>['eu', 'le', 'temps']</td>\n",
       "      <td>['*', '5:66', '5:66']</td>\n",
       "      <td>3</td>\n",
       "      <td>{'5': '{'63': ['de', 'temps'], '66': ['le', 't...</td>\n",
       "      <td>vrai</td>\n",
       "      <td>moyen</td>\n",
       "      <td>[]</td>\n",
       "      <td>[avoir, le, temps]</td>\n",
       "      <td>VID</td>\n",
       "      <td>ancor_ESLO_ANCOR</td>\n",
       "      <td>False</td>\n",
       "      <td>VID</td>\n",
       "    </tr>\n",
       "    <tr>\n",
       "      <th>62</th>\n",
       "      <td>010_C-3_mwe_coref.cupt</td>\n",
       "      <td>ah oui v- vous avez le temps ? c' est c' est c...</td>\n",
       "      <td>['avez', 'le', 'temps']</td>\n",
       "      <td>['*', '64:549', '64:549']</td>\n",
       "      <td>3</td>\n",
       "      <td>{'64': '{'415': ['de', 'le', 'temps'], '549': ...</td>\n",
       "      <td>vrai</td>\n",
       "      <td>moyen</td>\n",
       "      <td>[]</td>\n",
       "      <td>[avoir, le, temps]</td>\n",
       "      <td>VID</td>\n",
       "      <td>ancor_ESLO_ANCOR</td>\n",
       "      <td>False</td>\n",
       "      <td>VID</td>\n",
       "    </tr>\n",
       "  </tbody>\n",
       "</table>\n",
       "</div>"
      ],
      "text/plain": [
       "                   FICHIER                                             PHRASE  \\\n",
       "0     023_C_mwe_coref.cupt  bah parce que celui qui reçoit une lettre qui ...   \n",
       "40  015_C-1_mwe_coref.cupt  oui mais enfin elles ont quand même eu le temp...   \n",
       "62  010_C-3_mwe_coref.cupt  ah oui v- vous avez le temps ? c' est c' est c...   \n",
       "\n",
       "                     TOKENS                      COREF  CAS  \\\n",
       "0   ['donne', 'impression']          ['*', '273:2434']    4   \n",
       "40    ['eu', 'le', 'temps']      ['*', '5:66', '5:66']    3   \n",
       "62  ['avez', 'le', 'temps']  ['*', '64:549', '64:549']    3   \n",
       "\n",
       "                                            CHAINE(S) VALIDATION  \\\n",
       "0   {'273': '{'2434': ['mauvaise', 'impression'], ...       vrai   \n",
       "40  {'5': '{'63': ['de', 'temps'], '66': ['le', 't...       vrai   \n",
       "62  {'64': '{'415': ['de', 'le', 'temps'], '549': ...       vrai   \n",
       "\n",
       "   DEGRE DE COMPOSITIONNALITE SOURCE D'ERREUR                LEMMES  \\\n",
       "0                       moyen              []  [donner, impression]   \n",
       "40                      moyen              []    [avoir, le, temps]   \n",
       "62                      moyen              []    [avoir, le, temps]   \n",
       "\n",
       "         TYPE            CORPUS  error_mwe  real_type  \n",
       "0   LVC.cause  ancor_ESLO_ANCOR      False  LVC.cause  \n",
       "40        VID  ancor_ESLO_ANCOR      False        VID  \n",
       "62        VID  ancor_ESLO_ANCOR      False        VID  "
      ]
     },
     "execution_count": 73,
     "metadata": {},
     "output_type": "execute_result"
    }
   ],
   "source": [
    "df_results = df_ancor.append(df_er)\n",
    "df_results = df_results.append(df_sequoia)\n",
    "df_results = df_results[df_results.error_mwe==False] # ici, les croisements avec fautes de MWE sont éliminés du calcul\n",
    "df_results[\"CAS\"] = df_results[\"CAS\"].map(get_cat)\n",
    "\n",
    "# choix de cas vrai\n",
    "df_results = df_results[df_results.VALIDATION == \"vrai\"]\n",
    "print(len(df_results))\n",
    "\n",
    "cas_count = df_results.groupby(\"TYPE\")[\"CAS\"].value_counts()\n",
    "df_results.head(3)"
   ]
  },
  {
   "cell_type": "code",
   "execution_count": 72,
   "id": "4145be6f",
   "metadata": {},
   "outputs": [
    {
     "data": {
      "text/plain": [
       "TYPE       CAS\n",
       "IRV        3        1\n",
       "LVC.cause  4        1\n",
       "LVC.full   4      210\n",
       "           3       22\n",
       "           1        3\n",
       "VID        3       20\n",
       "           4        8\n",
       "Name: CAS, dtype: int64"
      ]
     },
     "execution_count": 72,
     "metadata": {},
     "output_type": "execute_result"
    }
   ],
   "source": [
    " cas_count"
   ]
  },
  {
   "cell_type": "code",
   "execution_count": 64,
   "id": "c58c4ff7",
   "metadata": {},
   "outputs": [],
   "source": [
    "MWE_cat = ['VID', 'LVC.full', 'LVC.cause', 'IRV', \"total\"]\n",
    "\n",
    "cas_list = [1,2,3,4]\n",
    "nbre_cas = np.zeros(shape=(4,4))\n",
    "for i,cat in enumerate(MWE_cat):\n",
    "    for j,cas in enumerate(cas_list):\n",
    "        try:\n",
    "            nbre_cas[i,j] = cas_count[cat,cas]\n",
    "        except KeyError:\n",
    "            continue\n",
    "nbre_cas = np.row_stack((nbre_cas, np.sum(nbre_cas,axis=0)))"
   ]
  },
  {
   "cell_type": "code",
   "execution_count": 65,
   "id": "88840a85",
   "metadata": {},
   "outputs": [
    {
     "data": {
      "text/plain": [
       "array([[  0.,   0.,  20.,   8.],\n",
       "       [  3.,   0.,  22., 210.],\n",
       "       [  0.,   0.,   0.,   1.],\n",
       "       [  0.,   0.,   1.,   0.],\n",
       "       [  3.,   0.,  43., 219.]])"
      ]
     },
     "execution_count": 65,
     "metadata": {},
     "output_type": "execute_result"
    }
   ],
   "source": [
    "nbre_cas   #row : cat     col: cas"
   ]
  },
  {
   "cell_type": "code",
   "execution_count": 66,
   "id": "1d968f5b",
   "metadata": {
    "scrolled": true
   },
   "outputs": [
    {
     "data": {
      "text/plain": [
       "array([[  0.,   3.,   0.,   0.,   3.],\n",
       "       [  0.,   0.,   0.,   0.,   0.],\n",
       "       [ 20.,  22.,   0.,   1.,  43.],\n",
       "       [  8., 210.,   1.,   0., 219.]])"
      ]
     },
     "execution_count": 66,
     "metadata": {},
     "output_type": "execute_result"
    }
   ],
   "source": [
    "nbre_cas = nbre_cas.T\n",
    "nbre_cas  #row : cas    col: cat"
   ]
  },
  {
   "cell_type": "code",
   "execution_count": 76,
   "id": "793a5e76",
   "metadata": {},
   "outputs": [
    {
     "data": {
      "image/png": "[encoded data removed]",
      "text/plain": [
       "<Figure size 1080x576 with 1 Axes>"
      ]
     },
     "metadata": {
      "needs_background": "light"
     },
     "output_type": "display_data"
    }
   ],
   "source": [
    "# draw plot\n",
    "plt.figure(figsize=(15,8))\n",
    "col_num = 5\n",
    "x = np.arange(col_num)\n",
    "\n",
    "total_width,n = 0.8, 4\n",
    "width = total_width/n\n",
    "# x = x - total_width/2  #不知道为什么，但是不会居中，在第二个bar结束的地方\n",
    "x = x - (total_width - width) / 2\n",
    "\n",
    "# cas 1\n",
    "plt.bar(x,nbre_cas[0,:], width=width, label=f\"cas {cas_list[0]}\", color=\"lightgrey\")\n",
    "for a,b in zip(x,nbre_cas[0,:]):  #(a,b)  条形顶部中间在图中的位置 对应(x,y)\n",
    "    plt.text(a, b+0.001, \"%.0f\"%b, ha='center', va='bottom', fontsize=12)\n",
    "\n",
    "# cas 2\n",
    "plt.bar(x + width,nbre_cas[1,:], width=width, label=f\"cas {cas_list[1]}\", color=\"darkgrey\")\n",
    "for a,b in zip(x + width,nbre_cas[1,:]):  #(a,b)  条形顶部中间在图中的位置 对应(x,y)\n",
    "    plt.text(a, b+0.001, \"%.0f\"%b, ha='center', va='bottom', fontsize=12)\n",
    "    \n",
    "# cas 3\n",
    "plt.bar(x + width*2,nbre_cas[2,:], width=width, label=f\"cas {cas_list[2]}\", color=\"dimgrey\")\n",
    "for a,b in zip(x + width*2,nbre_cas[2,:]):  #(a,b)  条形顶部中间在图中的位置 对应(x,y)\n",
    "    plt.text(a, b+0.001, \"%.0f\"%b, ha='center', va='bottom', fontsize=12)\n",
    "\n",
    "# cas 4\n",
    "plt.bar(x + width*3,nbre_cas[3,:], width=width, label=f\"cas {cas_list[3]}\", color=\"black\")\n",
    "for a,b in zip(x + width*3,nbre_cas[3,:]):  #(a,b)  条形顶部中间在图中的位置 对应(x,y)\n",
    "    plt.text(a, b+0.001, \"%.0f\"%b, ha='center', va='bottom', fontsize=12)\n",
    "\n",
    "plt.legend(fontsize=15)  #加图例\n",
    "plt.xticks(x + width,MWE_cat,size=\"small\", fontsize=18)\n",
    "plt.xlabel(\"Occurences des cas dans chaque type de EPV\", fontsize=20)\n",
    "plt.ylabel(\"Nombre\", fontsize=20)\n",
    "\n",
    "plt.show()"
   ]
  },
  {
   "cell_type": "markdown",
   "id": "cf431a8c",
   "metadata": {},
   "source": [
    "## Ratio de croisements vrais / EPV vérifiées"
   ]
  },
  {
   "cell_type": "code",
   "execution_count": 38,
   "id": "2a656b05",
   "metadata": {},
   "outputs": [
    {
     "name": "stderr",
     "output_type": "stream",
     "text": [
      "<ipython-input-38-a43cd99ead8a>:2: RuntimeWarning: invalid value encountered in true_divide\n",
      "  vrai_nbre/crois_nbre\n"
     ]
    },
    {
     "data": {
      "text/plain": [
       "array([[0.02941176, 0.15602837, 0.        , 1.        ,        nan],\n",
       "       [0.        , 0.06818182,        nan, 0.        ,        nan],\n",
       "       [0.54716981, 0.75      , 1.        ,        nan,        nan]])"
      ]
     },
     "execution_count": 38,
     "metadata": {},
     "output_type": "execute_result"
    }
   ],
   "source": [
    "# use all\n",
    "vrai_nbre/crois_nbre"
   ]
  },
  {
   "cell_type": "code",
   "execution_count": 39,
   "id": "32f7e903",
   "metadata": {},
   "outputs": [
    {
     "data": {
      "text/plain": [
       "array([[0.00490196, 0.06470588, 0.        , 0.00757576, 0.        ],\n",
       "       [0.        , 0.02459016, 0.        , 0.        , 0.        ],\n",
       "       [0.00609244, 0.17325949, 0.16666667, 0.        , 0.        ]])"
      ]
     },
     "execution_count": 39,
     "metadata": {},
     "output_type": "execute_result"
    }
   ],
   "source": [
    "# use only sequoia\n",
    "vrai_nbre/mwe_nbre"
   ]
  },
  {
   "cell_type": "code",
   "execution_count": 40,
   "id": "37d12651",
   "metadata": {},
   "outputs": [
    {
     "name": "stderr",
     "output_type": "stream",
     "text": [
      "<ipython-input-40-a77f4b032fd5>:2: RuntimeWarning: invalid value encountered in true_divide\n",
      "  np.sum(vrai_nbre, axis=0)/np.sum(crois_nbre, axis=0)\n"
     ]
    },
    {
     "data": {
      "text/plain": [
       "array([0.25423729, 0.5115304 , 0.33333333, 0.5       ,        nan])"
      ]
     },
     "execution_count": 40,
     "metadata": {},
     "output_type": "execute_result"
    }
   ],
   "source": [
    "# influencé par les bruits\n",
    "np.sum(vrai_nbre, axis=0)/np.sum(crois_nbre, axis=0)"
   ]
  },
  {
   "cell_type": "code",
   "execution_count": 41,
   "id": "b92248e2",
   "metadata": {},
   "outputs": [
    {
     "data": {
      "text/plain": [
       "array([0.00569692, 0.14136732, 0.05555556])"
      ]
     },
     "execution_count": 41,
     "metadata": {},
     "output_type": "execute_result"
    }
   ],
   "source": [
    "# influencé par les bruits\n",
    "a = np.sum(vrai_nbre, axis=0)/np.sum(mwe_nbre, axis=0)\n",
    "a[:3]"
   ]
  },
  {
   "cell_type": "code",
   "execution_count": 42,
   "id": "6daa39ce",
   "metadata": {},
   "outputs": [
    {
     "name": "stdout",
     "output_type": "stream",
     "text": [
      "[[0.54716981 0.         0.02941176 0.00490196 0.25423729 0.00569692]\n",
      " [0.75       0.06818182 0.15602837 0.06470588 0.5115304  0.14136732]\n",
      " [1.         0.         0.         0.         0.33333333 0.05555556]\n",
      " [0.71965318 0.04       0.1299435  0.04159132 0.45986622 0.03922967]]\n"
     ]
    },
    {
     "name": "stderr",
     "output_type": "stream",
     "text": [
      "<ipython-input-42-b7385f78fdbe>:17: RuntimeWarning: invalid value encountered in true_divide\n",
      "  res_matrix[1] = vrai_nbre[1,:3] / crois_nbre[1,:3]\n"
     ]
    }
   ],
   "source": [
    "# 4 barres: VID, LVC.full et LVC.cause, total de 3 cat\n",
    "# 5 groupes : vrai/epv vérifie * 2 (sans Sequoia), vrai/epv (sequoia), vrai/epv vérifie (global), vrai/epv (global, biaisé possible)\n",
    "\n",
    "# results matrix\n",
    "labels = [\"vrais croisements/EPV vérifiés(ancor)\", \"vrais croisements/EPV vérifiés(er)\", \"vrais croisements/EPV vérifiés(sequoia)\",\n",
    "          \"vrais croisements/EPV annotés(sequoia)\", \"vrais croisements/EPV vérifiés(corpus total)\",\"vrais croisements/EPV détectés(corpus total)\"]\n",
    "bar_labels = [\"VID\",\"LVC.full\",\"LVC.cause\", \"Total(3 catégories)\"]\n",
    "\n",
    "res_matrix = np.zeros(shape=(6,3))\n",
    "# global of cat\n",
    "global_cat = np.zeros(shape=(6,1))\n",
    "\n",
    "# subcorpus\n",
    "res_matrix[0] = vrai_nbre[2,:3] / crois_nbre[2,:3]  # vrai_val_ancor\n",
    "global_cat[0] = np.sum(vrai_nbre[2,:3])/np.sum(crois_nbre[2,:3]) #不区分cat\n",
    "\n",
    "res_matrix[1] = vrai_nbre[1,:3] / crois_nbre[1,:3]\n",
    "global_cat[1] = np.sum(vrai_nbre[1,:3])/np.sum(crois_nbre[1,:3])\n",
    "\n",
    "res_matrix[2] = vrai_nbre[0,:3] / crois_nbre[0,:3]\n",
    "global_cat[2] = np.sum(vrai_nbre[0,:3])/np.sum(crois_nbre[0,:3])\n",
    "\n",
    "res_matrix[3] = vrai_nbre[0,:3] / mwe_nbre[0,:3]\n",
    "global_cat[3] = np.sum(vrai_nbre[0,:3])/np.sum(mwe_nbre[0,:3])\n",
    "\n",
    "# global\n",
    "res_matrix[4] = np.sum(vrai_nbre[:,:3], axis=0)/np.sum(crois_nbre[:,:3], axis=0)\n",
    "global_cat[4] = np.sum(vrai_nbre[:,:3])/np.sum(crois_nbre[:,:3])\n",
    "\n",
    "res_matrix[5] = np.sum(vrai_nbre[:,:3], axis=0)/np.sum(mwe_nbre[:,:3], axis=0)\n",
    "global_cat[5] = np.sum(vrai_nbre[:,:3])/np.sum(mwe_nbre[:,:3])\n",
    "\n",
    "# add global cat to the result metrix\n",
    "res_matrix = np.column_stack((res_matrix, global_cat))\n",
    "\n",
    "res_matrix[np.isnan(res_matrix)] = 0  # 用0填充nan值，nan来源于/0\n",
    "\n",
    "#transpose, to have cat as bar and each ratio as group\n",
    "res_matrix = res_matrix.T\n",
    "print(res_matrix)"
   ]
  },
  {
   "cell_type": "code",
   "execution_count": 62,
   "id": "cd29fefe",
   "metadata": {
    "scrolled": false
   },
   "outputs": [
    {
     "data": {
      "image/png": "[encoded data removed]",
      "text/plain": [
       "<Figure size 1080x576 with 1 Axes>"
      ]
     },
     "metadata": {
      "needs_background": "light"
     },
     "output_type": "display_data"
    }
   ],
   "source": [
    "# draw plot\n",
    "\n",
    "plt.figure(figsize=(15,8))\n",
    "col_num = 6\n",
    "x = np.arange(col_num)\n",
    "\n",
    "total_width,n = 0.8, 4\n",
    "width = total_width/n\n",
    "# x = x - total_width/2  #不知道为什么，但是不会居中，在第二个bar结束的地方\n",
    "x = x - (total_width - width) / 2\n",
    "\n",
    "# VID\n",
    "plt.bar(x,res_matrix[0,:], width=width, label=bar_labels[0], color=\"lightgrey\")\n",
    "for a,b in zip(x,res_matrix[0,:]):  #(a,b)  条形顶部中间在图中的位置 对应(x,y)\n",
    "    plt.text(a, b+0.001, \"%.2f%%\"%(b*100), ha='center', va='bottom', fontsize=10)\n",
    "\n",
    "#LVC.full\n",
    "plt.bar(x + width,res_matrix[1,:], width=width, label=bar_labels[1], color=\"darkgrey\")\n",
    "for a,b in zip(x + width,res_matrix[1,:]):  #(a,b)  条形顶部中间在图中的位置 对应(x,y)\n",
    "    plt.text(a, b+0.001, \"%.2f%%\"%(b*100), ha='center', va='bottom', fontsize=10)\n",
    "    \n",
    "#LVC.cause\n",
    "plt.bar(x + width*2,res_matrix[2,:], width=width, label=bar_labels[2], color=\"dimgrey\")\n",
    "for a,b in zip(x + width*2,res_matrix[2,:]):  #(a,b)  条形顶部中间在图中的位置 对应(x,y)\n",
    "    plt.text(a, b+0.001, \"%.2f%%\"%(b*100), ha='center', va='bottom', fontsize=10)\n",
    "\n",
    "#total\n",
    "plt.bar(x + width*3,res_matrix[3,:], width=width, label=bar_labels[3], color=\"black\")\n",
    "for a,b in zip(x + width*3,res_matrix[3,:]):  #(a,b)  条形顶部中间在图中的位置 对应(x,y)\n",
    "    plt.text(a, b+0.001, \"%.2f%%\"%(b*100), ha='center', va='bottom', fontsize=10)\n",
    "\n",
    "\n",
    "plt.legend(fontsize=15)  #加图例\n",
    "plt.xticks(x + width,labels,size=\"small\", rotation=15, fontsize=12)\n",
    "plt.xlabel(\"Manière de calculer le ratio\", fontsize=20)\n",
    "plt.ylabel(\"Ratio\", fontsize=20)\n",
    "\n",
    "plt.show()"
   ]
  },
  {
   "cell_type": "markdown",
   "id": "8944070d",
   "metadata": {},
   "source": [
    "### cas validation"
   ]
  },
  {
   "cell_type": "code",
   "execution_count": 67,
   "id": "b136cb7c",
   "metadata": {},
   "outputs": [],
   "source": [
    "df_results = df_ancor\n",
    "df_results = df_results.append(df_er)\n",
    "df_results = df_results.append(df_sequoia)\n",
    "df_results = df_results[df_results.error_mwe==False]\n",
    "df_results[\"CAS\"] = df_results[\"CAS\"].map(get_cat)\n",
    "\n",
    "cas_count = df_results.groupby(\"CAS\")[\"VALIDATION\"].value_counts()"
   ]
  },
  {
   "cell_type": "code",
   "execution_count": 68,
   "id": "ee01a94e",
   "metadata": {},
   "outputs": [
    {
     "data": {
      "text/plain": [
       "CAS  VALIDATION  \n",
       "1    faux             12\n",
       "     non concerné      9\n",
       "     vrai              3\n",
       "3    faux             46\n",
       "     vrai             43\n",
       "     répétitions      23\n",
       "     discutable        1\n",
       "4    vrai            219\n",
       "     faux            165\n",
       "     répétitions      76\n",
       "     discutable        3\n",
       "Name: VALIDATION, dtype: int64"
      ]
     },
     "execution_count": 68,
     "metadata": {},
     "output_type": "execute_result"
    }
   ],
   "source": [
    "cas_count"
   ]
  },
  {
   "cell_type": "code",
   "execution_count": 138,
   "id": "155a4035",
   "metadata": {},
   "outputs": [
    {
     "data": {
      "text/html": [
       "<div>\n",
       "<style scoped>\n",
       "    .dataframe tbody tr th:only-of-type {\n",
       "        vertical-align: middle;\n",
       "    }\n",
       "\n",
       "    .dataframe tbody tr th {\n",
       "        vertical-align: top;\n",
       "    }\n",
       "\n",
       "    .dataframe thead th {\n",
       "        text-align: right;\n",
       "    }\n",
       "</style>\n",
       "<table border=\"1\" class=\"dataframe\">\n",
       "  <thead>\n",
       "    <tr style=\"text-align: right;\">\n",
       "      <th></th>\n",
       "      <th>TOKENS</th>\n",
       "      <th>TYPE</th>\n",
       "      <th>PHRASE</th>\n",
       "      <th>CHAINE(S)</th>\n",
       "    </tr>\n",
       "  </thead>\n",
       "  <tbody>\n",
       "    <tr>\n",
       "      <th>63</th>\n",
       "      <td>['présentant', 'symptômes']</td>\n",
       "      <td>LVC.full</td>\n",
       "      <td>Le pourcentage de patients présentant des symptômes après l'injection était respectivement de 19,5%, 10,4%, 10,7% après la première, deuxième et troisième perfusion, dans une étude de plus petite taille où le traitement symptomatique décrit ci-dessous avait été utilisé.</td>\n",
       "      <td>{'329': '{'1042': ['ces', 'symptômes'], '1050': ['Le', 'pourcentage', 'de', 'patients', 'présentant', 'des', 'symptômes']}'}</td>\n",
       "    </tr>\n",
       "    <tr>\n",
       "      <th>131</th>\n",
       "      <td>['atteints', 'insuffisance']</td>\n",
       "      <td>LVC.full</td>\n",
       "      <td>Elle est réduite d'environ 20% chez les patients atteints d'insuffisance rénale modérée ou sévère et de 80% chez les patients dépendants de la dialyse (Tableau 11).</td>\n",
       "      <td>{'18': '{'1848': ['les', 'patients', 'à', 'fonction', 'rénale', 'normale'], '1850': ['les', 'patients'], '1854': ['les', 'patients', 'atteints', \"d'\", 'insuffisance', 'rénale', 'modérée', 'ou', 'sévère'], '1855': ['les', 'patients', 'atteints', \"d'\", 'insuffisance', 'rénale', 'modérée', 'ou', 's...</td>\n",
       "    </tr>\n",
       "    <tr>\n",
       "      <th>132</th>\n",
       "      <td>['atteints', 'insuffisance']</td>\n",
       "      <td>LVC.full</td>\n",
       "      <td>Chez les patients atteints d'insuffisance rénale, les paramètres de la coagulation tels que l'ACT peuvent être monitorés pendant un traitement par Angiox.</td>\n",
       "      <td>{'18': '{'1848': ['les', 'patients', 'à', 'fonction', 'rénale', 'normale'], '1850': ['les', 'patients'], '1854': ['les', 'patients', 'atteints', \"d'\", 'insuffisance', 'rénale', 'modérée', 'ou', 'sévère'], '1855': ['les', 'patients', 'atteints', \"d'\", 'insuffisance', 'rénale', 'modérée', 'ou', 's...</td>\n",
       "    </tr>\n",
       "  </tbody>\n",
       "</table>\n",
       "</div>"
      ],
      "text/plain": [
       "                           TOKENS      TYPE  \\\n",
       "63    ['présentant', 'symptômes']  LVC.full   \n",
       "131  ['atteints', 'insuffisance']  LVC.full   \n",
       "132  ['atteints', 'insuffisance']  LVC.full   \n",
       "\n",
       "                                                                                                                                                                                                                                                                             PHRASE  \\\n",
       "63   Le pourcentage de patients présentant des symptômes après l'injection était respectivement de 19,5%, 10,4%, 10,7% après la première, deuxième et troisième perfusion, dans une étude de plus petite taille où le traitement symptomatique décrit ci-dessous avait été utilisé.   \n",
       "131                                                                                                            Elle est réduite d'environ 20% chez les patients atteints d'insuffisance rénale modérée ou sévère et de 80% chez les patients dépendants de la dialyse (Tableau 11).   \n",
       "132                                                                                                                      Chez les patients atteints d'insuffisance rénale, les paramètres de la coagulation tels que l'ACT peuvent être monitorés pendant un traitement par Angiox.   \n",
       "\n",
       "                                                                                                                                                                                                                                                                                                       CHAINE(S)  \n",
       "63                                                                                                                                                                                  {'329': '{'1042': ['ces', 'symptômes'], '1050': ['Le', 'pourcentage', 'de', 'patients', 'présentant', 'des', 'symptômes']}'}  \n",
       "131  {'18': '{'1848': ['les', 'patients', 'à', 'fonction', 'rénale', 'normale'], '1850': ['les', 'patients'], '1854': ['les', 'patients', 'atteints', \"d'\", 'insuffisance', 'rénale', 'modérée', 'ou', 'sévère'], '1855': ['les', 'patients', 'atteints', \"d'\", 'insuffisance', 'rénale', 'modérée', 'ou', 's...  \n",
       "132  {'18': '{'1848': ['les', 'patients', 'à', 'fonction', 'rénale', 'normale'], '1850': ['les', 'patients'], '1854': ['les', 'patients', 'atteints', \"d'\", 'insuffisance', 'rénale', 'modérée', 'ou', 'sévère'], '1855': ['les', 'patients', 'atteints', \"d'\", 'insuffisance', 'rénale', 'modérée', 'ou', 's...  "
      ]
     },
     "execution_count": 138,
     "metadata": {},
     "output_type": "execute_result"
    }
   ],
   "source": [
    "pd.set_option(\"max_colwidth\", 300)\n",
    "vrai1 = df_results[(df_results.CAS==1) & (df_results.VALIDATION==\"vrai\")]\n",
    "vrai1.loc[:,[\"TOKENS\",\"TYPE\",\"PHRASE\",\"CHAINE(S)\"]]"
   ]
  },
  {
   "cell_type": "code",
   "execution_count": 86,
   "id": "3ed1c41a",
   "metadata": {},
   "outputs": [
    {
     "data": {
      "text/plain": [
       "VALIDATION\n",
       "faux            12\n",
       "non concerné     9\n",
       "vrai             3\n",
       "Name: VALIDATION, dtype: int64"
      ]
     },
     "execution_count": 86,
     "metadata": {},
     "output_type": "execute_result"
    }
   ],
   "source": [
    "cas_count[1]"
   ]
  },
  {
   "cell_type": "code",
   "execution_count": 104,
   "id": "cc572a81",
   "metadata": {},
   "outputs": [],
   "source": [
    "from matplotlib import cm\n",
    "from matplotlib import font_manager as fm"
   ]
  },
  {
   "cell_type": "code",
   "execution_count": 137,
   "id": "70b99a57",
   "metadata": {},
   "outputs": [
    {
     "data": {
      "image/png": "[encoded data removed]",
      "text/plain": [
       "<Figure size 864x504 with 3 Axes>"
      ]
     },
     "metadata": {},
     "output_type": "display_data"
    }
   ],
   "source": [
    "cas = [1,3,4]\n",
    "plt.figure(figsize=(12,7))\n",
    "\n",
    "for i in cas:\n",
    "    labels = cas_count[i].index\n",
    "    sizes = cas_count[i].values\n",
    "    \n",
    "    plt.subplot(2,2,i)\n",
    "    \n",
    "\n",
    "# fig1, axes = plt.subplots(figsize=(12,3), ncols=2, nrows=2)\n",
    "# ax1, ax2, ax3, ax4 = axes.ravel()\n",
    "\n",
    "    colors = cm.gray(np.arange(len(sizes))/len(sizes))\n",
    "\n",
    "    patches, texts, autotexts = plt.pie(sizes, autopct='%1.0f%%',\n",
    "                                    shadow=False, startangle=135, colors=colors,\n",
    "                                   labeldistance=1.15, pctdistance=1.15)\n",
    "\n",
    "#     ax1.axis('equal')\n",
    "    plt.axis('equal')\n",
    "\n",
    "    # font size\n",
    "    proptease = fm.FontProperties(size=\"large\")\n",
    "    # proptease.set_size('large') # font size include: ‘xx-small’,x-small’,'small’,'medium’,‘large’,‘x-large’,‘xx-large’ or number, e.g. '12'\n",
    "\n",
    "    plt.setp(autotexts, fontproperties=proptease)  # autotexts 是里面的百分数\n",
    "    plt.setp(texts, fontproperties=proptease)  #label\n",
    "\n",
    "# ax1.legend(patches, labels, loc=1)\n",
    "    plt.legend(patches, labels, loc=3)\n",
    "#     font1 = {'size':12}\n",
    "    plt.title(f\"CAS {i}\", loc=\"left\", fontdict={'size':15})\n",
    "\n",
    "\n",
    "    plt.tight_layout()\n",
    "plt.show()\n"
   ]
  },
  {
   "cell_type": "code",
   "execution_count": null,
   "id": "ec08797e",
   "metadata": {},
   "outputs": [],
   "source": []
  },
  {
   "cell_type": "code",
   "execution_count": null,
   "id": "5d17c84e",
   "metadata": {},
   "outputs": [],
   "source": []
  },
  {
   "cell_type": "code",
   "execution_count": null,
   "id": "534062b1",
   "metadata": {},
   "outputs": [],
   "source": []
  },
  {
   "cell_type": "code",
   "execution_count": null,
   "id": "9e0c6407",
   "metadata": {},
   "outputs": [],
   "source": []
  },
  {
   "cell_type": "code",
   "execution_count": null,
   "id": "b3dc16e5",
   "metadata": {},
   "outputs": [],
   "source": []
  },
  {
   "cell_type": "code",
   "execution_count": null,
   "id": "51c92374",
   "metadata": {},
   "outputs": [],
   "source": []
  },
  {
   "cell_type": "code",
   "execution_count": null,
   "id": "619d8d34",
   "metadata": {},
   "outputs": [],
   "source": []
  },
  {
   "cell_type": "code",
   "execution_count": 186,
   "id": "d90e35f5",
   "metadata": {},
   "outputs": [
    {
     "name": "stdout",
     "output_type": "stream",
     "text": [
      "27\n",
      "[12 15]\n"
     ]
    }
   ],
   "source": [
    "# test\n",
    "a = np.array([[1,2,3],[4,5,6],[7,8,9]])\n",
    "print(np.sum(a[:,:2]))\n",
    "print(np.sum(a[:,:2], axis=0))"
   ]
  },
  {
   "cell_type": "code",
   "execution_count": 127,
   "id": "7c1afa07",
   "metadata": {},
   "outputs": [
    {
     "data": {
      "text/plain": [
       "array([[0.4, 0.8, 0.4],\n",
       "       [0.1, 0.2, 0.1]])"
      ]
     },
     "execution_count": 127,
     "metadata": {},
     "output_type": "execute_result"
    }
   ],
   "source": [
    "a = np.array([[2,4,2],[1,2,1]])\n",
    "b = np.array([[5,5,5],[10,10,10]])\n",
    "a/b"
   ]
  },
  {
   "cell_type": "code",
   "execution_count": 192,
   "id": "b819a5ce",
   "metadata": {},
   "outputs": [
    {
     "name": "stdout",
     "output_type": "stream",
     "text": [
      "[[1. 1. 1.]\n",
      " [1. 1. 1.]\n",
      " [1. 1. 1.]\n",
      " [1. 1. 1.]\n",
      " [1. 1. 1.]]\n"
     ]
    },
    {
     "data": {
      "text/plain": [
       "array([[1., 1., 1., 0.],\n",
       "       [1., 1., 1., 1.],\n",
       "       [1., 1., 1., 0.],\n",
       "       [1., 1., 1., 0.],\n",
       "       [1., 1., 1., 0.]])"
      ]
     },
     "execution_count": 192,
     "metadata": {},
     "output_type": "execute_result"
    }
   ],
   "source": [
    "# test\n",
    "test = np.ones(shape=(5,3))\n",
    "print(test)\n",
    "global_cat = np.zeros(shape=(5,1))\n",
    "global_cat[1] = 1\n",
    "test = np.column_stack((test,global_cat))\n",
    "test"
   ]
  },
  {
   "cell_type": "code",
   "execution_count": 44,
   "id": "bd82ee16",
   "metadata": {},
   "outputs": [
    {
     "data": {
      "text/plain": [
       "array([[1, 2, 3],\n",
       "       [2, 4, 3]])"
      ]
     },
     "execution_count": 44,
     "metadata": {},
     "output_type": "execute_result"
    }
   ],
   "source": [
    "# 要包两层[[]]  矩阵和矩阵间的\n",
    "\n",
    "a = np.array([[1,2,3]])\n",
    "b = np.array([[2,4,3]])\n",
    "c = np.r_[a,b]\n",
    "c"
   ]
  },
  {
   "cell_type": "code",
   "execution_count": 46,
   "id": "7824be27",
   "metadata": {},
   "outputs": [
    {
     "data": {
      "text/plain": [
       "array([2, 4, 3])"
      ]
     },
     "execution_count": 46,
     "metadata": {},
     "output_type": "execute_result"
    }
   ],
   "source": [
    "c[1,:]"
   ]
  },
  {
   "cell_type": "code",
   "execution_count": 80,
   "id": "25c42889",
   "metadata": {},
   "outputs": [
    {
     "name": "stdout",
     "output_type": "stream",
     "text": [
      "[[1 2 3]\n",
      " [2 4 3]]\n"
     ]
    },
    {
     "data": {
      "text/plain": [
       "array([3, 6, 6])"
      ]
     },
     "execution_count": 80,
     "metadata": {},
     "output_type": "execute_result"
    }
   ],
   "source": [
    "# row_stack 用括号\n",
    "\n",
    "a = np.array([1,2,3])\n",
    "b = np.array([2,4,3])\n",
    "c = np.row_stack((a,b))\n",
    "print(c)\n",
    "np.sum(c,axis=0)"
   ]
  },
  {
   "cell_type": "code",
   "execution_count": null,
   "id": "a4c9866b",
   "metadata": {},
   "outputs": [],
   "source": []
  },
  {
   "cell_type": "code",
   "execution_count": 211,
   "id": "0a2dfa12",
   "metadata": {},
   "outputs": [
    {
     "name": "stdout",
     "output_type": "stream",
     "text": [
      "[0 1]\n",
      "[2 3]\n",
      "[0 4]\n",
      "[1 0]\n",
      "[2 7]\n"
     ]
    }
   ],
   "source": [
    "size = 2\n",
    "x = np.arange(size)\n",
    "a = np.array([2,3])\n",
    "b = np.array([0,4])\n",
    "c = np.array([1,0])\n",
    "print(x)\n",
    "print(a)\n",
    "print(b)\n",
    "print(c)\n",
    "print(a+b)"
   ]
  },
  {
   "cell_type": "code",
   "execution_count": 212,
   "id": "b9254e9a",
   "metadata": {},
   "outputs": [
    {
     "data": {
      "image/png": "[encoded data removed]",
      "text/plain": [
       "<Figure size 432x288 with 1 Axes>"
      ]
     },
     "metadata": {
      "needs_background": "light"
     },
     "output_type": "display_data"
    }
   ],
   "source": [
    "plt.bar(x, a, label='a')\n",
    "plt.bar(x, b, bottom=a, label='b')\n",
    "plt.bar(x, c, bottom=a+b, label='c')\n",
    "plt.legend()\n",
    "plt.show()"
   ]
  },
  {
   "cell_type": "code",
   "execution_count": 49,
   "id": "17f4cc81",
   "metadata": {},
   "outputs": [
    {
     "data": {
      "image/png": "[encoded data removed]",
      "text/plain": [
       "<Figure size 432x288 with 1 Axes>"
      ]
     },
     "metadata": {
      "needs_background": "light"
     },
     "output_type": "display_data"
    }
   ],
   "source": [
    "a = [5]\n",
    "b = [2]\n",
    "c = [2]\n",
    "x = 1\n",
    "p1 = plt.bar(x, a, 1, color=\"lightgray\")  # MWE\n",
    "p2 = plt.bar(x, b, 1, color=\"black\")    # vrai\n",
    "p3 = plt.bar(x, c, 1, bottom=b, color=\"gray\")  # croisement\n",
    "plt.show()"
   ]
  }
 ],
 "metadata": {
  "kernelspec": {
   "display_name": "Python 3",
   "language": "python",
   "name": "python3"
  },
  "language_info": {
   "codemirror_mode": {
    "name": "ipython",
    "version": 3
   },
   "file_extension": ".py",
   "mimetype": "text/x-python",
   "name": "python",
   "nbconvert_exporter": "python",
   "pygments_lexer": "ipython3",
   "version": "3.8.8"
  }
 },
 "nbformat": 4,
 "nbformat_minor": 5
}
